{
 "cells": [
  {
   "cell_type": "markdown",
   "id": "4577f63f",
   "metadata": {},
   "source": [
    "## Cadences Network Visualization with Louvain Communities\n",
    "\n"
   ]
  },
  {
   "cell_type": "code",
   "execution_count": 1,
   "id": "5d5c1fd5",
   "metadata": {},
   "outputs": [
    {
     "name": "stdout",
     "output_type": "stream",
     "text": [
      "saved_csv folder already exists.\n"
     ]
    }
   ],
   "source": [
    "import intervals\n",
    "from intervals import * \n",
    "from intervals import main_objs\n",
    "import intervals.visualizations as viz\n",
    "import pandas as pd\n",
    "import re\n",
    "import altair as alt \n",
    "from ipywidgets import interact\n",
    "from pandas.io.json import json_normalize\n",
    "from pyvis.network import Network\n",
    "from IPython.display import display\n",
    "import requests\n",
    "import os\n",
    "import numpy as np\n",
    "import itertools\n",
    "from itertools import combinations\n",
    "import networkx as nx\n",
    "from community import community_louvain\n",
    "from copy import deepcopy\n",
    "MYDIR = (\"saved_csv\")\n",
    "CHECK_FOLDER = os.path.isdir(MYDIR)\n",
    "\n",
    "# If folder doesn't exist, then create it.\n",
    "if not CHECK_FOLDER:\n",
    "    os.makedirs(MYDIR)\n",
    "    print(\"created folder : \", MYDIR)\n",
    "\n",
    "else:\n",
    "    print(MYDIR, \"folder already exists.\")"
   ]
  },
  {
   "cell_type": "code",
   "execution_count": 2,
   "id": "b038442a",
   "metadata": {},
   "outputs": [
    {
     "name": "stdout",
     "output_type": "stream",
     "text": [
      "Downloading remote score...\n",
      "Successfully imported https://crimproject.org/mei/CRIM_Model_0019.mei\n",
      "Downloading remote score...\n",
      "Successfully imported https://crimproject.org/mei/CRIM_Mass_0019_1.mei\n",
      "Downloading remote score...\n",
      "Successfully imported https://crimproject.org/mei/CRIM_Mass_0019_2.mei\n",
      "Downloading remote score...\n",
      "Successfully imported https://crimproject.org/mei/CRIM_Mass_0019_3.mei\n",
      "Downloading remote score...\n",
      "Successfully imported https://crimproject.org/mei/CRIM_Mass_0019_4.mei\n",
      "Downloading remote score...\n",
      "Successfully imported https://crimproject.org/mei/CRIM_Mass_0019_5.mei\n"
     ]
    }
   ],
   "source": [
    "# Example using batch to count the cadence types from multiple pieces:\n",
    "corpus = CorpusBase(['https://crimproject.org/mei/CRIM_Model_0019.mei',\n",
    "                     'https://crimproject.org/mei/CRIM_Mass_0019_1.mei',\n",
    "                    'https://crimproject.org/mei/CRIM_Mass_0019_2.mei',\n",
    "                     'https://crimproject.org/mei/CRIM_Mass_0019_3.mei'\n",
    "                    ,'https://crimproject.org/mei/CRIM_Mass_0019_4.mei',\n",
    "                    'https://crimproject.org/mei/CRIM_Mass_0019_5.mei'])\n",
    "list_of_dfs = corpus.batch(ImportedPiece.classifyCadences, metadata=True)\n",
    "combined_df = pd.concat(list_of_dfs, ignore_index=True)\n",
    "combined_df['all_features'] = combined_df['CadType'] + \"_\" + combined_df['Tone'] + \"_\" + combined_df['Evaded'].apply(str) + \"_\" + combined_df['Beat'].apply(str)\n",
    "combined_df['some_features'] = combined_df['CadType'] + \"_\" + combined_df['Tone']\n",
    "combined_df.copy\n",
    "combined_df[\"shifted_all_feat\"] = combined_df.groupby(\"Title\")['all_features'].shift(-1)"
   ]
  },
  {
   "cell_type": "code",
   "execution_count": 3,
   "id": "02c7cce9",
   "metadata": {},
   "outputs": [
    {
     "data": {
      "text/html": [
       "<div>\n",
       "<style scoped>\n",
       "    .dataframe tbody tr th:only-of-type {\n",
       "        vertical-align: middle;\n",
       "    }\n",
       "\n",
       "    .dataframe tbody tr th {\n",
       "        vertical-align: top;\n",
       "    }\n",
       "\n",
       "    .dataframe thead th {\n",
       "        text-align: right;\n",
       "    }\n",
       "</style>\n",
       "<table border=\"1\" class=\"dataframe\">\n",
       "  <thead>\n",
       "    <tr style=\"text-align: right;\">\n",
       "      <th></th>\n",
       "      <th>CadType</th>\n",
       "      <th>Evaded</th>\n",
       "      <th>LeadingTones</th>\n",
       "      <th>Low</th>\n",
       "      <th>RelLow</th>\n",
       "      <th>Tone</th>\n",
       "      <th>RelTone</th>\n",
       "      <th>Measure</th>\n",
       "      <th>Beat</th>\n",
       "      <th>Progress</th>\n",
       "      <th>SinceLast</th>\n",
       "      <th>ToNext</th>\n",
       "      <th>Composer</th>\n",
       "      <th>Title</th>\n",
       "      <th>all_features</th>\n",
       "      <th>some_features</th>\n",
       "      <th>shifted_all_feat</th>\n",
       "    </tr>\n",
       "  </thead>\n",
       "  <tbody>\n",
       "    <tr>\n",
       "      <th>0</th>\n",
       "      <td>NaN</td>\n",
       "      <td>NaN</td>\n",
       "      <td>NaN</td>\n",
       "      <td>G3</td>\n",
       "      <td>P1</td>\n",
       "      <td>G</td>\n",
       "      <td>P1</td>\n",
       "      <td>7</td>\n",
       "      <td>1.0</td>\n",
       "      <td>0.090909</td>\n",
       "      <td>48.0</td>\n",
       "      <td>36.0</td>\n",
       "      <td>Palestrina, Giovanni Pierluigi da</td>\n",
       "      <td>Veni sponsa Christi</td>\n",
       "      <td>NaN</td>\n",
       "      <td>NaN</td>\n",
       "      <td>Clausula Vera_G_True_3.0</td>\n",
       "    </tr>\n",
       "    <tr>\n",
       "      <th>1</th>\n",
       "      <td>Clausula Vera</td>\n",
       "      <td>True</td>\n",
       "      <td>1.0</td>\n",
       "      <td>G3</td>\n",
       "      <td>P1</td>\n",
       "      <td>G</td>\n",
       "      <td>P1</td>\n",
       "      <td>11</td>\n",
       "      <td>3.0</td>\n",
       "      <td>0.159091</td>\n",
       "      <td>36.0</td>\n",
       "      <td>52.0</td>\n",
       "      <td>Palestrina, Giovanni Pierluigi da</td>\n",
       "      <td>Veni sponsa Christi</td>\n",
       "      <td>Clausula Vera_G_True_3.0</td>\n",
       "      <td>Clausula Vera_G</td>\n",
       "      <td>Authentic_G_True_1.0</td>\n",
       "    </tr>\n",
       "    <tr>\n",
       "      <th>2</th>\n",
       "      <td>Authentic</td>\n",
       "      <td>True</td>\n",
       "      <td>1.0</td>\n",
       "      <td>B3</td>\n",
       "      <td>M3</td>\n",
       "      <td>G</td>\n",
       "      <td>P1</td>\n",
       "      <td>18</td>\n",
       "      <td>1.0</td>\n",
       "      <td>0.257576</td>\n",
       "      <td>52.0</td>\n",
       "      <td>16.0</td>\n",
       "      <td>Palestrina, Giovanni Pierluigi da</td>\n",
       "      <td>Veni sponsa Christi</td>\n",
       "      <td>Authentic_G_True_1.0</td>\n",
       "      <td>Authentic_G</td>\n",
       "      <td>Authentic_G_False_1.0</td>\n",
       "    </tr>\n",
       "    <tr>\n",
       "      <th>3</th>\n",
       "      <td>Authentic</td>\n",
       "      <td>False</td>\n",
       "      <td>1.0</td>\n",
       "      <td>G3</td>\n",
       "      <td>P1</td>\n",
       "      <td>G</td>\n",
       "      <td>P1</td>\n",
       "      <td>20</td>\n",
       "      <td>1.0</td>\n",
       "      <td>0.287879</td>\n",
       "      <td>16.0</td>\n",
       "      <td>100.0</td>\n",
       "      <td>Palestrina, Giovanni Pierluigi da</td>\n",
       "      <td>Veni sponsa Christi</td>\n",
       "      <td>Authentic_G_False_1.0</td>\n",
       "      <td>Authentic_G</td>\n",
       "      <td>Clausula Vera_C_True_3.0</td>\n",
       "    </tr>\n",
       "    <tr>\n",
       "      <th>4</th>\n",
       "      <td>Clausula Vera</td>\n",
       "      <td>True</td>\n",
       "      <td>1.0</td>\n",
       "      <td>C4</td>\n",
       "      <td>P4</td>\n",
       "      <td>C</td>\n",
       "      <td>-P5</td>\n",
       "      <td>32</td>\n",
       "      <td>3.0</td>\n",
       "      <td>0.477273</td>\n",
       "      <td>100.0</td>\n",
       "      <td>44.0</td>\n",
       "      <td>Palestrina, Giovanni Pierluigi da</td>\n",
       "      <td>Veni sponsa Christi</td>\n",
       "      <td>Clausula Vera_C_True_3.0</td>\n",
       "      <td>Clausula Vera_C</td>\n",
       "      <td>Authentic_C_False_1.0</td>\n",
       "    </tr>\n",
       "  </tbody>\n",
       "</table>\n",
       "</div>"
      ],
      "text/plain": [
       "         CadType Evaded  LeadingTones Low RelLow Tone RelTone  Measure  Beat  \\\n",
       "0            NaN    NaN           NaN  G3     P1    G      P1        7   1.0   \n",
       "1  Clausula Vera   True           1.0  G3     P1    G      P1       11   3.0   \n",
       "2      Authentic   True           1.0  B3     M3    G      P1       18   1.0   \n",
       "3      Authentic  False           1.0  G3     P1    G      P1       20   1.0   \n",
       "4  Clausula Vera   True           1.0  C4     P4    C     -P5       32   3.0   \n",
       "\n",
       "   Progress  SinceLast  ToNext                           Composer  \\\n",
       "0  0.090909       48.0    36.0  Palestrina, Giovanni Pierluigi da   \n",
       "1  0.159091       36.0    52.0  Palestrina, Giovanni Pierluigi da   \n",
       "2  0.257576       52.0    16.0  Palestrina, Giovanni Pierluigi da   \n",
       "3  0.287879       16.0   100.0  Palestrina, Giovanni Pierluigi da   \n",
       "4  0.477273      100.0    44.0  Palestrina, Giovanni Pierluigi da   \n",
       "\n",
       "                 Title              all_features    some_features  \\\n",
       "0  Veni sponsa Christi                       NaN              NaN   \n",
       "1  Veni sponsa Christi  Clausula Vera_G_True_3.0  Clausula Vera_G   \n",
       "2  Veni sponsa Christi      Authentic_G_True_1.0      Authentic_G   \n",
       "3  Veni sponsa Christi     Authentic_G_False_1.0      Authentic_G   \n",
       "4  Veni sponsa Christi  Clausula Vera_C_True_3.0  Clausula Vera_C   \n",
       "\n",
       "           shifted_all_feat  \n",
       "0  Clausula Vera_G_True_3.0  \n",
       "1      Authentic_G_True_1.0  \n",
       "2     Authentic_G_False_1.0  \n",
       "3  Clausula Vera_C_True_3.0  \n",
       "4     Authentic_C_False_1.0  "
      ]
     },
     "execution_count": 3,
     "metadata": {},
     "output_type": "execute_result"
    }
   ],
   "source": [
    "combined_df.head()"
   ]
  },
  {
   "cell_type": "markdown",
   "id": "0ff9d5d6",
   "metadata": {},
   "source": [
    "### Network Visualization with Louvain Communities"
   ]
  },
  {
   "cell_type": "code",
   "execution_count": 8,
   "id": "08e26ce7",
   "metadata": {},
   "outputs": [],
   "source": [
    "combined_df = combined_df.dropna(subset=['all_features', 'shifted_all_feat'])\n",
    "cadence_pairs = list(zip(combined_df.all_features, combined_df.shifted_all_feat))"
   ]
  },
  {
   "cell_type": "code",
   "execution_count": 9,
   "id": "63f62db4",
   "metadata": {},
   "outputs": [
    {
     "data": {
      "text/plain": [
       "35"
      ]
     },
     "execution_count": 9,
     "metadata": {},
     "output_type": "execute_result"
    }
   ],
   "source": [
    "combined_df['all_features'].nunique()"
   ]
  },
  {
   "cell_type": "code",
   "execution_count": 10,
   "id": "49d3edba",
   "metadata": {},
   "outputs": [
    {
     "data": {
      "text/plain": [
       "[('Clausula Vera_G_True_3.0', 'Authentic_G_True_1.0'),\n",
       " ('Authentic_G_True_1.0', 'Authentic_G_False_1.0'),\n",
       " ('Authentic_G_False_1.0', 'Clausula Vera_C_True_3.0'),\n",
       " ('Clausula Vera_C_True_3.0', 'Authentic_C_False_1.0'),\n",
       " ('Authentic_C_False_1.0', 'Authentic_A_False_1.0'),\n",
       " ('Clausula Vera_A_False_3.0', 'Authentic_D_False_1.0'),\n",
       " ('Authentic_D_False_1.0', 'Altizans Only_D_False_1.0'),\n",
       " ('Altizans Only_D_False_1.0', 'Authentic_A_False_3.0'),\n",
       " ('Clausula Vera_G_False_1.0', 'Clausula Vera_D_False_3.0'),\n",
       " ('Clausula Vera_D_False_3.0', 'Authentic_G_False_1.0'),\n",
       " ('Authentic_G_False_1.0', 'Clausula Vera_G_True_3.0'),\n",
       " ('Clausula Vera_G_True_3.0', 'Authentic_C_True_4.0'),\n",
       " ('Authentic_C_True_4.0', 'Authentic_G_True_2.0'),\n",
       " ('Authentic_G_True_2.0', 'Authentic_C_False_3.0'),\n",
       " ('Authentic_C_False_3.0', 'Authentic_A_False_3.0'),\n",
       " ('Authentic_A_False_3.0', 'Clausula Vera_A_False_3.0'),\n",
       " ('Clausula Vera_A_False_3.0', 'Clausula Vera_A_False_3.0'),\n",
       " ('Clausula Vera_A_False_3.0', 'Clausula Vera_D_False_3.0'),\n",
       " ('Phrygian_E_False_2.0', 'Authentic_G_False_1.0'),\n",
       " ('Clausula Vera_G_True_1.0', 'Clausula Vera_G_False_3.0'),\n",
       " ('Clausula Vera_G_False_3.0', 'Clausula Vera_C_True_3.0'),\n",
       " ('Clausula Vera_C_True_3.0', 'Clausula Vera_G_False_1.0'),\n",
       " ('Clausula Vera_G_False_1.0', 'Authentic_F_False_1.0'),\n",
       " ('Authentic_F_False_1.0', 'Authentic_G_False_3.0'),\n",
       " ('Authentic_G_False_3.0', 'Authentic_D_False_1.0'),\n",
       " ('Authentic_D_False_1.0', 'Phrygian_E_False_1.0'),\n",
       " ('Phrygian_E_False_1.0', 'Phrygian_B_False_2.0'),\n",
       " ('Phrygian_B_False_2.0', 'Authentic_G_False_1.0'),\n",
       " ('Authentic_G_False_1.0', 'Clausula Vera_G_True_1.0'),\n",
       " ('Clausula Vera_G_True_1.0', 'Clausula Vera_C_False_1.0'),\n",
       " ('Authentic_G_False_3.0', 'Clausula Vera_A_False_1.0'),\n",
       " ('Authentic_D_False_1.0', 'Clausula Vera_G_False_3.0'),\n",
       " ('Clausula Vera_G_False_3.0', 'Clausula Vera_C_False_1.0'),\n",
       " ('Clausula Vera_C_False_1.0', 'Authentic_F_False_1.0'),\n",
       " ('Authentic_F_False_1.0', 'Clausula Vera_A_False_1.0'),\n",
       " ('Clausula Vera_A_False_1.0', 'Authentic_G_False_1.0'),\n",
       " ('Clausula Vera_G_True_1.0', 'Authentic_F_False_1.0'),\n",
       " ('Authentic_F_False_1.0', 'Clausula Vera_G_False_3.0'),\n",
       " ('Clausula Vera_G_False_3.0', 'Clausula Vera_C_False_3.0'),\n",
       " ('Clausula Vera_C_False_3.0', 'Clausula Vera_A_False_3.0'),\n",
       " ('Clausula Vera_A_False_3.0', 'Authentic_C_False_1.0'),\n",
       " ('Authentic_C_False_1.0', 'Authentic_G_False_1.0'),\n",
       " ('Authentic_A_True_1.0', 'Authentic_G_True_1.0'),\n",
       " ('Authentic_G_True_1.0', 'Clausula Vera_C_False_1.0'),\n",
       " ('Clausula Vera_C_False_1.0', 'Authentic_G_False_1.0'),\n",
       " ('Authentic_C_False_1.0', 'Clausula Vera_D_False_3.0'),\n",
       " ('Clausula Vera_D_False_3.0', 'Clausula Vera_A_True_1.0'),\n",
       " ('Clausula Vera_A_True_1.0', 'Authentic_C_False_1.0'),\n",
       " ('Authentic_C_False_1.0', 'Authentic_C_False_1.0'),\n",
       " ('Authentic_C_False_1.0', 'Authentic_C_True_2.0'),\n",
       " ('Authentic_C_True_2.0', 'Authentic_A_False_1.0'),\n",
       " ('Authentic_A_False_1.0', 'Authentic_C_True_3.0'),\n",
       " ('Authentic_C_True_3.0', 'Authentic_G_False_1.0'),\n",
       " ('Authentic_C_True_1.0', 'Authentic_G_True_3.0'),\n",
       " ('Authentic_G_True_3.0', 'Clausula Vera_C_True_1.0'),\n",
       " ('Clausula Vera_C_True_1.0', 'Authentic_G_False_1.0'),\n",
       " ('Authentic_G_False_1.0', 'Clausula Vera_A_False_3.0'),\n",
       " ('Altizans Only_D_False_1.0', 'Authentic_G_True_1.0'),\n",
       " ('Authentic_G_True_1.0', 'Clausula Vera_C_False_1.0'),\n",
       " ('Authentic_G_True_1.0', 'Clausula Vera_C_True_1.0'),\n",
       " ('Clausula Vera_C_True_1.0', 'Clausula Vera_C_True_1.0'),\n",
       " ('Clausula Vera_C_True_1.0', 'Authentic_C_False_3.0'),\n",
       " ('Authentic_C_False_3.0', 'Clausula Vera_A_False_1.0'),\n",
       " ('Clausula Vera_A_False_1.0', 'Clausula Vera_D_False_1.0'),\n",
       " ('Clausula Vera_D_False_1.0', 'Authentic_G_False_1.0'),\n",
       " ('Authentic_G_False_1.0', 'Clausula Vera_G_True_3.0'),\n",
       " ('Clausula Vera_G_True_3.0', 'Clausula Vera_G_False_3.0'),\n",
       " ('Phrygian_E_False_1.0', 'Authentic_A_False_3.0'),\n",
       " ('Clausula Vera_D_False_4.0', 'Clausula Vera_A_False_3.0'),\n",
       " ('Clausula Vera_D_False_3.0', 'Clausula Vera_D_False_3.0'),\n",
       " ('Clausula Vera_D_False_3.0', 'Authentic_D_False_3.0'),\n",
       " ('Authentic_D_False_3.0', 'Authentic_G_False_1.0'),\n",
       " ('Authentic_G_False_1.0', 'Clausula Vera_C_False_2.0')]"
      ]
     },
     "execution_count": 10,
     "metadata": {},
     "output_type": "execute_result"
    }
   ],
   "source": [
    "cadence_pairs"
   ]
  },
  {
   "cell_type": "code",
   "execution_count": 11,
   "id": "c6236c01",
   "metadata": {},
   "outputs": [
    {
     "data": {
      "text/plain": [
       "35"
      ]
     },
     "execution_count": 11,
     "metadata": {},
     "output_type": "execute_result"
    }
   ],
   "source": [
    "combined_df['all_features'].nunique()"
   ]
  },
  {
   "cell_type": "code",
   "execution_count": 12,
   "id": "c1960f57",
   "metadata": {},
   "outputs": [],
   "source": [
    "def add_communities(G):\n",
    "    G = deepcopy(G)\n",
    "    partition = community_louvain.best_partition(G)\n",
    "    nx.set_node_attributes(G, partition, \"group\")\n",
    "    return G\n",
    "pyvis_graph = Network(notebook=True, width=\"1800\", height=\"1400\", bgcolor=\"white\", font_color=\"black\", directed=True)"
   ]
  },
  {
   "cell_type": "code",
   "execution_count": 13,
   "id": "6f04d357",
   "metadata": {},
   "outputs": [],
   "source": [
    "# G = nx.Graph()\n",
    "G = nx.DiGraph()\n",
    "# G.add_edges_from(unique_pairs)\n",
    "G.add_edges_from(cadence_pairs)\n",
    "# G = add_communities(G)\n",
    "pyvis_graph.from_nx(G)"
   ]
  },
  {
   "cell_type": "code",
   "execution_count": 14,
   "id": "28d87adc",
   "metadata": {
    "scrolled": true
   },
   "outputs": [
    {
     "data": {
      "text/html": [
       "\n",
       "        <iframe\n",
       "            width=\"1800\"\n",
       "            height=\"1400\"\n",
       "            src=\"MINT.html\"\n",
       "            frameborder=\"0\"\n",
       "            allowfullscreen\n",
       "            \n",
       "        ></iframe>\n",
       "        "
      ],
      "text/plain": [
       "<IPython.lib.display.IFrame at 0x7fe2e09a4970>"
      ]
     },
     "execution_count": 14,
     "metadata": {},
     "output_type": "execute_result"
    }
   ],
   "source": [
    "pyvis_graph.show('MINT.html')\n"
   ]
  },
  {
   "cell_type": "code",
   "execution_count": 41,
   "id": "7ebd93f1",
   "metadata": {},
   "outputs": [],
   "source": [
    "mass_sets = [('CRIM_Mass_0019',\n",
    "('CRIM_Model_0019.mei',\n",
    " 'CRIM_Mass_0019_1.mei',\n",
    " 'CRIM_Mass_0019_2.mei',\n",
    " 'CRIM_Mass_0019_3.mei',\n",
    " 'CRIM_Mass_0019_4.mei',\n",
    " 'CRIM_Mass_0019_5.mei'))]\n",
    "\n"
   ]
  },
  {
   "cell_type": "code",
   "execution_count": 42,
   "id": "2ea41a0f",
   "metadata": {},
   "outputs": [
    {
     "data": {
      "text/plain": [
       "'CRIM_Mass_0019'"
      ]
     },
     "execution_count": 42,
     "metadata": {},
     "output_type": "execute_result"
    }
   ],
   "source": [
    "mass_sets[0][0]"
   ]
  },
  {
   "cell_type": "code",
   "execution_count": 48,
   "id": "3039d05f",
   "metadata": {},
   "outputs": [
    {
     "name": "stdout",
     "output_type": "stream",
     "text": [
      "Memoized piece detected.\n",
      "Memoized piece detected.\n",
      "Memoized piece detected.\n",
      "Memoized piece detected.\n",
      "Memoized piece detected.\n",
      "Memoized piece detected.\n"
     ]
    }
   ],
   "source": [
    "for mass in mass_sets:\n",
    "    corpus_set = []\n",
    "    csv_name = 'saved_csv/' + mass_sets[0][0] + '_' + 'cadences'\n",
    "    file_names = mass[1]\n",
    "    for file in file_names:\n",
    "        full_file_name = 'https://crimproject.org/mei/' + file\n",
    "        corpus_set.append(full_file_name)\n",
    "    \n",
    "    corpus = CorpusBase(corpus_set)\n",
    "    list_of_dfs = corpus.batch(ImportedPiece.classifyCadences, metadata=True)\n",
    "    combined_df = pd.concat(list_of_dfs, ignore_index=True)\n",
    "    combined_df['all_features'] = combined_df['CadType'] + \"_\" + combined_df['Tone'] + \"_\" + combined_df['Evaded'].apply(str) + \"_\" + combined_df['Beat'].apply(str)\n",
    "    combined_df['some_features'] = combined_df['CadType'] + \"_\" + combined_df['Tone']\n",
    "# return(combined_df)\n",
    "        "
   ]
  },
  {
   "cell_type": "code",
   "execution_count": 49,
   "id": "04686174",
   "metadata": {},
   "outputs": [],
   "source": [
    "combined_df.to_csv(csv_name)"
   ]
  },
  {
   "cell_type": "code",
   "execution_count": null,
   "id": "821bb293",
   "metadata": {},
   "outputs": [],
   "source": []
  }
 ],
 "metadata": {
  "kernelspec": {
   "display_name": "Python 3 (ipykernel)",
   "language": "python",
   "name": "python3"
  },
  "language_info": {
   "codemirror_mode": {
    "name": "ipython",
    "version": 3
   },
   "file_extension": ".py",
   "mimetype": "text/x-python",
   "name": "python",
   "nbconvert_exporter": "python",
   "pygments_lexer": "ipython3",
   "version": "3.9.12"
  }
 },
 "nbformat": 4,
 "nbformat_minor": 5
}
