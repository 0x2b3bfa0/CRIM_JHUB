{
 "cells": [
  {
   "cell_type": "markdown",
   "id": "402957cf",
   "metadata": {},
   "source": [
    "## Guide To CRIM Intervals Functions and Methods"
   ]
  },
  {
   "cell_type": "markdown",
   "id": "6f4f1503",
   "metadata": {},
   "source": [
    "\n",
    "#### Import Pieces\n",
    "\n",
    "Here you will want to select the appropriate 'prefix' that identifies the location of your file.\n",
    "'Music_Files/' is for files in the local notebook; 'https://crimproject.org/mei/' is for the files on CRIM.\n",
    "Then provide the full name (and extension) of your music file, such as 'CRIM_Model_0038.mei'\n",
    "\n",
    "*Select a prefix:*\n",
    "\n",
    "prefix = 'Music_Files/'\n",
    "prefix = 'https://crimproject.org/mei/'\n",
    "\n",
    "Add your filename here\n",
    "\n",
    "mei_file = 'CRIM_Model_0038.mei'\n",
    "\n",
    "url = prefix + mei_file\n",
    "\n",
    "piece = importScore(url)\n",
    "\n",
    "print(piece.metadata)\n"
   ]
  },
  {
   "cell_type": "markdown",
   "id": "2636100d",
   "metadata": {},
   "source": [
    "nr = piece.notes()\n",
    "nr = piece.notes(combineRests=True)\n",
    "nr = piece.notes(combineUnisons=True)\n",
    "    '''\n",
    "    Return a table of the notes and rests in the piece. Rests are\n",
    "    designated with the string \"Rest\". Notes are shown such that middle C\n",
    "    is \"C4\".\n",
    "    There are two optional arguments that govern the treatment of successive\n",
    "    rests and unisons.\n",
    "    If `combineRests` is True (default), non-first consecutive rests will be\n",
    "    removed, effectively combining consecutive rests in each voice.\n",
    "    If `combineRests` is False, then consecutive rests will be separate values,\n",
    "    each with their own duration.\n",
    "    If `combineUnisons` is False (default), then repeated tones will\n",
    "    each have their own duration.\n",
    "    If `combineUnsions` is True, consecutive attacks on the same pitch will be combined.\n",
    "    Typical use:\n",
    "\n",
    "    nr = piece.getNoteRest()\n",
    "    nr = piece.getNoteRest(combineRests=True)\n",
    "    nr = piece.getNoteRest(combineUnisons=True)\n"
   ]
  },
  {
   "cell_type": "code",
   "execution_count": null,
   "id": "f4763849",
   "metadata": {},
   "outputs": [],
   "source": []
  }
 ],
 "metadata": {
  "kernelspec": {
   "display_name": "Python 3 (ipykernel)",
   "language": "python",
   "name": "python3"
  },
  "language_info": {
   "codemirror_mode": {
    "name": "ipython",
    "version": 3
   },
   "file_extension": ".py",
   "mimetype": "text/x-python",
   "name": "python",
   "nbconvert_exporter": "python",
   "pygments_lexer": "ipython3",
   "version": "3.9.12"
  }
 },
 "nbformat": 4,
 "nbformat_minor": 5
}
