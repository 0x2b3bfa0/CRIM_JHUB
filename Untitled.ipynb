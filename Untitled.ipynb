{
 "cells": [
  {
   "cell_type": "code",
   "execution_count": 12,
   "id": "4d6430c3",
   "metadata": {},
   "outputs": [
    {
     "ename": "ModuleNotFoundError",
     "evalue": "No module named 'ipyplot'",
     "output_type": "error",
     "traceback": [
      "\u001b[0;31m---------------------------------------------------------------------------\u001b[0m",
      "\u001b[0;31mModuleNotFoundError\u001b[0m                       Traceback (most recent call last)",
      "\u001b[0;32m/var/folders/k5/k4j_550s2yq5776vgmw6r_xr0000gp/T/ipykernel_50240/1421821667.py\u001b[0m in \u001b[0;36m<module>\u001b[0;34m\u001b[0m\n\u001b[1;32m      2\u001b[0m \u001b[0;32mimport\u001b[0m \u001b[0mrequests\u001b[0m\u001b[0;34m\u001b[0m\u001b[0;34m\u001b[0m\u001b[0m\n\u001b[1;32m      3\u001b[0m \u001b[0;34m\u001b[0m\u001b[0m\n\u001b[0;32m----> 4\u001b[0;31m \u001b[0;32mimport\u001b[0m \u001b[0mipyplot\u001b[0m\u001b[0;34m\u001b[0m\u001b[0;34m\u001b[0m\u001b[0m\n\u001b[0m\u001b[1;32m      5\u001b[0m \u001b[0;34m\u001b[0m\u001b[0m\n",
      "\u001b[0;31mModuleNotFoundError\u001b[0m: No module named 'ipyplot'"
     ]
    }
   ],
   "source": [
    "import verovio\n",
    "import requests\n",
    "\n",
    "# import ipyplot\n",
    "\n"
   ]
  },
  {
   "cell_type": "code",
   "execution_count": 3,
   "id": "4dfe493b",
   "metadata": {},
   "outputs": [
    {
     "name": "stderr",
     "output_type": "stream",
     "text": [
      "[Warning] Unsupported '<line>' within <measure>\n",
      "[Warning] Unsupported '<line>' within <measure>\n"
     ]
    },
    {
     "data": {
      "text/plain": [
       "12"
      ]
     },
     "execution_count": 3,
     "metadata": {},
     "output_type": "execute_result"
    }
   ],
   "source": [
    "tk = verovio.toolkit()\n",
    "tk.loadFile(\"Music_Files/CRIM_Mass_0007_4.mei\")\n",
    "tk.getPageCount()"
   ]
  },
  {
   "cell_type": "code",
   "execution_count": 7,
   "id": "78463964",
   "metadata": {},
   "outputs": [
    {
     "data": {
      "text/plain": [
       "True"
      ]
     },
     "execution_count": 7,
     "metadata": {},
     "output_type": "execute_result"
    }
   ],
   "source": [
    "tk.setOption( \"pageHeight\", \"2100\" )\n",
    "tk.setOption( \"pageWidth\", \"2900\" )\n",
    "tk.setScale(25)\n",
    "tk.redoLayout()\n",
    "tk.renderToSVGFile( \"page-scaled.svg\", 1 )"
   ]
  },
  {
   "cell_type": "code",
   "execution_count": 9,
   "id": "d364698f",
   "metadata": {},
   "outputs": [],
   "source": [
    "a = tk.renderToSVGFile( \"page.svg\", 1 )"
   ]
  },
  {
   "cell_type": "code",
   "execution_count": 13,
   "id": "6a42d9b1",
   "metadata": {},
   "outputs": [
    {
     "data": {
      "text/plain": [
       "True"
      ]
     },
     "metadata": {},
     "output_type": "display_data"
    }
   ],
   "source": [
    "display(a)"
   ]
  },
  {
   "cell_type": "code",
   "execution_count": 8,
   "id": "a740c121",
   "metadata": {},
   "outputs": [
    {
     "data": {
      "text/plain": [
       "<verovio.verovio.toolkit; proxy of <Swig Object of type 'vrv::Toolkit *' at 0x7fd30865ded0> >"
      ]
     },
     "execution_count": 8,
     "metadata": {},
     "output_type": "execute_result"
    }
   ],
   "source": [
    "tk"
   ]
  },
  {
   "cell_type": "code",
   "execution_count": null,
   "id": "0021811d",
   "metadata": {},
   "outputs": [],
   "source": []
  }
 ],
 "metadata": {
  "kernelspec": {
   "display_name": "Python 3 (ipykernel)",
   "language": "python",
   "name": "python3"
  },
  "language_info": {
   "codemirror_mode": {
    "name": "ipython",
    "version": 3
   },
   "file_extension": ".py",
   "mimetype": "text/x-python",
   "name": "python",
   "nbconvert_exporter": "python",
   "pygments_lexer": "ipython3",
   "version": "3.8.12"
  }
 },
 "nbformat": 4,
 "nbformat_minor": 5
}
