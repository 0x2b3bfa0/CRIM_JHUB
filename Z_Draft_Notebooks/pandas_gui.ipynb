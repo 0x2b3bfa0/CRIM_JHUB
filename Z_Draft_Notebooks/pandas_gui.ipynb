{
 "cells": [
  {
   "cell_type": "code",
   "execution_count": 2,
   "id": "da78130b",
   "metadata": {},
   "outputs": [
    {
     "name": "stdout",
     "output_type": "stream",
     "text": [
      "saved_csv folder already exists.\n"
     ]
    }
   ],
   "source": [
    "import intervals\n",
    "from intervals import * \n",
    "from intervals import main_objs\n",
    "import intervals.visualizations as viz\n",
    "import pandas as pd\n",
    "import re\n",
    "import altair as alt \n",
    "from ipywidgets import interact\n",
    "from pandas.io.json import json_normalize\n",
    "from pyvis.network import Network\n",
    "from IPython.display import display\n",
    "import requests\n",
    "import os\n",
    "\n",
    "MYDIR = (\"saved_csv\")\n",
    "CHECK_FOLDER = os.path.isdir(MYDIR)\n",
    "\n",
    "# If folder doesn't exist, then create it.\n",
    "if not CHECK_FOLDER:\n",
    "    os.makedirs(MYDIR)\n",
    "    print(\"created folder : \", MYDIR)\n",
    "\n",
    "else:\n",
    "    print(MYDIR, \"folder already exists.\")"
   ]
  },
  {
   "cell_type": "code",
   "execution_count": 3,
   "id": "b1ca4153",
   "metadata": {},
   "outputs": [
    {
     "name": "stderr",
     "output_type": "stream",
     "text": [
      "This process is not trusted! Input event monitoring will not be possible until it is added to accessibility clients.\n"
     ]
    }
   ],
   "source": [
    "from pandasgui import show\n",
    "\n"
   ]
  },
  {
   "cell_type": "code",
   "execution_count": 4,
   "id": "7e1bf8b9",
   "metadata": {},
   "outputs": [
    {
     "name": "stdout",
     "output_type": "stream",
     "text": [
      "Downloading remote score...\n",
      "Successfully imported https://crimproject.org/mei/CRIM_Model_0009.mei\n",
      "{'title': 'Je suis déshéritée', 'composer': 'Pierre Cadéac'}\n"
     ]
    }
   ],
   "source": [
    "# Select a prefix:\n",
    "\n",
    "# prefix = 'Music_Files/'\n",
    "prefix = 'https://crimproject.org/mei/'\n",
    "\n",
    "# Add your filename here\n",
    "\n",
    "mei_file = 'CRIM_Model_0009.mei'\n",
    "\n",
    "url = prefix + mei_file\n",
    "\n",
    "piece = importScore(url)\n",
    "\n",
    "print(piece.metadata)"
   ]
  },
  {
   "cell_type": "code",
   "execution_count": 6,
   "id": "3314224d",
   "metadata": {},
   "outputs": [],
   "source": [
    "# set your order of pitches\n",
    "pitch_order = ['F2', 'G2', 'E2', 'A2', 'B2', 'C3', 'D3', 'E3', 'F3', 'G3', 'A3', 'B3','C4', 'D4', 'E4', 'F4', 'G4', 'A4', 'B4',\n",
    "'C5', 'D5', 'E5', 'F5', 'G5', 'A5', 'B5']\n",
    "\n",
    "# get notes and rests, then fill the NA's (which are Nulls and will confuse things)\n",
    "nr = piece.notes()\n",
    "nr.fillna('-')\n",
    "\n",
    "# count up the values in each item column--sum for each pitch.\n",
    "# make a copy to be sure we don't mess up\n",
    "nr = nr.apply(pd.Series.value_counts).fillna(0).astype(int).reset_index().copy()\n",
    "\n",
    "# rename the index column to something more useful\n",
    "nr.rename(columns = {'index':'pitch'}, inplace = True)\n",
    "\n",
    "# apply the categorical list and sort\n",
    "nr['pitch'] = pd.Categorical(nr[\"pitch\"], categories=pitch_order)\n",
    "nr = nr.sort_values(by = \"pitch\").dropna()"
   ]
  },
  {
   "cell_type": "code",
   "execution_count": 16,
   "id": "23e031d7",
   "metadata": {},
   "outputs": [],
   "source": [
    "\n",
    "df = piece.ngrams(interval_settings='d', offsets='first', n=5)\n",
    "df2 = df.stack()"
   ]
  },
  {
   "cell_type": "code",
   "execution_count": null,
   "id": "8d866653",
   "metadata": {},
   "outputs": [],
   "source": []
  },
  {
   "cell_type": "code",
   "execution_count": 8,
   "id": "1125fcaa",
   "metadata": {},
   "outputs": [
    {
     "name": "stderr",
     "output_type": "stream",
     "text": [
      "PandasGUI INFO — pandasgui.gui — Opening PandasGUI\n"
     ]
    },
    {
     "data": {
      "text/plain": [
       "<pandasgui.gui.PandasGui at 0x7f8633e1ff70>"
      ]
     },
     "execution_count": 8,
     "metadata": {},
     "output_type": "execute_result"
    }
   ],
   "source": [
    "show(nr)"
   ]
  },
  {
   "cell_type": "code",
   "execution_count": 18,
   "id": "67d17fe2",
   "metadata": {},
   "outputs": [
    {
     "data": {
      "text/html": [
       "<div>\n",
       "<style scoped>\n",
       "    .dataframe tbody tr th:only-of-type {\n",
       "        vertical-align: middle;\n",
       "    }\n",
       "\n",
       "    .dataframe tbody tr th {\n",
       "        vertical-align: top;\n",
       "    }\n",
       "\n",
       "    .dataframe thead th {\n",
       "        text-align: right;\n",
       "    }\n",
       "</style>\n",
       "<table border=\"1\" class=\"dataframe\">\n",
       "  <thead>\n",
       "    <tr style=\"text-align: right;\">\n",
       "      <th></th>\n",
       "      <th>CadType</th>\n",
       "      <th>Evaded</th>\n",
       "      <th>LeadingTones</th>\n",
       "      <th>Low</th>\n",
       "      <th>RelLow</th>\n",
       "      <th>Tone</th>\n",
       "      <th>RelTone</th>\n",
       "      <th>TSig</th>\n",
       "      <th>Measure</th>\n",
       "      <th>Beat</th>\n",
       "      <th>Progress</th>\n",
       "      <th>SinceLast</th>\n",
       "      <th>ToNext</th>\n",
       "    </tr>\n",
       "  </thead>\n",
       "  <tbody>\n",
       "    <tr>\n",
       "      <th>48.0</th>\n",
       "      <td>Clausula Vera</td>\n",
       "      <td>False</td>\n",
       "      <td>0.0</td>\n",
       "      <td>D3</td>\n",
       "      <td>-m3</td>\n",
       "      <td>D</td>\n",
       "      <td>-m3</td>\n",
       "      <td>4/2</td>\n",
       "      <td>7</td>\n",
       "      <td>1.0</td>\n",
       "      <td>0.195122</td>\n",
       "      <td>48.0</td>\n",
       "      <td>16.0</td>\n",
       "    </tr>\n",
       "    <tr>\n",
       "      <th>64.0</th>\n",
       "      <td>Authentic</td>\n",
       "      <td>False</td>\n",
       "      <td>1.0</td>\n",
       "      <td>D3</td>\n",
       "      <td>-m3</td>\n",
       "      <td>D</td>\n",
       "      <td>-m3</td>\n",
       "      <td>4/2</td>\n",
       "      <td>9</td>\n",
       "      <td>1.0</td>\n",
       "      <td>0.260163</td>\n",
       "      <td>16.0</td>\n",
       "      <td>48.0</td>\n",
       "    </tr>\n",
       "    <tr>\n",
       "      <th>112.0</th>\n",
       "      <td>Clausula Vera</td>\n",
       "      <td>False</td>\n",
       "      <td>0.0</td>\n",
       "      <td>D3</td>\n",
       "      <td>-m3</td>\n",
       "      <td>D</td>\n",
       "      <td>-m3</td>\n",
       "      <td>4/2</td>\n",
       "      <td>15</td>\n",
       "      <td>1.0</td>\n",
       "      <td>0.455285</td>\n",
       "      <td>48.0</td>\n",
       "      <td>16.0</td>\n",
       "    </tr>\n",
       "    <tr>\n",
       "      <th>128.0</th>\n",
       "      <td>Authentic</td>\n",
       "      <td>False</td>\n",
       "      <td>1.0</td>\n",
       "      <td>D3</td>\n",
       "      <td>-m3</td>\n",
       "      <td>D</td>\n",
       "      <td>-m3</td>\n",
       "      <td>4/2</td>\n",
       "      <td>17</td>\n",
       "      <td>1.0</td>\n",
       "      <td>0.520325</td>\n",
       "      <td>16.0</td>\n",
       "      <td>20.0</td>\n",
       "    </tr>\n",
       "    <tr>\n",
       "      <th>148.0</th>\n",
       "      <td>Authentic</td>\n",
       "      <td>False</td>\n",
       "      <td>1.0</td>\n",
       "      <td>F3</td>\n",
       "      <td>P1</td>\n",
       "      <td>F</td>\n",
       "      <td>P1</td>\n",
       "      <td>4/2</td>\n",
       "      <td>19</td>\n",
       "      <td>3.0</td>\n",
       "      <td>0.601626</td>\n",
       "      <td>20.0</td>\n",
       "      <td>12.0</td>\n",
       "    </tr>\n",
       "    <tr>\n",
       "      <th>160.0</th>\n",
       "      <td>Authentic</td>\n",
       "      <td>False</td>\n",
       "      <td>1.0</td>\n",
       "      <td>F3</td>\n",
       "      <td>P1</td>\n",
       "      <td>F</td>\n",
       "      <td>P1</td>\n",
       "      <td>4/2</td>\n",
       "      <td>21</td>\n",
       "      <td>1.0</td>\n",
       "      <td>0.650407</td>\n",
       "      <td>12.0</td>\n",
       "      <td>24.0</td>\n",
       "    </tr>\n",
       "    <tr>\n",
       "      <th>184.0</th>\n",
       "      <td>Authentic</td>\n",
       "      <td>False</td>\n",
       "      <td>1.0</td>\n",
       "      <td>C3</td>\n",
       "      <td>-P4</td>\n",
       "      <td>C</td>\n",
       "      <td>-P4</td>\n",
       "      <td>4/2</td>\n",
       "      <td>24</td>\n",
       "      <td>1.0</td>\n",
       "      <td>0.747967</td>\n",
       "      <td>24.0</td>\n",
       "      <td>28.0</td>\n",
       "    </tr>\n",
       "    <tr>\n",
       "      <th>212.0</th>\n",
       "      <td>Clausula Vera</td>\n",
       "      <td>False</td>\n",
       "      <td>1.0</td>\n",
       "      <td>F3</td>\n",
       "      <td>P1</td>\n",
       "      <td>F</td>\n",
       "      <td>P1</td>\n",
       "      <td>4/2</td>\n",
       "      <td>27</td>\n",
       "      <td>3.0</td>\n",
       "      <td>0.861789</td>\n",
       "      <td>28.0</td>\n",
       "      <td>36.0</td>\n",
       "    </tr>\n",
       "  </tbody>\n",
       "</table>\n",
       "</div>"
      ],
      "text/plain": [
       "             CadType Evaded  LeadingTones Low RelLow Tone RelTone TSig  \\\n",
       "48.0   Clausula Vera  False           0.0  D3    -m3    D     -m3  4/2   \n",
       "64.0       Authentic  False           1.0  D3    -m3    D     -m3  4/2   \n",
       "112.0  Clausula Vera  False           0.0  D3    -m3    D     -m3  4/2   \n",
       "128.0      Authentic  False           1.0  D3    -m3    D     -m3  4/2   \n",
       "148.0      Authentic  False           1.0  F3     P1    F      P1  4/2   \n",
       "160.0      Authentic  False           1.0  F3     P1    F      P1  4/2   \n",
       "184.0      Authentic  False           1.0  C3    -P4    C     -P4  4/2   \n",
       "212.0  Clausula Vera  False           1.0  F3     P1    F      P1  4/2   \n",
       "\n",
       "       Measure  Beat  Progress  SinceLast  ToNext  \n",
       "48.0         7   1.0  0.195122       48.0    16.0  \n",
       "64.0         9   1.0  0.260163       16.0    48.0  \n",
       "112.0       15   1.0  0.455285       48.0    16.0  \n",
       "128.0       17   1.0  0.520325       16.0    20.0  \n",
       "148.0       19   3.0  0.601626       20.0    12.0  \n",
       "160.0       21   1.0  0.650407       12.0    24.0  \n",
       "184.0       24   1.0  0.747967       24.0    28.0  \n",
       "212.0       27   3.0  0.861789       28.0    36.0  "
      ]
     },
     "execution_count": 18,
     "metadata": {},
     "output_type": "execute_result"
    }
   ],
   "source": [
    "cads = piece.cadences()\n",
    "cads"
   ]
  },
  {
   "cell_type": "code",
   "execution_count": 19,
   "id": "2fa2e007",
   "metadata": {},
   "outputs": [
    {
     "name": "stderr",
     "output_type": "stream",
     "text": [
      "PandasGUI INFO — pandasgui.gui — Opening PandasGUI\n"
     ]
    },
    {
     "data": {
      "text/plain": [
       "<pandasgui.gui.PandasGui at 0x7fd9f092c550>"
      ]
     },
     "execution_count": 19,
     "metadata": {},
     "output_type": "execute_result"
    }
   ],
   "source": [
    "show(cads)"
   ]
  },
  {
   "cell_type": "code",
   "execution_count": null,
   "id": "b546176b",
   "metadata": {},
   "outputs": [],
   "source": []
  }
 ],
 "metadata": {
  "kernelspec": {
   "display_name": "Python 3 (ipykernel)",
   "language": "python",
   "name": "python3"
  },
  "language_info": {
   "codemirror_mode": {
    "name": "ipython",
    "version": 3
   },
   "file_extension": ".py",
   "mimetype": "text/x-python",
   "name": "python",
   "nbconvert_exporter": "python",
   "pygments_lexer": "ipython3",
   "version": "3.9.12"
  }
 },
 "nbformat": 4,
 "nbformat_minor": 5
}
