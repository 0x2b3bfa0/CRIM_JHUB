{
 "cells": [
  {
   "cell_type": "code",
   "execution_count": 6,
   "id": "b1e3905d",
   "metadata": {},
   "outputs": [
    {
     "name": "stdout",
     "output_type": "stream",
     "text": [
      "saved_csv folder already exists.\n",
      "Music_Files folder already exists.\n"
     ]
    }
   ],
   "source": [
    "import intervals\n",
    "from intervals import * \n",
    "from intervals import main_objs\n",
    "import pandas as pd\n",
    "import re\n",
    "import os\n",
    "import numpy\n",
    "import itertools\n",
    "# import collections\n",
    "MYDIR = (\"saved_csv\")\n",
    "CHECK_FOLDER = os.path.isdir(MYDIR)\n",
    "\n",
    "# If folder doesn't exist, then create it.\n",
    "if not CHECK_FOLDER:\n",
    "    os.makedirs(MYDIR)\n",
    "    print(\"created folder : \", MYDIR)\n",
    "\n",
    "else:\n",
    "    print(MYDIR, \"folder already exists.\")\n",
    "    \n",
    "MUSDIR = (\"Music_Files\")\n",
    "CHECK_FOLDER = os.path.isdir(MUSDIR)\n",
    "\n",
    "# If folder doesn't exist, then create it.\n",
    "if not CHECK_FOLDER:\n",
    "    os.makedirs(MUSDIR)\n",
    "    print(\"created folder : \", MUSDIR)\n",
    "\n",
    "else:\n",
    "    print(MUSDIR, \"folder already exists.\")"
   ]
  },
  {
   "cell_type": "code",
   "execution_count": 7,
   "id": "e9d18921",
   "metadata": {},
   "outputs": [
    {
     "name": "stdout",
     "output_type": "stream",
     "text": [
      "Downloading remote score...\n",
      "Successfully imported https://crimproject.org/mei/CRIM_Model_0048.mei\n"
     ]
    }
   ],
   "source": [
    "# Select a prefix:\n",
    "\n",
    "# prefix = 'Music_Files/'\n",
    "\n",
    "# prefix = 'https://raw.githubusercontent.com/RichardFreedman/CRIM_Additions/main/'\n",
    "\n",
    "prefix = 'https://crimproject.org/mei/'\n",
    "# just add the CRIM Piece ID here\n",
    "mei_file = 'CRIM_Model_0048.mei'\n",
    "url = prefix + mei_file\n",
    "\n",
    "piece = importScore(url)\n",
    "\n"
   ]
  },
  {
   "cell_type": "code",
   "execution_count": 23,
   "id": "92d8ee9b",
   "metadata": {},
   "outputs": [
    {
     "data": {
      "text/plain": [
       "288.0"
      ]
     },
     "execution_count": 23,
     "metadata": {},
     "output_type": "execute_result"
    }
   ],
   "source": [
    "# here we get the final 'beat' in the piece.  So that tells how long the piece is.\n",
    "# remember that in Python \"-1\" is the last in thing in any list.  So this is the \n",
    "# last item in the index range for the beats.\n",
    "\n",
    "bt = piece.beats().index[-1]\n",
    "bt\n"
   ]
  },
  {
   "cell_type": "code",
   "execution_count": 24,
   "id": "74955997",
   "metadata": {},
   "outputs": [
    {
     "data": {
      "text/plain": [
       "1343"
      ]
     },
     "execution_count": 24,
     "metadata": {},
     "output_type": "execute_result"
    }
   ],
   "source": [
    "# here we get all the ngrams, then 'stack' them into one column, and then find the length of that\n",
    "ng = piece.ngrams().stack()\n",
    "ng_count = len(ng)\n",
    "ng_count"
   ]
  },
  {
   "cell_type": "code",
   "execution_count": 27,
   "id": "ee690e5f",
   "metadata": {},
   "outputs": [
    {
     "data": {
      "text/plain": [
       "4.663194444444445"
      ]
     },
     "execution_count": 27,
     "metadata": {},
     "output_type": "execute_result"
    }
   ],
   "source": [
    "# finally, divide the ng_count by the number of beats\n",
    "\n",
    "ng_count/bt"
   ]
  },
  {
   "cell_type": "code",
   "execution_count": null,
   "id": "047f10a1",
   "metadata": {},
   "outputs": [],
   "source": []
  }
 ],
 "metadata": {
  "kernelspec": {
   "display_name": "Python 3 (ipykernel)",
   "language": "python",
   "name": "python3"
  },
  "language_info": {
   "codemirror_mode": {
    "name": "ipython",
    "version": 3
   },
   "file_extension": ".py",
   "mimetype": "text/x-python",
   "name": "python",
   "nbconvert_exporter": "python",
   "pygments_lexer": "ipython3",
   "version": "3.9.12"
  }
 },
 "nbformat": 4,
 "nbformat_minor": 5
}
