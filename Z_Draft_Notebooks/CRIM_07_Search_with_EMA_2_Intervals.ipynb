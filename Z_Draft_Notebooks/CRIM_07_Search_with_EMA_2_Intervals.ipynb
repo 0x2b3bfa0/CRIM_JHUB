{
 "cells": [
  {
   "cell_type": "markdown",
   "id": "0761ed8d",
   "metadata": {},
   "source": [
    "# From EMA Selection to Intervals Data\n",
    "\n",
    "* Enter an EMA expression for a selected passage of any piece and return various CRIM intervals analyses of those notes.\n",
    "* Begin by opening a score on the CRIM New Relationships form:  https://crimproject.org/relationships/new/\n",
    "* You don't need to create a new Relationship, but simply select the notes you want.\n",
    "* Copy the EMA address (which you will need below)\n"
   ]
  },
  {
   "cell_type": "markdown",
   "id": "0e21b89b",
   "metadata": {},
   "source": [
    "### A.  Import CRIM Intervals"
   ]
  },
  {
   "cell_type": "code",
   "execution_count": 1,
   "id": "1e20bfea",
   "metadata": {},
   "outputs": [
    {
     "name": "stdout",
     "output_type": "stream",
     "text": [
      "saved_csv folder already exists.\n"
     ]
    }
   ],
   "source": [
    "import intervals\n",
    "from intervals import ema2ex\n",
    "from intervals import importScore \n",
    "import intervals.visualizations as viz\n",
    "import pandas as pd\n",
    "import re\n",
    "import altair as alt \n",
    "from ipywidgets import interact\n",
    "from pandas.io.json import json_normalize\n",
    "from pyvis.network import Network\n",
    "from IPython.display import display\n",
    "import requests\n",
    "import os\n",
    "\n",
    "\n",
    "MYDIR = (\"saved_csv\")\n",
    "CHECK_FOLDER = os.path.isdir(MYDIR)\n",
    "\n",
    "# If folder doesn't exist, then create it.\n",
    "if not CHECK_FOLDER:\n",
    "    os.makedirs(MYDIR)\n",
    "    print(\"created folder : \", MYDIR)\n",
    "\n",
    "else:\n",
    "    print(MYDIR, \"folder already exists.\")\n",
    "    \n",
    "MUSDIR = (\"Music_Files\")\n",
    "CHECK_FOLDER = os.path.isdir(MUSDIR)\n",
    "\n",
    "# If folder doesn't exist, then create it.\n",
    "if not CHECK_FOLDER:\n",
    "    os.makedirs(MUSDIR)\n",
    "    print(\"created folder : \", MUSDIR)\n",
    "\n",
    "else:\n",
    "    print(MUSDIR, \"folder already exists.\")"
   ]
  },
  {
   "cell_type": "code",
   "execution_count": 6,
   "id": "c35730fe",
   "metadata": {},
   "outputs": [
    {
     "name": "stdout",
     "output_type": "stream",
     "text": [
      "Downloading remote score...\n",
      "Successfully imported https://crimproject.org/mei/CRIM_Model_0046.mei\n"
     ]
    }
   ],
   "source": [
    "piece = importScore('https://crimproject.org/mei/CRIM_Model_0046.mei')\n",
    "\n",
    "# piece = importScore('https://raw.githubusercontent.com/RichardFreedman/CRIM_additional_works/main/MEI/Palestrina_MIOM_1.musicxml')"
   ]
  },
  {
   "cell_type": "markdown",
   "id": "aeb9951e",
   "metadata": {},
   "source": [
    "### B. Search for Patterns with Score Selection and ema2ex\n",
    "\n",
    "* Begin by opening a score on the CRIM New Relationships form:  https://crimproject.org/relationships/new/\n",
    "* You don't need to create a new Relationship, but simply **select the notes you want**.\n",
    "* Copy the ema selection, such as: `1-6/1-2,1-2,1-2,1-2,1-2,2/@1-3+@all,@1-3+@all,@1-3+@1-3,@1+@1-3,@all+@1-3,@1`\n",
    "* Make sure you import correct **score** of the piece into this Notebook\n",
    "* Paste the **`EMA address`** (the measures/staves/beats only) into the **`ema_pattern`** box below\n",
    "* Select the interval type, ngram length, \n",
    "\n",
    "* Check **`kind`** for `\"d\"` or `\"c\"` as needed\n",
    "* Select"
   ]
  },
  {
   "cell_type": "code",
   "execution_count": 7,
   "id": "3fa90072",
   "metadata": {},
   "outputs": [
    {
     "data": {
      "application/vnd.jupyter.widget-view+json": {
       "model_id": "ba29527e05144be3b8bceb0c5d316192",
       "version_major": 2,
       "version_minor": 0
      },
      "text/plain": [
       "interactive(children=(Text(value='', description='ema_pattern'), Dropdown(description='kind', options=('d', 'q…"
      ]
     },
     "metadata": {},
     "output_type": "display_data"
    }
   ],
   "source": [
    "@interact\n",
    "def get_ema_intervals(ema_pattern=\"\", \n",
    "                      kind=[\"d\", \"q\", \"c\", \"z\"], \n",
    "                      length=[1, 2, 3, 4, 5, 6], \n",
    "                     display=['melodic', 'harmonic', 'modules']):\n",
    "    \n",
    "    ema_clean = ema_pattern.replace('@all', '@1-4')\n",
    "    nr = piece.notes()\n",
    "    detNr = piece.detailIndex(nr, offset=True)\n",
    "    mel = piece.melodic(kind=kind)\n",
    "    har = piece.harmonic(kind=kind)\n",
    "    excerpt = ema2ex(ema_clean, detNr)\n",
    "    excerptOffsets = excerpt.index.get_level_values(2)\n",
    "    \n",
    "    if display == 'melodic':\n",
    "        ngrams = piece.ngrams(df=mel, n=length)\n",
    "        return ngrams.reindex(index = excerptOffsets).fillna('-')\n",
    "    elif display == 'harmonic':\n",
    "        ngrams = piece.ngrams(df=har, n=length)\n",
    "        return ngrams.reindex(index = excerptOffsets).fillna('-')\n",
    "    elif display == 'modules':\n",
    "        ngrams = piece.ngrams(df=har, other=mel, n=length)\n",
    "        return ngrams.reindex(index = excerptOffsets).fillna('-')"
   ]
  },
  {
   "cell_type": "code",
   "execution_count": 14,
   "id": "809efc99",
   "metadata": {},
   "outputs": [],
   "source": [
    "ema_pattern = \"1/5-6/@1-3+@1-3\"\n",
    "kind = \"d\""
   ]
  },
  {
   "cell_type": "code",
   "execution_count": 20,
   "id": "6ea6d6dd",
   "metadata": {},
   "outputs": [],
   "source": [
    "def convertTuple(tup):\n",
    "    out = \"\"\n",
    "    if isinstance(tup, tuple):\n",
    "        out = ', '.join(tup)\n",
    "    return out"
   ]
  },
  {
   "cell_type": "code",
   "execution_count": 22,
   "id": "0ad47a1a",
   "metadata": {},
   "outputs": [
    {
     "ename": "IndexError",
     "evalue": "tuple index out of range",
     "output_type": "error",
     "traceback": [
      "\u001b[0;31m---------------------------------------------------------------------------\u001b[0m",
      "\u001b[0;31mIndexError\u001b[0m                                Traceback (most recent call last)",
      "Input \u001b[0;32mIn [22]\u001b[0m, in \u001b[0;36m<cell line: 7>\u001b[0;34m()\u001b[0m\n\u001b[1;32m      4\u001b[0m detNr \u001b[38;5;241m=\u001b[39m detNr\u001b[38;5;241m.\u001b[39mapplymap(convertTuple)\n\u001b[1;32m      5\u001b[0m \u001b[38;5;66;03m# mel = piece.melodic(kind=kind)\u001b[39;00m\n\u001b[1;32m      6\u001b[0m \u001b[38;5;66;03m# har = piece.harmonic(kind=kind)\u001b[39;00m\n\u001b[0;32m----> 7\u001b[0m excerpt \u001b[38;5;241m=\u001b[39m \u001b[43mema2ex\u001b[49m\u001b[43m(\u001b[49m\u001b[43mema_clean\u001b[49m\u001b[43m,\u001b[49m\u001b[43m \u001b[49m\u001b[43mdetNr\u001b[49m\u001b[43m)\u001b[49m\n",
      "File \u001b[0;32m~/opt/anaconda3/envs/intervals/lib/python3.9/site-packages/intervals/main.py:412\u001b[0m, in \u001b[0;36mema2ex\u001b[0;34m(emaStr, df)\u001b[0m\n\u001b[1;32m    410\u001b[0m voices \u001b[38;5;241m=\u001b[39m _emaVoiceHelper(vStr, df\u001b[38;5;241m.\u001b[39mcolumns)\n\u001b[1;32m    411\u001b[0m beats \u001b[38;5;241m=\u001b[39m _emaBeatHelper(bStr)\n\u001b[0;32m--> 412\u001b[0m \u001b[38;5;28;01mfor\u001b[39;00m mi, measure \u001b[38;5;129;01min\u001b[39;00m \u001b[38;5;28menumerate\u001b[39m(_emaMeasureHelper(mStr)):\n\u001b[1;32m    413\u001b[0m     voicesInMeasure \u001b[38;5;241m=\u001b[39m voices[mi]\n\u001b[1;32m    414\u001b[0m     \u001b[38;5;28;01mfor\u001b[39;00m vi, voice \u001b[38;5;129;01min\u001b[39;00m \u001b[38;5;28menumerate\u001b[39m(voicesInMeasure):\n",
      "File \u001b[0;32m~/opt/anaconda3/envs/intervals/lib/python3.9/site-packages/intervals/main.py:369\u001b[0m, in \u001b[0;36m_emaMeasureHelper\u001b[0;34m(string)\u001b[0m\n\u001b[1;32m    367\u001b[0m \u001b[38;5;28;01mfor\u001b[39;00m span \u001b[38;5;129;01min\u001b[39;00m spans:\n\u001b[1;32m    368\u001b[0m     ends \u001b[38;5;241m=\u001b[39m \u001b[38;5;28mtuple\u001b[39m(\u001b[38;5;28mint\u001b[39m(m) \u001b[38;5;28;01mfor\u001b[39;00m m \u001b[38;5;129;01min\u001b[39;00m span\u001b[38;5;241m.\u001b[39msplit(\u001b[38;5;124m'\u001b[39m\u001b[38;5;124m-\u001b[39m\u001b[38;5;124m'\u001b[39m))\n\u001b[0;32m--> 369\u001b[0m     \u001b[38;5;28;01mfor\u001b[39;00m m \u001b[38;5;129;01min\u001b[39;00m \u001b[38;5;28mrange\u001b[39m(ends[\u001b[38;5;241m0\u001b[39m], \u001b[43mends\u001b[49m\u001b[43m[\u001b[49m\u001b[38;5;241;43m1\u001b[39;49m\u001b[43m]\u001b[49m \u001b[38;5;241m+\u001b[39m \u001b[38;5;241m1\u001b[39m):\n\u001b[1;32m    370\u001b[0m         \u001b[38;5;28;01myield\u001b[39;00m m\n",
      "\u001b[0;31mIndexError\u001b[0m: tuple index out of range"
     ]
    }
   ],
   "source": [
    "ema_clean = ema_pattern.replace('@all', '@1-4')\n",
    "nr = piece.notes()\n",
    "detNr = piece.detailIndex(nr, offset=True)\n",
    "detNr = detNr.applymap(convertTuple)\n",
    "mel = piece.melodic(kind=kind)\n",
    "har = piece.harmonic(kind=kind)\n",
    "excerpt = ema2ex(ema_clean, detNr)\n",
    "# excerptOffsets = excerpt.index.get_level_values(2)"
   ]
  },
  {
   "cell_type": "code",
   "execution_count": 39,
   "id": "d00bface",
   "metadata": {},
   "outputs": [],
   "source": [
    "string = \"1, 2-4\""
   ]
  },
  {
   "cell_type": "code",
   "execution_count": 44,
   "id": "841a1b6a",
   "metadata": {},
   "outputs": [
    {
     "name": "stdout",
     "output_type": "stream",
     "text": [
      "1\n",
      "2\n",
      "3\n",
      "4\n"
     ]
    }
   ],
   "source": [
    "measures = []\n",
    "chunks = string.split(',')\n",
    "for chunk in chunks:\n",
    "    spans = chunk.split('+')\n",
    "    for span in spans:\n",
    "        if len(span) == 1:\n",
    "            print(span)\n",
    "        else:\n",
    "            ends = tuple(int(m) for m in span.split('-'))\n",
    "            for m in range(ends[0], ends[1] + 1):\n",
    "                print(m)"
   ]
  },
  {
   "cell_type": "code",
   "execution_count": null,
   "id": "fd1caf56",
   "metadata": {},
   "outputs": [],
   "source": [
    "measures = []\n",
    "chunks = string.split(',')\n",
    "for chunk in chunks:\n",
    "    spans = chunk.split('+')\n",
    "    for span in spans:\n",
    "        if len(span) == 1:\n",
    "            yield span\n",
    "        else:\n",
    "            ends = tuple(int(m) for m in span.split('-'))\n",
    "            for m in range(ends[0], ends[1] + 1):\n",
    "                yield m"
   ]
  }
 ],
 "metadata": {
  "kernelspec": {
   "display_name": "Python 3 (ipykernel)",
   "language": "python",
   "name": "python3"
  },
  "language_info": {
   "codemirror_mode": {
    "name": "ipython",
    "version": 3
   },
   "file_extension": ".py",
   "mimetype": "text/x-python",
   "name": "python",
   "nbconvert_exporter": "python",
   "pygments_lexer": "ipython3",
   "version": "3.9.12"
  }
 },
 "nbformat": 4,
 "nbformat_minor": 5
}
