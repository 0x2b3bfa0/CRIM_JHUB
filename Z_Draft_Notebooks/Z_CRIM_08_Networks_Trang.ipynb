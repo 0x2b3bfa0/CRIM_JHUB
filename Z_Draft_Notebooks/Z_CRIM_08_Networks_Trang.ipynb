{
 "cells": [
  {
   "cell_type": "code",
   "execution_count": 2,
   "id": "98bcb269",
   "metadata": {},
   "outputs": [],
   "source": [
    "# python imports\n",
    "import pandas as pd\n",
    "import altair as alt\n",
    "import requests\n",
    "import numpy as np\n",
    "\n",
    "# our imports\n",
    "import intervals\n",
    "from intervals import importScore \n",
    "import intervals.visualizations as viz\n",
    "# import visualizations_demo as viz_demo"
   ]
  },
  {
   "cell_type": "code",
   "execution_count": 3,
   "id": "5fe704af",
   "metadata": {},
   "outputs": [],
   "source": [
    "data_observations = requests.get('http://crimproject.org/data/observations/').json()\n",
    "df_observations = pd.json_normalize(data_observations)\n"
   ]
  },
  {
   "cell_type": "code",
   "execution_count": 10,
   "id": "5a5297a3",
   "metadata": {},
   "outputs": [
    {
     "data": {
      "text/plain": [
       "url                                       https://crimproject.org/data/observations/1/\n",
       "id                                                                                   1\n",
       "ema                                  1-6/1,1,1-2,1-2,2,2/@1,@1-3,@1-3+@1,@1-3+@1-3,...\n",
       "musical_type                                                                      fuga\n",
       "remarks                                                           Makes up a longer ID\n",
       "created                                                      2017-06-19T19:22:54-04:00\n",
       "updated                                               2022-02-03T18:01:55.831239-05:00\n",
       "curated                                                                           True\n",
       "observer.url                         https://crimproject.org/data/people/CRIM_Perso...\n",
       "observer.name                                                               Ian Lorenz\n",
       "observer.id                                                                        349\n",
       "piece.url                            https://crimproject.org/data/pieces/CRIM_Model...\n",
       "piece.piece_id                                                         CRIM_Model_0011\n",
       "piece.full_title                                                       Tota pulchra es\n",
       "piece.mass                                                                        None\n",
       "details.voices                                                                  [1, 2]\n",
       "details.inverted                                                                 False\n",
       "details.periodic                                                                 False\n",
       "details.regularity                                                                None\n",
       "details.retrograde                                                               False\n",
       "details.sequential                                                               False\n",
       "details.voice names                                            [Superius, Contratenor]\n",
       "details.time intervals                                                              B2\n",
       "details.entry intervals                                                             4-\n",
       "details.voice names reg                                        [Superius, Contratenor]\n",
       "definition.url                             https://crimproject.org/data/definition/15/\n",
       "definition.id                                                                       15\n",
       "definition.observation_definition    [{'name': 'cantus firmus', 'subtypes': [{'form...\n",
       "details.added entries                                                              NaN\n",
       "details.invertible counterpoint                                                    NaN\n",
       "details.voice                                                                      NaN\n",
       "details.features                                                                   NaN\n",
       "details.ostinato                                                                   NaN\n",
       "details.voice name                                                                 NaN\n",
       "details.voice name reg                                                             NaN\n",
       "details.type                                                                       NaN\n",
       "details.dialogue                                                                   NaN\n",
       "details.tone                                                                       NaN\n",
       "details.cantizans                                                                  NaN\n",
       "details.tenorizans                                                                 NaN\n",
       "details.cantizans name                                                             NaN\n",
       "details.irregular roles                                                            NaN\n",
       "details.tenorizans name                                                            NaN\n",
       "details.dovetail cadence                                                           NaN\n",
       "details.dovetail position                                                          NaN\n",
       "details.irregular cadence                                                          NaN\n",
       "details.cantizans name reg                                                         NaN\n",
       "details.dovetail voice name                                                        NaN\n",
       "details.tenorizans name reg                                                        NaN\n",
       "details.dovetail cadence voice                                                     NaN\n",
       "details.dovetail voice name reg                                                    NaN\n",
       "details                                                                            NaN\n",
       "details.altizans                                                                   NaN\n",
       "details.bassizans                                                                  NaN\n",
       "Name: 0, dtype: object"
      ]
     },
     "execution_count": 10,
     "metadata": {},
     "output_type": "execute_result"
    }
   ],
   "source": [
    "df_observations.iloc[0, :]"
   ]
  },
  {
   "cell_type": "markdown",
   "id": "46ae9e6a",
   "metadata": {},
   "source": [
    "## D.  CRIM Metadata as Networks \n",
    "\n",
    "* uses `create_comparisons_networks_and_interactive_df`\n",
    "\n",
    "We can create a some network visualizations and a df to interact with patterns.\n",
    "\n",
    "Work with both time interval and melodic interval!\n",
    "\n",
    "**Important**:\n",
    "- The plot will be saved in a html file in the folder you choose.\n",
    "- The plot might not be displayed if it's not saved in the same folder as the Jupyter Notebook, but you should be able to find it and open it in your computer if necessary.\n",
    "- The `segments` column in the interactive df shows the range of the measures the observation was found, for example: `['5-9', '14-18']` means that the observation have been found from measure 5 to measure 9, and again from measure 14 to measure 18.\n",
    "\n"
   ]
  },
  {
   "cell_type": "markdown",
   "id": "9e777dd3",
   "metadata": {},
   "source": [
    "### D.1  Network of PEns by Melodic Intervals between Entries\n",
    "\n",
    "The columns of interest from table containing observations fetched from the CRIM database would be `mt_pe_int` (`mt` = musical type, `pe` = periodic entries, `int`= intervals) and we would choose `interval_type` to be `melodic intervals`. The table's corresponding ema column is `ema`."
   ]
  },
  {
   "cell_type": "code",
   "execution_count": 5,
   "id": "04a18bb6",
   "metadata": {},
   "outputs": [
    {
     "ename": "Exception",
     "evalue": "Please put either 'time' or 'melodic' for `type_interval`",
     "output_type": "error",
     "traceback": [
      "\u001b[0;31m---------------------------------------------------------------------------\u001b[0m",
      "\u001b[0;31mException\u001b[0m                                 Traceback (most recent call last)",
      "Cell \u001b[0;32mIn [5], line 1\u001b[0m\n\u001b[0;32m----> 1\u001b[0m pen_networks, pen_widget \u001b[38;5;241m=\u001b[39m \u001b[43mviz\u001b[49m\u001b[38;5;241;43m.\u001b[39;49m\u001b[43mcreate_comparisons_networks_and_interactive_df\u001b[49m\u001b[43m(\u001b[49m\u001b[43mdf_observations\u001b[49m\u001b[43m,\u001b[49m\u001b[43m \u001b[49m\u001b[38;5;124;43m'\u001b[39;49m\u001b[38;5;124;43mmusical_type\u001b[39;49m\u001b[38;5;124;43m'\u001b[39;49m\u001b[43m,\u001b[49m\u001b[43m \u001b[49m\u001b[38;5;124;43m'\u001b[39;49m\u001b[38;5;124;43mdetails.entry intervals\u001b[39;49m\u001b[38;5;124;43m'\u001b[39;49m\u001b[43m,\u001b[49m\u001b[43m \u001b[49m\u001b[38;5;124;43m'\u001b[39;49m\u001b[38;5;124;43mema\u001b[39;49m\u001b[38;5;124;43m'\u001b[39;49m\u001b[43m)\u001b[49m\n",
      "File \u001b[0;32m~/opt/anaconda3/envs/intervals/lib/python3.9/site-packages/intervals/visualizations.py:462\u001b[0m, in \u001b[0;36mcreate_comparisons_networks_and_interactive_df\u001b[0;34m(df, interval_column, interval_type, ema_column, patterns)\u001b[0m\n\u001b[1;32m    459\u001b[0m \u001b[38;5;28;01mif\u001b[39;00m patterns:\n\u001b[1;32m    460\u001b[0m     df \u001b[38;5;241m=\u001b[39m df[df[interval_column]\u001b[38;5;241m.\u001b[39misin(patterns)]\u001b[38;5;241m.\u001b[39mcopy()\n\u001b[0;32m--> 462\u001b[0m networks_dict \u001b[38;5;241m=\u001b[39m \u001b[43mcreate_interval_networks\u001b[49m\u001b[43m(\u001b[49m\u001b[43mdf\u001b[49m\u001b[43m[\u001b[49m\u001b[43minterval_column\u001b[49m\u001b[43m]\u001b[49m\u001b[43m,\u001b[49m\u001b[43m \u001b[49m\u001b[43minterval_type\u001b[49m\u001b[43m)\u001b[49m\n\u001b[1;32m    463\u001b[0m df \u001b[38;5;241m=\u001b[39m process_network_df(df, interval_column, ema_column)\n\u001b[1;32m    464\u001b[0m \u001b[38;5;28;01mreturn\u001b[39;00m networks_dict, create_interactive_compare_df(df, interval_column)\n",
      "File \u001b[0;32m~/opt/anaconda3/envs/intervals/lib/python3.9/site-packages/intervals/visualizations.py:396\u001b[0m, in \u001b[0;36mcreate_interval_networks\u001b[0;34m(interval_column, interval_type)\u001b[0m\n\u001b[1;32m    394\u001b[0m     separator \u001b[38;5;241m=\u001b[39m \u001b[38;5;124m'\u001b[39m\u001b[38;5;124m/\u001b[39m\u001b[38;5;124m'\u001b[39m\n\u001b[1;32m    395\u001b[0m \u001b[38;5;28;01melse\u001b[39;00m:\n\u001b[0;32m--> 396\u001b[0m     \u001b[38;5;28;01mraise\u001b[39;00m \u001b[38;5;167;01mException\u001b[39;00m(\u001b[38;5;124m\"\u001b[39m\u001b[38;5;124mPlease put either \u001b[39m\u001b[38;5;124m'\u001b[39m\u001b[38;5;124mtime\u001b[39m\u001b[38;5;124m'\u001b[39m\u001b[38;5;124m or \u001b[39m\u001b[38;5;124m'\u001b[39m\u001b[38;5;124mmelodic\u001b[39m\u001b[38;5;124m'\u001b[39m\u001b[38;5;124m for `type_interval`\u001b[39m\u001b[38;5;124m\"\u001b[39m)\n\u001b[1;32m    398\u001b[0m \u001b[38;5;66;03m# nodes would be grouped according to the first interval\u001b[39;00m\n\u001b[1;32m    399\u001b[0m group \u001b[38;5;241m=\u001b[39m nodes[\u001b[38;5;241m0\u001b[39m]\n",
      "\u001b[0;31mException\u001b[0m: Please put either 'time' or 'melodic' for `type_interval`"
     ]
    }
   ],
   "source": [
    "pen_networks, pen_widget = viz.create_comparisons_networks_and_interactive_df(df_observations, 'musical_type', 'details.entry intervals', 'ema')"
   ]
  },
  {
   "cell_type": "markdown",
   "id": "0e9883c2",
   "metadata": {},
   "source": [
    "**See all the available starting intervals**:\n",
    "\n",
    "- the 'all' key means that this networks contains all of the pens.\n",
    "- If you select a network with specific starting intervals (e.g: 8+), it only contains pens that start with 8+."
   ]
  },
  {
   "cell_type": "code",
   "execution_count": 16,
   "id": "d719360b",
   "metadata": {},
   "outputs": [
    {
     "data": {
      "text/plain": [
       "{'all': <class 'pyvis.network.Network'> |N|=2 |E|=340,\n",
       " 'fuga': <class 'pyvis.network.Network'> |N|=0 |E|=0,\n",
       " 'periodic entry': <class 'pyvis.network.Network'> |N|=0 |E|=0,\n",
       " 'soggetto': <class 'pyvis.network.Network'> |N|=0 |E|=0,\n",
       " 'cantus firmus': <class 'pyvis.network.Network'> |N|=0 |E|=0,\n",
       " 'non-': <class 'pyvis.network.Network'> |N|=1 |E|=0,\n",
       " 'imitative duo': <class 'pyvis.network.Network'> |N|=0 |E|=0,\n",
       " 'homorhythm': <class 'pyvis.network.Network'> |N|=0 |E|=0,\n",
       " 'counter soggetto': <class 'pyvis.network.Network'> |N|=0 |E|=0,\n",
       " 'contrapuntal duo': <class 'pyvis.network.Network'> |N|=0 |E|=0,\n",
       " 'cadence': <class 'pyvis.network.Network'> |N|=0 |E|=0,\n",
       " '': <class 'pyvis.network.Network'> |N|=0 |E|=0,\n",
       " 'non imitative duo': <class 'pyvis.network.Network'> |N|=0 |E|=0}"
      ]
     },
     "execution_count": 16,
     "metadata": {},
     "output_type": "execute_result"
    }
   ],
   "source": [
    "pen_networks"
   ]
  },
  {
   "cell_type": "code",
   "execution_count": 17,
   "id": "20f7aaa9",
   "metadata": {},
   "outputs": [
    {
     "data": {
      "text/html": [
       "\n",
       "        <iframe\n",
       "            width=\"500px\"\n",
       "            height=\"500px\"\n",
       "            src=\"all_pen.html\"\n",
       "            frameborder=\"0\"\n",
       "            allowfullscreen\n",
       "            \n",
       "        ></iframe>\n",
       "        "
      ],
      "text/plain": [
       "<IPython.lib.display.IFrame at 0x7fb0e1c26f10>"
      ]
     },
     "execution_count": 17,
     "metadata": {},
     "output_type": "execute_result"
    }
   ],
   "source": [
    "# show all the patterns mapped onto one network\n",
    "pen_networks['all'].show('all_pen.html')\n"
   ]
  },
  {
   "cell_type": "code",
   "execution_count": 18,
   "id": "70f2b5a2",
   "metadata": {},
   "outputs": [
    {
     "ename": "KeyError",
     "evalue": "'8+'",
     "output_type": "error",
     "traceback": [
      "\u001b[0;31m---------------------------------------------------------------------------\u001b[0m",
      "\u001b[0;31mKeyError\u001b[0m                                  Traceback (most recent call last)",
      "Cell \u001b[0;32mIn [18], line 2\u001b[0m\n\u001b[1;32m      1\u001b[0m \u001b[38;5;66;03m# show only one family of patterns mapped onto one network\u001b[39;00m\n\u001b[0;32m----> 2\u001b[0m \u001b[43mpen_networks\u001b[49m\u001b[43m[\u001b[49m\u001b[38;5;124;43m'\u001b[39;49m\u001b[38;5;124;43m8+\u001b[39;49m\u001b[38;5;124;43m'\u001b[39;49m\u001b[43m]\u001b[49m\u001b[38;5;241m.\u001b[39mshow(\u001b[38;5;124m'\u001b[39m\u001b[38;5;124mnetworks/8+_pen.html\u001b[39m\u001b[38;5;124m'\u001b[39m)\n",
      "\u001b[0;31mKeyError\u001b[0m: '8+'"
     ]
    }
   ],
   "source": [
    "# show only one family of patterns mapped onto one network\n",
    "pen_networks['8+'].show('networks/8+_pen.html')"
   ]
  },
  {
   "cell_type": "markdown",
   "id": "4c5bb445",
   "metadata": {},
   "source": [
    "### D.2  Network of Fugas by Melodic Intervals between Entries\n",
    "\n",
    "The columns of interest from table containing observations fetched from the CRIM database would be `mt_fg_int` (mt= musical type, fg= Fuga, int=intervals) and we would choose `interval_type` to be `melodic`. The table's corresponding ema column is `ema`."
   ]
  },
  {
   "cell_type": "code",
   "execution_count": null,
   "id": "ed1bd34b",
   "metadata": {},
   "outputs": [],
   "source": [
    "fuga_networks, fuga_widget = viz.create_comparisons_networks_and_interactive_df(df_observations, 'mt_fg_int', 'melodic', 'ema')"
   ]
  },
  {
   "cell_type": "code",
   "execution_count": null,
   "id": "dd1f0174",
   "metadata": {},
   "outputs": [],
   "source": [
    "# we are interested in the patterns that start with 4-\n",
    "# fuga_networks['4-'].show('networks/4-_fuga.html')\n",
    "fuga_networks['4-'].show('4-_fuga.html')"
   ]
  },
  {
   "cell_type": "code",
   "execution_count": null,
   "id": "7e5450c5",
   "metadata": {},
   "outputs": [],
   "source": [
    "fuga_networks"
   ]
  },
  {
   "cell_type": "markdown",
   "id": "e97cb9ca",
   "metadata": {},
   "source": [
    "### D.3. CRIM Relationships as Network of Pieces\n",
    "\n",
    "* `plot_relationship_network` method\n",
    "\n",
    "This method accepts a dataframe of CRIM relationships and generate a network of observations.\n",
    "\n",
    "In the network:\n",
    "\n",
    "- the nodes are the observations (labeled with the piece and measures they are in)\n",
    "- the edges are the relationships. \n",
    "    - points from a model_observation to a derivative observation.\n",
    "    - are weighted differently based on the type of the relationships.\n",
    "    - are labeled with the relationship type\n",
    "    - are colored based on the users' choice.\n",
    "\n",
    "**WARNING**: Edge color isn't always a correct indicator of the relationship type.\n",
    "\n",
    "The color of the edges is derived from the nodes; therefore, they would not be colored correctly when:\n",
    "\n",
    "1. color='derivative'\n",
    "\n",
    "model1 --(quotation)--> model2\n",
    "\n",
    "model3 --(new material)--> model2\n",
    "\n",
    "because of the first relationship, model2 and the two edges pointing to it would be colored with quotation's color.\n",
    "\n",
    "2. color='model'\n",
    "\n",
    "model1 --(quotation)--> model2\n",
    "\n",
    "model1 --(new material)--> model3\n",
    "\n",
    "because of the first relationship, model1 and the two out edges from model1 would be colored with quotation's color\n",
    "\n",
    "In this case, we should pay attention to the edges' thickness (different weights mean different relationship types) or hover over the edges to see the relationship type labels.\n",
    "\n",
    "**Seeing the big picture with the color modes being `model` or `derivative`**\n",
    "\n",
    "We have two options for the `color` parameter. \n",
    "\n",
    "- `derivative` (default): the edges and nodes of derivative observations will be colored according to the relationships. \n",
    "- `model` (default): the edges and nodes of model observations will be colored according to the relationships. \n",
    "\n",
    "**Here I use df_relationships.head(300) instead of df_relationships because plotting all of the relationships usually takes really long**.\n",
    "\n",
    "#### color=`derivative`"
   ]
  },
  {
   "cell_type": "code",
   "execution_count": 31,
   "id": "9cab986a",
   "metadata": {},
   "outputs": [
    {
     "ename": "AttributeError",
     "evalue": "module 'intervals.visualizations' has no attribute 'plot_relationship_network'",
     "output_type": "error",
     "traceback": [
      "\u001b[0;31m---------------------------------------------------------------------------\u001b[0m",
      "\u001b[0;31mAttributeError\u001b[0m                            Traceback (most recent call last)",
      "Input \u001b[0;32mIn [31]\u001b[0m, in \u001b[0;36m<cell line: 1>\u001b[0;34m()\u001b[0m\n\u001b[0;32m----> 1\u001b[0m nt \u001b[38;5;241m=\u001b[39m \u001b[43mviz\u001b[49m\u001b[38;5;241;43m.\u001b[39;49m\u001b[43mplot_relationship_network\u001b[49m(df_relationships\u001b[38;5;241m.\u001b[39mhead(\u001b[38;5;241m300\u001b[39m), color\u001b[38;5;241m=\u001b[39m\u001b[38;5;124m'\u001b[39m\u001b[38;5;124mderivative\u001b[39m\u001b[38;5;124m'\u001b[39m)\n\u001b[1;32m      2\u001b[0m nt\u001b[38;5;241m.\u001b[39mshow(\u001b[38;5;124m'\u001b[39m\u001b[38;5;124msmall_relationships_network_derivative.html\u001b[39m\u001b[38;5;124m'\u001b[39m)\n",
      "\u001b[0;31mAttributeError\u001b[0m: module 'intervals.visualizations' has no attribute 'plot_relationship_network'"
     ]
    }
   ],
   "source": [
    "nt = viz.plot_relationship_network(df_relationships.head(300), color='derivative')\n",
    "nt.show('small_relationships_network_derivative.html')"
   ]
  },
  {
   "cell_type": "markdown",
   "id": "1e8d8146",
   "metadata": {},
   "source": [
    "#### color=`model`"
   ]
  },
  {
   "cell_type": "code",
   "execution_count": 30,
   "id": "12c1098d",
   "metadata": {},
   "outputs": [
    {
     "ename": "AttributeError",
     "evalue": "module 'intervals.visualizations' has no attribute 'plot_relationship_network'",
     "output_type": "error",
     "traceback": [
      "\u001b[0;31m---------------------------------------------------------------------------\u001b[0m",
      "\u001b[0;31mAttributeError\u001b[0m                            Traceback (most recent call last)",
      "Input \u001b[0;32mIn [30]\u001b[0m, in \u001b[0;36m<cell line: 1>\u001b[0;34m()\u001b[0m\n\u001b[0;32m----> 1\u001b[0m nt2 \u001b[38;5;241m=\u001b[39m \u001b[43mviz\u001b[49m\u001b[38;5;241;43m.\u001b[39;49m\u001b[43mplot_relationship_network\u001b[49m(df_relationships\u001b[38;5;241m.\u001b[39mhead(\u001b[38;5;241m300\u001b[39m), color\u001b[38;5;241m=\u001b[39m\u001b[38;5;124m'\u001b[39m\u001b[38;5;124mmodel\u001b[39m\u001b[38;5;124m'\u001b[39m)\n\u001b[1;32m      2\u001b[0m nt2\u001b[38;5;241m.\u001b[39mshow(\u001b[38;5;124m'\u001b[39m\u001b[38;5;124msmall_relationships_network_model.html\u001b[39m\u001b[38;5;124m'\u001b[39m)\n",
      "\u001b[0;31mAttributeError\u001b[0m: module 'intervals.visualizations' has no attribute 'plot_relationship_network'"
     ]
    }
   ],
   "source": [
    "nt2 = viz.plot_relationship_network(df_relationships.head(300), color='model')\n",
    "nt2.show('small_relationships_network_model.html')"
   ]
  },
  {
   "cell_type": "markdown",
   "id": "f8ef06a9",
   "metadata": {},
   "source": [
    "### D.4  Networks with Specific Pieces (In Progress)\n",
    "\n",
    "The two plots are too cluttered so we can't see the relationship_type between specific measures inside pieces. \n",
    "\n",
    "Selecting **specific models** with `selected_model_ids` and **specific derivatives** with`selected_derivative_ids` \n",
    "\n",
    "The first example shows all the movements of Févin's Missa Ave Maria as a network.  This reveals which parts of the model have been used where, since 'centers' on the map represent particular measure ranges from the motet.\n",
    "\n"
   ]
  },
  {
   "cell_type": "code",
   "execution_count": 32,
   "id": "8c11dd75",
   "metadata": {},
   "outputs": [
    {
     "ename": "AttributeError",
     "evalue": "module 'intervals.visualizations' has no attribute 'plot_relationship_network'",
     "output_type": "error",
     "traceback": [
      "\u001b[0;31m---------------------------------------------------------------------------\u001b[0m",
      "\u001b[0;31mAttributeError\u001b[0m                            Traceback (most recent call last)",
      "Input \u001b[0;32mIn [32]\u001b[0m, in \u001b[0;36m<cell line: 6>\u001b[0;34m()\u001b[0m\n\u001b[1;32m      1\u001b[0m \u001b[38;5;66;03m# nt3 = viz_demo.plot_relationship_network(df_relationships, selected_derivative_ids=['CRIM_Mass_0017_3', 'CRIM_Mass_0008_4',\u001b[39;00m\n\u001b[1;32m      2\u001b[0m \u001b[38;5;66;03m#        'CRIM_Mass_0003_5', 'CRIM_Mass_0014_4', 'CRIM_Mass_0018_1',\u001b[39;00m\n\u001b[1;32m      3\u001b[0m \u001b[38;5;66;03m#        'CRIM_Mass_0018_2', 'CRIM_Mass_0005_5'], color='derivative')\u001b[39;00m\n\u001b[1;32m      4\u001b[0m \u001b[38;5;66;03m# nt3.show('selected_derivatives.html')\u001b[39;00m\n\u001b[0;32m----> 6\u001b[0m nt3 \u001b[38;5;241m=\u001b[39m \u001b[43mviz\u001b[49m\u001b[38;5;241;43m.\u001b[39;49m\u001b[43mplot_relationship_network\u001b[49m(df_relationships, selected_derivative_ids\u001b[38;5;241m=\u001b[39m[\n\u001b[1;32m      7\u001b[0m        \u001b[38;5;124m'\u001b[39m\u001b[38;5;124mCRIM_Mass_0005_3\u001b[39m\u001b[38;5;124m'\u001b[39m, \u001b[38;5;124m'\u001b[39m\u001b[38;5;124mCRIM_Mass_0005_2\u001b[39m\u001b[38;5;124m'\u001b[39m, \u001b[38;5;124m'\u001b[39m\u001b[38;5;124mCRIM_Mass_0005_1\u001b[39m\u001b[38;5;124m'\u001b[39m,\n\u001b[1;32m      8\u001b[0m        \u001b[38;5;124m'\u001b[39m\u001b[38;5;124mCRIM_Mass_0005_4\u001b[39m\u001b[38;5;124m'\u001b[39m, \u001b[38;5;124m'\u001b[39m\u001b[38;5;124mCRIM_Mass_0005_5\u001b[39m\u001b[38;5;124m'\u001b[39m], color\u001b[38;5;241m=\u001b[39m\u001b[38;5;124m'\u001b[39m\u001b[38;5;124mderivative\u001b[39m\u001b[38;5;124m'\u001b[39m)\n\u001b[1;32m      9\u001b[0m nt3\u001b[38;5;241m.\u001b[39mshow(\u001b[38;5;124m'\u001b[39m\u001b[38;5;124mselected_derivatives.html\u001b[39m\u001b[38;5;124m'\u001b[39m)\n",
      "\u001b[0;31mAttributeError\u001b[0m: module 'intervals.visualizations' has no attribute 'plot_relationship_network'"
     ]
    }
   ],
   "source": [
    "# nt3 = viz_demo.plot_relationship_network(df_relationships, selected_derivative_ids=['CRIM_Mass_0017_3', 'CRIM_Mass_0008_4',\n",
    "#        'CRIM_Mass_0003_5', 'CRIM_Mass_0014_4', 'CRIM_Mass_0018_1',\n",
    "#        'CRIM_Mass_0018_2', 'CRIM_Mass_0005_5'], color='derivative')\n",
    "# nt3.show('selected_derivatives.html')\n",
    "\n",
    "nt3 = viz.plot_relationship_network(df_relationships, selected_derivative_ids=[\n",
    "       'CRIM_Mass_0005_3', 'CRIM_Mass_0005_2', 'CRIM_Mass_0005_1',\n",
    "       'CRIM_Mass_0005_4', 'CRIM_Mass_0005_5'], color='derivative')\n",
    "nt3.show('selected_derivatives.html')"
   ]
  },
  {
   "cell_type": "markdown",
   "id": "604c22a8",
   "metadata": {},
   "source": [
    "**Network for One Model**\n",
    "\n",
    "* Here is the same network mapped from the perspective of a model"
   ]
  },
  {
   "cell_type": "code",
   "execution_count": 33,
   "id": "112eee88",
   "metadata": {},
   "outputs": [
    {
     "ename": "AttributeError",
     "evalue": "module 'intervals.visualizations' has no attribute 'plot_relationship_network'",
     "output_type": "error",
     "traceback": [
      "\u001b[0;31m---------------------------------------------------------------------------\u001b[0m",
      "\u001b[0;31mAttributeError\u001b[0m                            Traceback (most recent call last)",
      "Input \u001b[0;32mIn [33]\u001b[0m, in \u001b[0;36m<cell line: 1>\u001b[0;34m()\u001b[0m\n\u001b[0;32m----> 1\u001b[0m nt4 \u001b[38;5;241m=\u001b[39m \u001b[43mviz\u001b[49m\u001b[38;5;241;43m.\u001b[39;49m\u001b[43mplot_relationship_network\u001b[49m(df_relationships, selected_model_ids \u001b[38;5;241m=\u001b[39m [\u001b[38;5;124m'\u001b[39m\u001b[38;5;124mCRIM_Model_0008\u001b[39m\u001b[38;5;124m'\u001b[39m], color\u001b[38;5;241m=\u001b[39m\u001b[38;5;124m'\u001b[39m\u001b[38;5;124mderivative\u001b[39m\u001b[38;5;124m'\u001b[39m)\n\u001b[1;32m      2\u001b[0m nt4\u001b[38;5;241m.\u001b[39mshow(\u001b[38;5;124m'\u001b[39m\u001b[38;5;124mselected_model.html\u001b[39m\u001b[38;5;124m'\u001b[39m)\n",
      "\u001b[0;31mAttributeError\u001b[0m: module 'intervals.visualizations' has no attribute 'plot_relationship_network'"
     ]
    }
   ],
   "source": [
    "nt4 = viz.plot_relationship_network(df_relationships, selected_model_ids = ['CRIM_Model_0008'], color='derivative')\n",
    "nt4.show('selected_model.html')"
   ]
  },
  {
   "cell_type": "markdown",
   "id": "a5e53b65",
   "metadata": {},
   "source": [
    "#### Plotting pieces that are relevant to a list of interested pieces with `selected_members`\n",
    "Having some of interest pieces, we want to plot all pieces that happen to connect to these pieces somehow."
   ]
  },
  {
   "cell_type": "code",
   "execution_count": 34,
   "id": "daa5143b",
   "metadata": {},
   "outputs": [
    {
     "ename": "AttributeError",
     "evalue": "module 'intervals.visualizations' has no attribute 'plot_relationship_network'",
     "output_type": "error",
     "traceback": [
      "\u001b[0;31m---------------------------------------------------------------------------\u001b[0m",
      "\u001b[0;31mAttributeError\u001b[0m                            Traceback (most recent call last)",
      "Input \u001b[0;32mIn [34]\u001b[0m, in \u001b[0;36m<cell line: 1>\u001b[0;34m()\u001b[0m\n\u001b[0;32m----> 1\u001b[0m nt5 \u001b[38;5;241m=\u001b[39m \u001b[43mviz\u001b[49m\u001b[38;5;241;43m.\u001b[39;49m\u001b[43mplot_relationship_network\u001b[49m(df_relationships, selected_model_ids \u001b[38;5;241m=\u001b[39m [\u001b[38;5;124m'\u001b[39m\u001b[38;5;124mCRIM_Model_0008\u001b[39m\u001b[38;5;124m'\u001b[39m, \u001b[38;5;124m'\u001b[39m\u001b[38;5;124mCRIM_Model_0016\u001b[39m\u001b[38;5;124m'\u001b[39m], selected_families\u001b[38;5;241m=\u001b[39m[\u001b[38;5;124m'\u001b[39m\u001b[38;5;124mCRIM_Mass_0017_3\u001b[39m\u001b[38;5;124m'\u001b[39m, \u001b[38;5;124m'\u001b[39m\u001b[38;5;124mCRIM_Mass_0008_4\u001b[39m\u001b[38;5;124m'\u001b[39m,\n\u001b[1;32m      2\u001b[0m        \u001b[38;5;124m'\u001b[39m\u001b[38;5;124mCRIM_Mass_0003_5\u001b[39m\u001b[38;5;124m'\u001b[39m, \u001b[38;5;124m'\u001b[39m\u001b[38;5;124mCRIM_Mass_0014_4\u001b[39m\u001b[38;5;124m'\u001b[39m, \u001b[38;5;124m'\u001b[39m\u001b[38;5;124mCRIM_Mass_0018_1\u001b[39m\u001b[38;5;124m'\u001b[39m,\n\u001b[1;32m      3\u001b[0m        \u001b[38;5;124m'\u001b[39m\u001b[38;5;124mCRIM_Mass_0018_2\u001b[39m\u001b[38;5;124m'\u001b[39m, \u001b[38;5;124m'\u001b[39m\u001b[38;5;124mCRIM_Mass_0005_5\u001b[39m\u001b[38;5;124m'\u001b[39m], color\u001b[38;5;241m=\u001b[39m\u001b[38;5;124m'\u001b[39m\u001b[38;5;124mderivative\u001b[39m\u001b[38;5;124m'\u001b[39m)\n\u001b[1;32m      4\u001b[0m nt5\u001b[38;5;241m.\u001b[39mshow(\u001b[38;5;124m'\u001b[39m\u001b[38;5;124mselected_model_families.html\u001b[39m\u001b[38;5;124m'\u001b[39m)\n",
      "\u001b[0;31mAttributeError\u001b[0m: module 'intervals.visualizations' has no attribute 'plot_relationship_network'"
     ]
    }
   ],
   "source": [
    "nt5 = viz.plot_relationship_network(df_relationships, selected_model_ids = ['CRIM_Model_0008', 'CRIM_Model_0016'], selected_families=['CRIM_Mass_0017_3', 'CRIM_Mass_0008_4',\n",
    "       'CRIM_Mass_0003_5', 'CRIM_Mass_0014_4', 'CRIM_Mass_0018_1',\n",
    "       'CRIM_Mass_0018_2', 'CRIM_Mass_0005_5'], color='derivative')\n",
    "nt5.show('selected_model_families.html')"
   ]
  },
  {
   "cell_type": "code",
   "execution_count": null,
   "id": "810007cf",
   "metadata": {},
   "outputs": [],
   "source": []
  },
  {
   "cell_type": "code",
   "execution_count": null,
   "id": "e486d6c8",
   "metadata": {},
   "outputs": [],
   "source": []
  }
 ],
 "metadata": {
  "kernelspec": {
   "display_name": "Python 3 (ipykernel)",
   "language": "python",
   "name": "python3"
  },
  "language_info": {
   "codemirror_mode": {
    "name": "ipython",
    "version": 3
   },
   "file_extension": ".py",
   "mimetype": "text/x-python",
   "name": "python",
   "nbconvert_exporter": "python",
   "pygments_lexer": "ipython3",
   "version": "3.9.12"
  }
 },
 "nbformat": 4,
 "nbformat_minor": 5
}
