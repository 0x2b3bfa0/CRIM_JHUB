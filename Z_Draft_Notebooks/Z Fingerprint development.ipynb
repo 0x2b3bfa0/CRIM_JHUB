{
 "cells": [
  {
   "cell_type": "code",
   "execution_count": null,
   "id": "e7625f2f",
   "metadata": {},
   "outputs": [],
   "source": [
    "### fingerprint the harmonic intervals as a single column\n",
    "df['tb'] = df[df.columns[0:]].apply(\n",
    "    lambda x: '_'.join(x.dropna().astype(str)),\n",
    "    axis=1\n",
    ")\n",
    "df2 = df['tb'].to_frame()\n",
    "df2"
   ]
  }
 ],
 "metadata": {
  "kernelspec": {
   "display_name": "Python 3 (ipykernel)",
   "language": "python",
   "name": "python3"
  },
  "language_info": {
   "codemirror_mode": {
    "name": "ipython",
    "version": 3
   },
   "file_extension": ".py",
   "mimetype": "text/x-python",
   "name": "python",
   "nbconvert_exporter": "python",
   "pygments_lexer": "ipython3",
   "version": "3.9.13"
  }
 },
 "nbformat": 4,
 "nbformat_minor": 5
}
