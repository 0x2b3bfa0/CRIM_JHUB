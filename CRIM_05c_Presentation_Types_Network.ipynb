{
 "cells": [
  {
   "cell_type": "markdown",
   "id": "4577f63f",
   "metadata": {},
   "source": [
    "## Presentation Type Classifier and Networks\n",
    "\n",
    "\n",
    "### What can You do with this Notebook\n",
    "\n",
    "- Find and classify imitative points (fugas, imitative duos, and periodic entries)\n",
    "- Build a network of patterns found in several pieces, and reveal 'communities' of compositions\n",
    "\n",
    "\n",
    "#### Network Visualization with Louvain Communities\n",
    "\n",
    "Read more about **Louvain Community Detection Algorithms**:  https://towardsdatascience.com/community-detection-algorithms-9bd8951e7dae\n",
    "\n",
    "**Updated Summer 2022**\n",
    "**Key Features**:\n",
    "\n",
    "- Uses `getDistance` to identify `close matches` with side-by-side comparison of soggetti.  \n",
    "- For example: With a distance of \"1\", the soggetti `4, 1, 2, 3`, and `5, 1, 2, 3` will count as the same. These are reported as \"flexed entries\" in a separate column.\n",
    "- Finds time intervals between entries (expressed as offsets, like `8.0, 4.0, 8.0`)\n",
    "- Finds melodic intervals between first note of successive entries in each pattern (like `P-5, P-8`)\n",
    "- Labels Fuga, PEn, and ID according to time intervals between entries. NIm not yet supported!\n",
    "- If two entries are separated by more than 10 bars (80 offsets), the tool resets to a new pattern\n",
    "- Counts number of entries\n",
    "- Provides offset and measure/beat locations\n",
    "- Sorts all presentation types by the order in which they appear in the piece\n",
    "- Reports voice names of the entries, in order of their appearance\n",
    "- Omits singleton soggetti (just one entry of a given motive in isolation)\n",
    "    \n",
    "- Read the documentation:  `print(piece.presentationTypes.__doc__)`"
   ]
  },
  {
   "cell_type": "code",
   "execution_count": null,
   "id": "5d5c1fd5",
   "metadata": {},
   "outputs": [],
   "source": [
    "import intervals\n",
    "from intervals import * \n",
    "from intervals import main_objs\n",
    "import intervals.visualizations as viz\n",
    "import pandas as pd\n",
    "import re\n",
    "import altair as alt \n",
    "from ipywidgets import interact\n",
    "from pandas.io.json import json_normalize\n",
    "from pyvis.network import Network\n",
    "from IPython.display import display\n",
    "import requests\n",
    "import os\n",
    "import numpy as np\n",
    "import itertools\n",
    "from itertools import combinations\n",
    "import networkx as nx\n",
    "from community import community_louvain\n",
    "from copy import deepcopy\n",
    "import glob\n",
    "MYDIR = (\"saved_csv\")\n",
    "CHECK_FOLDER = os.path.isdir(MYDIR)\n",
    "\n",
    "# If folder doesn't exist, then create it.\n",
    "if not CHECK_FOLDER:\n",
    "    os.makedirs(MYDIR)\n",
    "    print(\"created folder : \", MYDIR)\n",
    "\n",
    "else:\n",
    "    print(MYDIR, \"folder already exists.\")"
   ]
  },
  {
   "cell_type": "markdown",
   "id": "230179ae",
   "metadata": {},
   "source": [
    "## A.  Start by Finding Presentation Types in a Corpus of Pieces \n",
    "\n",
    "* The **CorpusBase** class is a convenient way to find patterns in any given list of pieces.\n",
    "* The pieces are provided as a **list**, within square brackets and separated by commas.  \n",
    "* The bracketed list is then contained within the parentheses of `CorpusBase()`\n",
    "* For example: \n",
    "\n",
    "\n",
    "```prefix = 'https://raw.githubusercontent.com/CRIM-Project/CRIM-online/master/crim/static/mei/MEI_4.0/'\n",
    "piece_list = ['CRIM_Model_0019',\n",
    "             'CRIM_Mass_0019_1',\n",
    "             'CRIM_Mass_0019_2',\n",
    "             'CRIM_Mass_0019_3',\n",
    "             'CRIM_Mass_0019_4',\n",
    "             'CRIM_Mass_0019_5']\n",
    "suffix = '.mei'\n",
    "corpus_list  = []\n",
    "for piece in piece_list:\n",
    "url = prefix + piece + suffix\n",
    "    corpus_list.append(url)\n",
    "\n",
    "```\n",
    "Or for local files:\n",
    "\n",
    "```\n",
    "\n",
    "corpus_list = []\n",
    "for name in glob.glob('Music_Files/*'):\n",
    "    corpus_list.append(name)\n",
    "\n",
    "```\n",
    "\n",
    "\n",
    "\n",
    "\n",
    "* Read the documentation:  `print(CorpusBase.batch.__doc__)`\n",
    "\n"
   ]
  },
  {
   "cell_type": "code",
   "execution_count": null,
   "id": "1fb0e487",
   "metadata": {},
   "outputs": [],
   "source": [
    "# remote corpus\n",
    "\n",
    "corpus_list = []\n",
    "\n",
    "prefix = 'https://crimproject.org/mei/'\n",
    "\n",
    "piece_list = ['CRIM_Model_0019', 'CRIM_Mass_0019_1']\n",
    "suffix = '.mei'\n",
    "\n",
    "for piece in piece_list:\n",
    "    url = prefix + piece + suffix\n",
    "    corpus_list.append(url)\n",
    "\n",
    "\n",
    "corpus_list"
   ]
  },
  {
   "cell_type": "code",
   "execution_count": null,
   "id": "6471c007",
   "metadata": {},
   "outputs": [],
   "source": [
    "# local files\n",
    "corpus_list = []\n",
    "for name in glob.glob('Music_Files/*'):\n",
    "    corpus_list.append(name)\n"
   ]
  },
  {
   "cell_type": "markdown",
   "id": "68378a4a",
   "metadata": {},
   "source": [
    "### Now Run the PresentationType method on the Corpus"
   ]
  },
  {
   "cell_type": "code",
   "execution_count": null,
   "id": "e6aedb2f",
   "metadata": {},
   "outputs": [],
   "source": [
    "# This will need to be modified if using a corpus method different from the CRIM Project above.\n",
    "final = pd.DataFrame()\n",
    "\n",
    "for work in corpus_list:\n",
    "\n",
    "    piece = importScore(work)   \n",
    "    output = piece.presentationTypes(limit_to_entries = True,\n",
    "                                     head_flex = 1,\n",
    "                                      body_flex = 0,\n",
    "                                    include_hidden_types = False,\n",
    "                                    combine_unisons = True,\n",
    "                                   melodic_ngram_length = 4)\n",
    "\n",
    "    final['Validation'] = \"\"\n",
    "    final['Comments'] = \"\"\n",
    "    final = final.append(output, ignore_index=True)\n",
    "\n",
    "# final.to_csv(\"corpus_classified.csv\")\n",
    "# final.to_csv(\"saved_csv/CRIM_Mass_0019_P_Types_hidden.csv\")"
   ]
  },
  {
   "cell_type": "code",
   "execution_count": null,
   "id": "2442aa7f",
   "metadata": {},
   "outputs": [],
   "source": [
    "final\n"
   ]
  },
  {
   "cell_type": "markdown",
   "id": "712312e9",
   "metadata": {},
   "source": [
    "## Various Options to Filter to Prepare to Network\n",
    "\n",
    "See the Presentation Type Filter Notebook for more ideas!\n",
    "\n",
    "But the results of this filtering are needed to make useful networks below!\n",
    "\n",
    "* by type\n",
    "* by piece\n",
    "* according to length between entries"
   ]
  },
  {
   "cell_type": "code",
   "execution_count": null,
   "id": "660b9484",
   "metadata": {},
   "outputs": [],
   "source": [
    "# filter for only ID or PEN\n",
    "pen_id_filter = final['Presentation_Type'].isin([\"PEN\"])\n",
    "pen_id_only = final[pen_id_filter]\n",
    "final = pen_id_only.copy()\n",
    "len(final)\n",
    "\n"
   ]
  },
  {
   "cell_type": "markdown",
   "id": "0ff9d5d6",
   "metadata": {},
   "source": [
    "## B. Network Visualization with Louvain Communities\n",
    "\n",
    "* This will only make sense for a corpus!"
   ]
  },
  {
   "cell_type": "markdown",
   "id": "2a650de9",
   "metadata": {},
   "source": [
    "## Add Combined Data for Melodic, Time and Soggetti as \"Words\" for Network Edges\n",
    "\n",
    "- We combine the lists of time and melodic intervals of entries as strings (thus a kind of word that uniquely identifies that pattern)\n",
    "- We do the same for soggetti, combining the melodic intervals themselves as a string\n",
    "- These are in turn assembled in various combinations:  TINT, MINT, and SOG, also as strings"
   ]
  },
  {
   "cell_type": "code",
   "execution_count": null,
   "id": "a12e3324",
   "metadata": {},
   "outputs": [],
   "source": [
    "final[\"MINT\"] = final[\"Melodic_Entry_Intervals\"].apply(joiner)\n",
    "final[\"TINT\"] = final[\"Time_Entry_Intervals\"].apply(joiner)\n",
    "\n",
    "final['SOG'] = final['Soggetti'].apply(clean_melody_new)\n",
    "final['ALL'] = final[\"MINT\"] + '_' + final[\"TINT\"] + '_' + final['SOG']\n",
    "\n",
    "final[\"ALL_INT\"] = final[\"MINT\"] + '_' + final[\"TINT\"]\n",
    "final[\"MINT_SOG\"] = final[\"MINT\"] + '_' + final[\"SOG\"]\n",
    "final[\"TINT_SOG\"] = final[\"TINT\"] + '_' + final[\"SOG\"]\n",
    "final.head()"
   ]
  },
  {
   "cell_type": "markdown",
   "id": "e8079233",
   "metadata": {},
   "source": [
    "### Make Groups, Based on Selected Criteria:\n",
    "\n",
    "* MINT (the melodic intervals between imitative entries)\n",
    "* TINT (the time intervals between imitative entries)\n",
    "* SOG (the soggetti)\n",
    "* Or any of the combinations:\n",
    "    * ALL (MINT + TINT + Soggetti)\n",
    "    * ALL_INT (MINT + TINT)\n",
    "    * MINT_SOG (MINT + Soggetti)\n",
    "    * TINT_SOG (TINT + Soggetti)"
   ]
  },
  {
   "cell_type": "code",
   "execution_count": null,
   "id": "08e26ce7",
   "metadata": {},
   "outputs": [],
   "source": [
    "\n",
    "output_grouped = final.groupby(['Title'])['MINT'].apply(list).reset_index()\n",
    "output_grouped\n"
   ]
  },
  {
   "cell_type": "markdown",
   "id": "7451e09b",
   "metadata": {},
   "source": [
    "## Group and Find Unique Pairs\n",
    "\n",
    "- the pairing must be applied to columns that have more than one value, like Title, since these form the edges"
   ]
  },
  {
   "cell_type": "code",
   "execution_count": null,
   "id": "b1d0e559",
   "metadata": {},
   "outputs": [],
   "source": [
    "pairs = output_grouped.MINT.apply(lambda x: list(combinations(x, 2)))\n",
    "pairs2 = pairs.explode().dropna()\n",
    "unique_pairs = pairs.explode().dropna().unique()\n",
    "len(unique_pairs)"
   ]
  },
  {
   "cell_type": "code",
   "execution_count": null,
   "id": "98051db6",
   "metadata": {},
   "outputs": [],
   "source": [
    "# define network functions.  Do not edit!\n",
    "\n",
    "def add_communities(G):\n",
    "    G = deepcopy(G)\n",
    "    partition = community_louvain.best_partition(G)\n",
    "    nx.set_node_attributes(G, partition, \"group\")\n",
    "    return G\n",
    "\n",
    "def create_node_html(node: str, source_df: pd.DataFrame, node_col: str):\n",
    "    rows = source_df.loc[source_df[node_col] == node].itertuples()\n",
    "    \n",
    "    html_lis = []\n",
    "    \n",
    "    for r in rows:\n",
    "        html_lis.append(f\"\"\"<li>Composer: {r.Composer}<br>\n",
    "                                Title: {r.Title}<br>\n",
    "                                Offset: {r.First_Offset}</li>\"\"\"\n",
    "                       )\n",
    "        \n",
    "    html_ul = f\"\"\"<ul>{''.join(html_lis)}</ul>\"\"\"\n",
    "        \n",
    "    return html_ul\n",
    "\n",
    "\n",
    "def add_nodes_from_edgelist(edge_list: list, \n",
    "                               source_df: pd.DataFrame, \n",
    "                               graph: nx.Graph,\n",
    "                               node_col: str):\n",
    "    \n",
    "    graph = deepcopy(graph)\n",
    "    \n",
    "    node_list = pd.Series(edge_list).apply(pd.Series).stack().unique()\n",
    "    \n",
    "    for n in node_list:\n",
    "        graph.add_node(n, title=create_node_html(n, source_df, node_col))\n",
    "        \n",
    "    return graph\n",
    "\n",
    "def choose_network(df, chosen_word, file_name):\n",
    "    \n",
    "    if len(df) < 1:\n",
    "        print(\"Sorry, No P Types to display\")\n",
    "    else:\n",
    "        output_grouped = df.groupby(['Title'])[chosen_word].apply(list).reset_index()\n",
    "        pairs = output_grouped[chosen_word].apply(lambda x: list(combinations(x, 2)))\n",
    "        pairs2 = pairs.explode().dropna()\n",
    "        unique_pairs = pairs.explode().dropna().unique()\n",
    "\n",
    "\n",
    "        pyvis_graph = Network(notebook=True, width=\"1800\", height=\"1400\", bgcolor=\"black\", font_color=\"white\")\n",
    "        G = nx.Graph()\n",
    "\n",
    "        try:\n",
    "            G = add_nodes_from_edgelist(edge_list=unique_pairs, source_df=final, graph=G, node_col=chosen_word)\n",
    "        except Exception as e:\n",
    "            print(e)\n",
    "\n",
    "\n",
    "        G.add_edges_from(unique_pairs)\n",
    "        G = add_communities(G)\n",
    "        pyvis_graph.from_nx(G)\n",
    "        pyvis_graph.show(file_name)"
   ]
  },
  {
   "cell_type": "code",
   "execution_count": null,
   "id": "2b4f773f",
   "metadata": {},
   "outputs": [],
   "source": [
    "# Find your rendered network in the Jupyter Hub file list!\n",
    "\n",
    "choose_network(final, 'MINT', 'Mod_Mass_Full_Sog_19.html')"
   ]
  },
  {
   "cell_type": "code",
   "execution_count": null,
   "id": "36318020",
   "metadata": {},
   "outputs": [],
   "source": []
  }
 ],
 "metadata": {
  "interpreter": {
   "hash": "61f8b281fdb479202292f4cbf8a4ff4ce2a75fed6d1a7d4f40edde65e5f6e284"
  },
  "kernelspec": {
   "display_name": "Python 3 (ipykernel)",
   "language": "python",
   "name": "python3"
  },
  "language_info": {
   "codemirror_mode": {
    "name": "ipython",
    "version": 3
   },
   "file_extension": ".py",
   "mimetype": "text/x-python",
   "name": "python",
   "nbconvert_exporter": "python",
   "pygments_lexer": "ipython3",
   "version": "3.10.8"
  }
 },
 "nbformat": 4,
 "nbformat_minor": 5
}
