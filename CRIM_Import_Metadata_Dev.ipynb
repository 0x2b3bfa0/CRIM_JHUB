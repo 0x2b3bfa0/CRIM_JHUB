{
 "cells": [
  {
   "cell_type": "code",
   "execution_count": 1,
   "id": "70e6f47b",
   "metadata": {},
   "outputs": [
    {
     "name": "stdout",
     "output_type": "stream",
     "text": [
      "saved_csv folder already exists.\n"
     ]
    }
   ],
   "source": [
    "import intervals\n",
    "from intervals import * \n",
    "from intervals import main_objs\n",
    "import intervals.visualizations as viz\n",
    "import pandas as pd\n",
    "import re\n",
    "import altair as alt \n",
    "from ipywidgets import interact\n",
    "from pandas.io.json import json_normalize\n",
    "from pyvis.network import Network\n",
    "from IPython.display import display\n",
    "import requests\n",
    "import os\n",
    "\n",
    "import xml.etree.ElementTree as ET\n",
    "# import requests\n",
    "MYDIR = (\"saved_csv\")\n",
    "CHECK_FOLDER = os.path.isdir(MYDIR)\n",
    "\n",
    "# If folder doesn't exist, then create it.\n",
    "if not CHECK_FOLDER:\n",
    "    os.makedirs(MYDIR)\n",
    "    print(\"created folder : \", MYDIR)\n",
    "\n",
    "else:\n",
    "    print(MYDIR, \"folder already exists.\")"
   ]
  },
  {
   "cell_type": "code",
   "execution_count": 2,
   "id": "c8051234",
   "metadata": {},
   "outputs": [],
   "source": [
    "MEINSURI = 'http://www.music-encoding.org/ns/mei'\n",
    "MEINS = '{%s}' % MEINSURI\n",
    "suppliedPattern = re.compile(\"<supplied.*?(<accid.*?\\/>).*?<\\/supplied>\", flags=re.DOTALL)\n",
    "\n",
    "# An extension of the music21 note class with more information easily accessible\n",
    "\n",
    "pathDict = {}\n",
    "\n",
    "def importScore(path):\n",
    "    '''\n",
    "    Import piece and return a music21 score. Return None if there is an error.\n",
    "    '''\n",
    "\n",
    "    if path in pathDict:\n",
    "        print('Memoized piece detected.')\n",
    "    else:\n",
    "        if path.startswith('http'):\n",
    "            print('Downloading remote score...')\n",
    "            try:\n",
    "                to_import = httpx.get(path).text\n",
    "                mei_doc = ET.fromstring(to_import) if path.endswith('.mei') else None\n",
    "            except:\n",
    "                print('Error downloading',  str(path) + ', please check',\n",
    "                      'your url and try again. Continuing to next file.')\n",
    "                return None\n",
    "        else:\n",
    "            to_import = path\n",
    "            if path.endswith('.mei'):\n",
    "                with open(path, \"r\") as file:\n",
    "                    mei_doc = ET.fromstring(file.read())\n",
    "            else:\n",
    "                mei_doc = None\n",
    "\n",
    "        try:\n",
    "            if mei_doc is not None:\n",
    "                to_import = re.sub(suppliedPattern, '\\\\1', to_import)\n",
    "            score = converter.parse(to_import)\n",
    "            pathDict[path] = ImportedPiece(score, path, mei_doc)\n",
    "            print(\"Successfully imported\", path)\n",
    "        \n",
    "        except:\n",
    "            print(\"Import of\", str(path), \"failed, please check your file path/url.\")\n",
    "            return None\n",
    "        \n",
    "        if mei_doc.get('meiversion').startswith('4.'):\n",
    "            piece = importScore(path)\n",
    "            # mei_doc = ET.fromstring(requests.get(path).text)\n",
    "            title = mei_doc.find('mei:meiHead//mei:titleStmt/mei:title', namespaces={\"mei\": MEINSURI}).text\n",
    "            composer = mei_doc.find('mei:meiHead//mei:titleStmt//mei:persName[@role=\"composer\"]', namespaces={\"mei\": MEINSURI}).text\n",
    "            piece.score.metadata.title = title\n",
    "            piece.score.metadata.composer = composer\n",
    "            print(\"mei 4 file\")\n",
    "            print(piece.score.metadata.title)\n",
    "            print(piece.score.metadata.composer)\n",
    "\n",
    "        else:\n",
    "            piece = importScore(path)\n",
    "            print(\"mei 3 file\")\n",
    "            print(piece.score.metadata.title)\n",
    "            print(piece.score.metadata.composer)\n",
    "\n",
    "    \n",
    "    return pathDict[path]"
   ]
  },
  {
   "cell_type": "markdown",
   "id": "e64db03f",
   "metadata": {},
   "source": [
    "## B. Importing Pieces"
   ]
  },
  {
   "cell_type": "code",
   "execution_count": 4,
   "id": "2fbe219f",
   "metadata": {},
   "outputs": [
    {
     "name": "stdout",
     "output_type": "stream",
     "text": [
      "Downloading remote score...\n",
      "Successfully imported https://raw.githubusercontent.com/CRIM-Project/CRIM-online/master/crim/static/mei/MEI_4.0/CRIM_Model_0001.mei\n",
      "Memoized piece detected.\n",
      "mei 4 file\n",
      "Veni speciosam\n",
      "Lupi, Johannes\n"
     ]
    }
   ],
   "source": [
    "piece = importScore('https://raw.githubusercontent.com/CRIM-Project/CRIM-online/master/crim/static/mei/MEI_4.0/CRIM_Model_0001.mei')"
   ]
  },
  {
   "cell_type": "code",
   "execution_count": 4,
   "id": "432534bc",
   "metadata": {},
   "outputs": [
    {
     "name": "stdout",
     "output_type": "stream",
     "text": [
      "Successfully imported Music_Files/CRIM_Mass_0007_4.mei\n",
      "Memoized piece detected.\n",
      "mei 3 file\n",
      "\n",
      "          \n",
      "None\n"
     ]
    }
   ],
   "source": [
    "piece = importScore('Music_Files/CRIM_Mass_0007_4.mei')"
   ]
  },
  {
   "cell_type": "markdown",
   "id": "4b2e6fbb",
   "metadata": {},
   "source": [
    "### B.1 Import a Single Piece"
   ]
  },
  {
   "cell_type": "code",
   "execution_count": null,
   "id": "5d3f5119",
   "metadata": {},
   "outputs": [],
   "source": [
    "# only needed to update metadata in MEI 4.0\n",
    "\n",
    "MEINSURI = \"http://www.music-encoding.org/ns/mei\"\n",
    "XMLNS = \"http://www.w3.org/XML/1998/namespace\"\n",
    "\n",
    "# register MEINS as the default namespace for a cleaner serialization\n",
    "ET.register_namespace('', MEINSURI)\n",
    "\n",
    "# path = 'Music_Files/test.mei'\n",
    "path = 'https://raw.githubusercontent.com/CRIM-Project/CRIM-online/master/crim/static/mei/MEI_4.0/CRIM_Model_0001.mei'\n",
    "if \"http\" in path:\n",
    "    mei_doc = ET.fromstring(requests.get(path).text)\n",
    "else:\n",
    "    with open(path, \"r\") as file:\n",
    "        mei_doc = ET.fromstring(file.read())\n",
    "        \n",
    "if mei_doc.get('meiversion').startswith('4.'):\n",
    "    piece = importScore(path)\n",
    "    # mei_doc = ET.fromstring(requests.get(path).text)\n",
    "    title = mei_doc.find('mei:meiHead//mei:titleStmt/mei:title', namespaces={\"mei\": MEINSURI}).text\n",
    "    composer = mei_doc.find('mei:meiHead//mei:titleStmt//mei:persName[@role=\"composer\"]', namespaces={\"mei\": MEINSURI}).text\n",
    "    piece.score.metadata.title = title\n",
    "    piece.score.metadata.composer = composer\n",
    "    print(\"mei 4 file\")\n",
    "    print(piece.score.metadata.title)\n",
    "    print(piece.score.metadata.composer)\n",
    "\n",
    "else:\n",
    "    piece = importScore(path)\n",
    "    print(\"mei 3 file\")\n",
    "    print(piece.score.metadata.title)\n",
    "    print(piece.score.metadata.composer)\n"
   ]
  },
  {
   "cell_type": "code",
   "execution_count": null,
   "id": "dc7191a2",
   "metadata": {},
   "outputs": [],
   "source": [
    "# THIS DOES NOT WORK\n",
    "# MEINSURI = \"http://www.music-encoding.org/ns/mei\"\n",
    "# XMLNS = \"http://www.w3.org/XML/1998/namespace\"\n",
    "\n",
    "# # register MEINS as the default namespace for a cleaner serialization\n",
    "# ET.register_namespace('', MEINSURI)\n",
    "\n",
    "# path = 'https://raw.githubusercontent.com/CRIM-Project/CRIM-online/master/crim/static/mei/MEI_4.0/CRIM_Model_0008.mei'\n",
    "# mei_doc = ET.fromstring(requests.get(path).text)\n",
    "\n",
    "# find all supplied elements\n",
    "supplieds = mei_doc.findall('.//mei:supplied', namespaces={\"mei\": MEINSURI})\n",
    "# find all their parents (this is not a typical XML processing pattern, but ET doesn't offer a \"get parent\" method)\n",
    "parents = mei_doc.findall('.//mei:supplied/..', namespaces={\"mei\": MEINSURI})\n",
    "\n",
    "# loop through the supplied elements keeping track of index\n",
    "for [i, supplied] in enumerate(supplieds):\n",
    "    # store children (the accid)\n",
    "    children = supplied.getchildren()\n",
    "    # get the right parent fomr the parent elements list\n",
    "    parent = parents[i]\n",
    "    # figure out where the supplied is among its siblings (is it the first child, second? etc.)\n",
    "    supplied_position = list(parent).index(supplied)\n",
    "    # remove the supplied 👋\n",
    "    parent.remove(supplied)\n",
    "    # place supplied's children at the same location as the supplied.\n",
    "    # loop through the children in case there's more than one (shouldn't happen, but just in case)\n",
    "    for [j, child] in enumerate(children):\n",
    "        parent.insert(supplied_position + j, child)\n",
    "\n",
    "# mei_doc is now altered and can be passed on safely to music21.\n",
    "\n",
    "# convert mei_doc to string before passing to CRIM Intervals\n",
    "meidata = ET.tostring(mei_doc)"
   ]
  }
 ],
 "metadata": {
  "kernelspec": {
   "display_name": "Python 3 (ipykernel)",
   "language": "python",
   "name": "python3"
  },
  "language_info": {
   "codemirror_mode": {
    "name": "ipython",
    "version": 3
   },
   "file_extension": ".py",
   "mimetype": "text/x-python",
   "name": "python",
   "nbconvert_exporter": "python",
   "pygments_lexer": "ipython3",
   "version": "3.8.12"
  },
  "toc": {
   "base_numbering": 1,
   "nav_menu": {},
   "number_sections": true,
   "sideBar": true,
   "skip_h1_title": false,
   "title_cell": "Table of Contents",
   "title_sidebar": "Contents",
   "toc_cell": false,
   "toc_position": {
    "height": "calc(100% - 180px)",
    "left": "10px",
    "top": "150px",
    "width": "339.333px"
   },
   "toc_section_display": true,
   "toc_window_display": true
  }
 },
 "nbformat": 4,
 "nbformat_minor": 5
}
