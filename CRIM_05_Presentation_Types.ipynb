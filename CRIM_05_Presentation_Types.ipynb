{
 "cells": [
  {
   "cell_type": "markdown",
   "id": "a62fd137",
   "metadata": {},
   "source": [
    "### Presentation Types:  Fuga, ID, and PEN\n",
    "\n",
    "* February 2022 Version.  Key Features:\n",
    "\n",
    "    * Uses getDistance to identify `close matches` with side-by-side comparison of soggetti.  With a distance of \"1\", the soggetti `4, 1, 2, 3`, and `5, 1, 2, 3` will count as the same. These are reported as \"flexed entries\" in a separate column.\n",
    "\n",
    "\n",
    "    * Labels Fuga, PEn, and ID according to time intervals.  \n",
    "    * If two entries are separated by more than 10 bars (80 offsets), the tool resets to a new pattern\n",
    "    * Finds time intervals between entries (expressed as offsets, like `8.0, 4.0, 8.0`)\n",
    "    * Finds melodic intervals between first note of successive entries in each pattern (like `P-5, P-8`)\n",
    "    * Counts number of entries\n",
    "    * Provides offset and measure/beat locations\n",
    "    * Sorts all presentation types by the order in which they appear in the piece\n",
    "    * Reports voice names of the entries, in order of their appearance\n",
    "    * Omits singleton soggetti (just one entry of a given motive in isolation)"
   ]
  },
  {
   "cell_type": "code",
   "execution_count": 2,
   "id": "24e63a37",
   "metadata": {},
   "outputs": [
    {
     "name": "stdout",
     "output_type": "stream",
     "text": [
      "saved_csv folder already exists.\n"
     ]
    }
   ],
   "source": [
    "import intervals\n",
    "from intervals import * \n",
    "from intervals import main_objs\n",
    "import intervals.visualizations as viz\n",
    "import pandas as pd\n",
    "import re\n",
    "import altair as alt \n",
    "from ipywidgets import interact\n",
    "from pandas.io.json import json_normalize\n",
    "from pyvis.network import Network\n",
    "from IPython.display import display\n",
    "import requests\n",
    "import os\n",
    "import numpy\n",
    "import itertools\n",
    "MYDIR = (\"saved_csv\")\n",
    "CHECK_FOLDER = os.path.isdir(MYDIR)\n",
    "\n",
    "# If folder doesn't exist, then create it.\n",
    "if not CHECK_FOLDER:\n",
    "    os.makedirs(MYDIR)\n",
    "    print(\"created folder : \", MYDIR)\n",
    "\n",
    "else:\n",
    "    print(MYDIR, \"folder already exists.\")"
   ]
  },
  {
   "cell_type": "markdown",
   "id": "e73b37ef",
   "metadata": {},
   "source": [
    "#### The following are special functions used by the classifier.  Don't change them."
   ]
  },
  {
   "cell_type": "markdown",
   "id": "0adab16b",
   "metadata": {},
   "source": [
    "#### Load the Piece Here\n",
    "\n",
    "* Note that you can load from CRIM, or put a file in the **Music_Files** folder in the Notebook."
   ]
  },
  {
   "cell_type": "code",
   "execution_count": 3,
   "id": "14d65484",
   "metadata": {},
   "outputs": [
    {
     "name": "stdout",
     "output_type": "stream",
     "text": [
      "Downloading remote score...\n",
      "Successfully imported https://raw.githubusercontent.com/CRIM-Project/CRIM-online/master/crim/static/mei/MEI_4.0/CRIM_Model_0015.mei\n",
      "{'title': 'Quo abiit dilectus tuus', 'composer': 'Manchicourt, Pierre de'}\n"
     ]
    }
   ],
   "source": [
    "git_prefix = 'https://raw.githubusercontent.com/CRIM-Project/CRIM-online/master/crim/static/mei/MEI_4.0/'\n",
    "\n",
    "# just add the CRIM Piece ID here\n",
    "mei_file = 'CRIM_Model_0015.mei'\n",
    "\n",
    "\n",
    "url = git_prefix + mei_file\n",
    "# piece = importScore('Music_Files/Senfl_Ave_forCRIM.mei_msg.mei')\n",
    "piece = importScore(url)\n",
    "# piece = importScore('Music_Files/CRIM_Mass_0007_4.mei')\n",
    "\n",
    "print(piece.metadata)\n"
   ]
  },
  {
   "cell_type": "markdown",
   "id": "902ffd4a",
   "metadata": {},
   "source": [
    "#### Run the Classifier Here"
   ]
  },
  {
   "cell_type": "code",
   "execution_count": 4,
   "id": "09374bb9",
   "metadata": {},
   "outputs": [
    {
     "ename": "AttributeError",
     "evalue": "'tuple' object has no attribute 'split'",
     "output_type": "error",
     "traceback": [
      "\u001b[0;31m---------------------------------------------------------------------------\u001b[0m",
      "\u001b[0;31mAttributeError\u001b[0m                            Traceback (most recent call last)",
      "Input \u001b[0;32mIn [4]\u001b[0m, in \u001b[0;36m<cell line: 10>\u001b[0;34m()\u001b[0m\n\u001b[1;32m      8\u001b[0m mel_ng \u001b[38;5;241m=\u001b[39m piece\u001b[38;5;241m.\u001b[39mgetNgrams(df\u001b[38;5;241m=\u001b[39mmel, n\u001b[38;5;241m=\u001b[39mmelodic_ngram_length)\n\u001b[1;32m      9\u001b[0m entries \u001b[38;5;241m=\u001b[39m piece\u001b[38;5;241m.\u001b[39mgetEntries(mel_ng)\n\u001b[0;32m---> 10\u001b[0m output \u001b[38;5;241m=\u001b[39m \u001b[43mclassify_entries_as_presentation_types\u001b[49m\u001b[43m(\u001b[49m\u001b[43mpiece\u001b[49m\u001b[43m,\u001b[49m\u001b[43m \u001b[49m\u001b[43mnr\u001b[49m\u001b[43m,\u001b[49m\u001b[43m \u001b[49m\u001b[43mentries\u001b[49m\u001b[43m,\u001b[49m\u001b[43m \u001b[49m\u001b[43medit_distance_threshold\u001b[49m\u001b[43m,\u001b[49m\u001b[43m \u001b[49m\u001b[43minclude_hidden_types\u001b[49m\u001b[43m)\u001b[49m\n",
      "File \u001b[0;32m~/opt/anaconda3/envs/intervals/lib/python3.9/site-packages/intervals/main_objs.py:1699\u001b[0m, in \u001b[0;36mclassify_entries_as_presentation_types\u001b[0;34m(piece, nr, entries, edit_distance_threshold, include_hidden_types)\u001b[0m\n\u001b[1;32m   1695\u001b[0m mels_stacked\u001b[38;5;241m.\u001b[39mrename(columns \u001b[38;5;241m=\u001b[39m  {\u001b[38;5;241m0\u001b[39m:\u001b[38;5;124m\"\u001b[39m\u001b[38;5;124mpattern\u001b[39m\u001b[38;5;124m\"\u001b[39m}, inplace \u001b[38;5;241m=\u001b[39m \u001b[38;5;28;01mTrue\u001b[39;00m)\n\u001b[1;32m   1697\u001b[0m \u001b[38;5;66;03m# edit distance, based on side-by-side comparison of melodic ngrams\u001b[39;00m\n\u001b[1;32m   1698\u001b[0m \u001b[38;5;66;03m# gets flexed and other similar soggetti\u001b[39;00m\n\u001b[0;32m-> 1699\u001b[0m dist \u001b[38;5;241m=\u001b[39m \u001b[43mpiece\u001b[49m\u001b[38;5;241;43m.\u001b[39;49m\u001b[43mgetDistance\u001b[49m\u001b[43m(\u001b[49m\u001b[43mentries\u001b[49m\u001b[43m)\u001b[49m\n\u001b[1;32m   1700\u001b[0m dist_stack \u001b[38;5;241m=\u001b[39m dist\u001b[38;5;241m.\u001b[39mstack()\u001b[38;5;241m.\u001b[39mto_frame()\n\u001b[1;32m   1703\u001b[0m \u001b[38;5;66;03m# filter distances to threshold.  <2 is good\u001b[39;00m\n",
      "File \u001b[0;32m~/opt/anaconda3/envs/intervals/lib/python3.9/site-packages/intervals/main_objs.py:823\u001b[0m, in \u001b[0;36mImportedPiece.getDistance\u001b[0;34m(self, df, n)\u001b[0m\n\u001b[1;32m    821\u001b[0m uni \u001b[38;5;241m=\u001b[39m df\u001b[38;5;241m.\u001b[39mstack()\u001b[38;5;241m.\u001b[39munique()\n\u001b[1;32m    822\u001b[0m ser \u001b[38;5;241m=\u001b[39m pd\u001b[38;5;241m.\u001b[39mSeries(uni)\n\u001b[0;32m--> 823\u001b[0m df \u001b[38;5;241m=\u001b[39m pd\u001b[38;5;241m.\u001b[39mDataFrame\u001b[38;5;241m.\u001b[39mfrom_records(\u001b[43mser\u001b[49m\u001b[38;5;241;43m.\u001b[39;49m\u001b[43mapply\u001b[49m\u001b[43m(\u001b[49m\u001b[38;5;28;43;01mlambda\u001b[39;49;00m\u001b[43m \u001b[49m\u001b[43mcell\u001b[49m\u001b[43m:\u001b[49m\u001b[43m \u001b[49m\u001b[38;5;28;43mtuple\u001b[39;49m\u001b[43m(\u001b[49m\u001b[38;5;28;43mint\u001b[39;49m\u001b[43m(\u001b[49m\u001b[43mi\u001b[49m\u001b[43m)\u001b[49m\u001b[43m \u001b[49m\u001b[38;5;28;43;01mfor\u001b[39;49;00m\u001b[43m \u001b[49m\u001b[43mi\u001b[49m\u001b[43m \u001b[49m\u001b[38;5;129;43;01min\u001b[39;49;00m\u001b[43m \u001b[49m\u001b[43mcell\u001b[49m\u001b[38;5;241;43m.\u001b[39;49m\u001b[43msplit\u001b[49m\u001b[43m(\u001b[49m\u001b[38;5;124;43m'\u001b[39;49m\u001b[38;5;124;43m, \u001b[39;49m\u001b[38;5;124;43m'\u001b[39;49m\u001b[43m)\u001b[49m\u001b[43m)\u001b[49m\u001b[43m)\u001b[49m)\n\u001b[1;32m    824\u001b[0m cols \u001b[38;5;241m=\u001b[39m [(df \u001b[38;5;241m-\u001b[39m df\u001b[38;5;241m.\u001b[39mloc[i])\u001b[38;5;241m.\u001b[39mabs()\u001b[38;5;241m.\u001b[39mapply(\u001b[38;5;28msum\u001b[39m, axis\u001b[38;5;241m=\u001b[39m\u001b[38;5;241m1\u001b[39m) \u001b[38;5;28;01mfor\u001b[39;00m i \u001b[38;5;129;01min\u001b[39;00m df\u001b[38;5;241m.\u001b[39mindex]\n\u001b[1;32m    825\u001b[0m dist \u001b[38;5;241m=\u001b[39m pd\u001b[38;5;241m.\u001b[39mconcat(cols, axis\u001b[38;5;241m=\u001b[39m\u001b[38;5;241m1\u001b[39m)\n",
      "File \u001b[0;32m~/opt/anaconda3/envs/intervals/lib/python3.9/site-packages/pandas/core/series.py:4138\u001b[0m, in \u001b[0;36mSeries.apply\u001b[0;34m(self, func, convert_dtype, args, **kwds)\u001b[0m\n\u001b[1;32m   4136\u001b[0m     \u001b[38;5;28;01melse\u001b[39;00m:\n\u001b[1;32m   4137\u001b[0m         values \u001b[38;5;241m=\u001b[39m \u001b[38;5;28mself\u001b[39m\u001b[38;5;241m.\u001b[39mastype(\u001b[38;5;28mobject\u001b[39m)\u001b[38;5;241m.\u001b[39m_values\n\u001b[0;32m-> 4138\u001b[0m         mapped \u001b[38;5;241m=\u001b[39m \u001b[43mlib\u001b[49m\u001b[38;5;241;43m.\u001b[39;49m\u001b[43mmap_infer\u001b[49m\u001b[43m(\u001b[49m\u001b[43mvalues\u001b[49m\u001b[43m,\u001b[49m\u001b[43m \u001b[49m\u001b[43mf\u001b[49m\u001b[43m,\u001b[49m\u001b[43m \u001b[49m\u001b[43mconvert\u001b[49m\u001b[38;5;241;43m=\u001b[39;49m\u001b[43mconvert_dtype\u001b[49m\u001b[43m)\u001b[49m\n\u001b[1;32m   4140\u001b[0m \u001b[38;5;28;01mif\u001b[39;00m \u001b[38;5;28mlen\u001b[39m(mapped) \u001b[38;5;129;01mand\u001b[39;00m \u001b[38;5;28misinstance\u001b[39m(mapped[\u001b[38;5;241m0\u001b[39m], Series):\n\u001b[1;32m   4141\u001b[0m     \u001b[38;5;66;03m# GH 25959 use pd.array instead of tolist\u001b[39;00m\n\u001b[1;32m   4142\u001b[0m     \u001b[38;5;66;03m# so extension arrays can be used\u001b[39;00m\n\u001b[1;32m   4143\u001b[0m     \u001b[38;5;28;01mreturn\u001b[39;00m \u001b[38;5;28mself\u001b[39m\u001b[38;5;241m.\u001b[39m_constructor_expanddim(pd_array(mapped), index\u001b[38;5;241m=\u001b[39m\u001b[38;5;28mself\u001b[39m\u001b[38;5;241m.\u001b[39mindex)\n",
      "File \u001b[0;32mpandas/_libs/lib.pyx:2467\u001b[0m, in \u001b[0;36mpandas._libs.lib.map_infer\u001b[0;34m()\u001b[0m\n",
      "File \u001b[0;32m~/opt/anaconda3/envs/intervals/lib/python3.9/site-packages/intervals/main_objs.py:823\u001b[0m, in \u001b[0;36mImportedPiece.getDistance.<locals>.<lambda>\u001b[0;34m(cell)\u001b[0m\n\u001b[1;32m    821\u001b[0m uni \u001b[38;5;241m=\u001b[39m df\u001b[38;5;241m.\u001b[39mstack()\u001b[38;5;241m.\u001b[39munique()\n\u001b[1;32m    822\u001b[0m ser \u001b[38;5;241m=\u001b[39m pd\u001b[38;5;241m.\u001b[39mSeries(uni)\n\u001b[0;32m--> 823\u001b[0m df \u001b[38;5;241m=\u001b[39m pd\u001b[38;5;241m.\u001b[39mDataFrame\u001b[38;5;241m.\u001b[39mfrom_records(ser\u001b[38;5;241m.\u001b[39mapply(\u001b[38;5;28;01mlambda\u001b[39;00m cell: \u001b[38;5;28mtuple\u001b[39m(\u001b[38;5;28mint\u001b[39m(i) \u001b[38;5;28;01mfor\u001b[39;00m i \u001b[38;5;129;01min\u001b[39;00m \u001b[43mcell\u001b[49m\u001b[38;5;241;43m.\u001b[39;49m\u001b[43msplit\u001b[49m(\u001b[38;5;124m'\u001b[39m\u001b[38;5;124m, \u001b[39m\u001b[38;5;124m'\u001b[39m))))\n\u001b[1;32m    824\u001b[0m cols \u001b[38;5;241m=\u001b[39m [(df \u001b[38;5;241m-\u001b[39m df\u001b[38;5;241m.\u001b[39mloc[i])\u001b[38;5;241m.\u001b[39mabs()\u001b[38;5;241m.\u001b[39mapply(\u001b[38;5;28msum\u001b[39m, axis\u001b[38;5;241m=\u001b[39m\u001b[38;5;241m1\u001b[39m) \u001b[38;5;28;01mfor\u001b[39;00m i \u001b[38;5;129;01min\u001b[39;00m df\u001b[38;5;241m.\u001b[39mindex]\n\u001b[1;32m    825\u001b[0m dist \u001b[38;5;241m=\u001b[39m pd\u001b[38;5;241m.\u001b[39mconcat(cols, axis\u001b[38;5;241m=\u001b[39m\u001b[38;5;241m1\u001b[39m)\n",
      "\u001b[0;31mAttributeError\u001b[0m: 'tuple' object has no attribute 'split'"
     ]
    }
   ],
   "source": [
    "include_hidden_types = False\n",
    "combine_unisons = True\n",
    "melodic_ngram_length = 4\n",
    "edit_distance_threshold = 1\n",
    "nr = piece.getNoteRest(combineUnisons=combine_unisons)\n",
    "dur = piece.getDuration(df=nr)\n",
    "mel = piece.getMelodic(df=nr, kind='d', end=False)\n",
    "mel_ng = piece.getNgrams(df=mel, n=melodic_ngram_length)\n",
    "entries = piece.getEntries(mel_ng)\n",
    "output = classify_entries_as_presentation_types(piece, nr, mel_ng, entries, edit_distance_threshold, include_hidden_types)\n"
   ]
  },
  {
   "cell_type": "code",
   "execution_count": null,
   "id": "2528db3a",
   "metadata": {},
   "outputs": [],
   "source": [
    "output"
   ]
  },
  {
   "cell_type": "markdown",
   "id": "45286163",
   "metadata": {},
   "source": [
    "#### Run Classifier on Several Pieces at Once\n",
    "Results are combined into a single dataframe"
   ]
  },
  {
   "cell_type": "code",
   "execution_count": 5,
   "id": "ab69abf0",
   "metadata": {},
   "outputs": [],
   "source": [
    "\n",
    "\n",
    "git_prefix = 'https://raw.githubusercontent.com/CRIM-Project/CRIM-online/master/crim/static/mei/MEI_4.0/'\n",
    "\n",
    "# piece = importScore('Music_Files/CRIM_Mass_0007_4.mei')\n",
    "piece_list =  ['CRIM_Mass_0005_3.mei',\n",
    "             'CRIM_Mass_0005_4.mei',\n",
    "             'CRIM_Mass_0005_5.mei',\n",
    "             'CRIM_Model_0001.mei',\n",
    "             'CRIM_Mass_0002_1.mei',\n",
    "             'CRIM_Mass_0002_2.mei',\n",
    "             'CRIM_Mass_0002_3.mei',\n",
    "             'CRIM_Mass_0002_4.mei',\n",
    "             'CRIM_Mass_0002_5.mei',\n",
    "             'CRIM_Model_0015.mei',\n",
    "             'CRIM_Mass_0013_1.mei',\n",
    "             'CRIM_Mass_0013_2.mei',\n",
    "             'CRIM_Mass_0013_3.mei',\n",
    "             'CRIM_Mass_0013_4.mei',\n",
    "             'CRIM_Mass_0013_5.mei',\n",
    "             'CRIM_Model_0019.mei',\n",
    "             'CRIM_Mass_0019_1.mei',\n",
    "             'CRIM_Mass_0019_2.mei',\n",
    "             'CRIM_Mass_0019_3.mei',\n",
    "             'CRIM_Mass_0019_4.mei',\n",
    "             'CRIM_Mass_0019_5.mei']\n"
   ]
  },
  {
   "cell_type": "code",
   "execution_count": 6,
   "id": "49d73450",
   "metadata": {},
   "outputs": [
    {
     "name": "stdout",
     "output_type": "stream",
     "text": [
      "Downloading remote score...\n"
     ]
    },
    {
     "name": "stderr",
     "output_type": "stream",
     "text": [
      "mei.base: WARNING: Importing <slur> without @startid and @endid is not yet supported.\n"
     ]
    },
    {
     "name": "stdout",
     "output_type": "stream",
     "text": [
      "Successfully imported https://raw.githubusercontent.com/CRIM-Project/CRIM-online/master/crim/static/mei/MEI_4.0/CRIM_Mass_0005_3.mei\n",
      "Downloading remote score...\n",
      "Successfully imported https://raw.githubusercontent.com/CRIM-Project/CRIM-online/master/crim/static/mei/MEI_4.0/CRIM_Mass_0005_4.mei\n",
      "Downloading remote score...\n",
      "Successfully imported https://raw.githubusercontent.com/CRIM-Project/CRIM-online/master/crim/static/mei/MEI_4.0/CRIM_Mass_0005_5.mei\n",
      "Downloading remote score...\n",
      "Successfully imported https://raw.githubusercontent.com/CRIM-Project/CRIM-online/master/crim/static/mei/MEI_4.0/CRIM_Model_0001.mei\n",
      "Downloading remote score...\n",
      "Successfully imported https://raw.githubusercontent.com/CRIM-Project/CRIM-online/master/crim/static/mei/MEI_4.0/CRIM_Mass_0002_1.mei\n",
      "Downloading remote score...\n",
      "Successfully imported https://raw.githubusercontent.com/CRIM-Project/CRIM-online/master/crim/static/mei/MEI_4.0/CRIM_Mass_0002_2.mei\n",
      "Downloading remote score...\n",
      "Successfully imported https://raw.githubusercontent.com/CRIM-Project/CRIM-online/master/crim/static/mei/MEI_4.0/CRIM_Mass_0002_3.mei\n",
      "Downloading remote score...\n",
      "Successfully imported https://raw.githubusercontent.com/CRIM-Project/CRIM-online/master/crim/static/mei/MEI_4.0/CRIM_Mass_0002_4.mei\n",
      "Downloading remote score...\n",
      "Successfully imported https://raw.githubusercontent.com/CRIM-Project/CRIM-online/master/crim/static/mei/MEI_4.0/CRIM_Mass_0002_5.mei\n",
      "Downloading remote score...\n",
      "Successfully imported https://raw.githubusercontent.com/CRIM-Project/CRIM-online/master/crim/static/mei/MEI_4.0/CRIM_Model_0015.mei\n",
      "Downloading remote score...\n",
      "Successfully imported https://raw.githubusercontent.com/CRIM-Project/CRIM-online/master/crim/static/mei/MEI_4.0/CRIM_Mass_0013_1.mei\n",
      "Downloading remote score...\n",
      "Successfully imported https://raw.githubusercontent.com/CRIM-Project/CRIM-online/master/crim/static/mei/MEI_4.0/CRIM_Mass_0013_2.mei\n",
      "Downloading remote score...\n",
      "Successfully imported https://raw.githubusercontent.com/CRIM-Project/CRIM-online/master/crim/static/mei/MEI_4.0/CRIM_Mass_0013_3.mei\n",
      "Downloading remote score...\n",
      "Successfully imported https://raw.githubusercontent.com/CRIM-Project/CRIM-online/master/crim/static/mei/MEI_4.0/CRIM_Mass_0013_4.mei\n",
      "Downloading remote score...\n",
      "Successfully imported https://raw.githubusercontent.com/CRIM-Project/CRIM-online/master/crim/static/mei/MEI_4.0/CRIM_Mass_0013_5.mei\n",
      "Downloading remote score...\n",
      "Successfully imported https://raw.githubusercontent.com/CRIM-Project/CRIM-online/master/crim/static/mei/MEI_4.0/CRIM_Model_0019.mei\n",
      "Downloading remote score...\n",
      "Successfully imported https://raw.githubusercontent.com/CRIM-Project/CRIM-online/master/crim/static/mei/MEI_4.0/CRIM_Mass_0019_1.mei\n",
      "Downloading remote score...\n",
      "Successfully imported https://raw.githubusercontent.com/CRIM-Project/CRIM-online/master/crim/static/mei/MEI_4.0/CRIM_Mass_0019_2.mei\n",
      "Downloading remote score...\n",
      "Successfully imported https://raw.githubusercontent.com/CRIM-Project/CRIM-online/master/crim/static/mei/MEI_4.0/CRIM_Mass_0019_3.mei\n",
      "Downloading remote score...\n",
      "Successfully imported https://raw.githubusercontent.com/CRIM-Project/CRIM-online/master/crim/static/mei/MEI_4.0/CRIM_Mass_0019_4.mei\n",
      "Downloading remote score...\n",
      "Successfully imported https://raw.githubusercontent.com/CRIM-Project/CRIM-online/master/crim/static/mei/MEI_4.0/CRIM_Mass_0019_5.mei\n"
     ]
    },
    {
     "data": {
      "text/html": [
       "<div>\n",
       "<style scoped>\n",
       "    .dataframe tbody tr th:only-of-type {\n",
       "        vertical-align: middle;\n",
       "    }\n",
       "\n",
       "    .dataframe tbody tr th {\n",
       "        vertical-align: top;\n",
       "    }\n",
       "\n",
       "    .dataframe thead th {\n",
       "        text-align: right;\n",
       "    }\n",
       "</style>\n",
       "<table border=\"1\" class=\"dataframe\">\n",
       "  <thead>\n",
       "    <tr style=\"text-align: right;\">\n",
       "      <th></th>\n",
       "      <th>Composer</th>\n",
       "      <th>Title</th>\n",
       "      <th>First_Offset</th>\n",
       "      <th>Measures_Beats</th>\n",
       "      <th>Melodic_Entry_Intervals</th>\n",
       "      <th>Offsets</th>\n",
       "      <th>Soggetti</th>\n",
       "      <th>Time_Entry_Intervals</th>\n",
       "      <th>Voices</th>\n",
       "      <th>Presentation_Type</th>\n",
       "      <th>Number_Entries</th>\n",
       "      <th>Flexed_Entries</th>\n",
       "    </tr>\n",
       "  </thead>\n",
       "  <tbody>\n",
       "    <tr>\n",
       "      <th>0</th>\n",
       "      <td>Antoine de Févin</td>\n",
       "      <td>Missa Ave Maria: Credo</td>\n",
       "      <td>654.0</td>\n",
       "      <td>[82/4.0, 83/2.0, 86/2.0, 86/4.0, 89/4.0, 92/2.0]</td>\n",
       "      <td>[M-6, m-3, M-6, M13, P-5]</td>\n",
       "      <td>[654.0, 658.0, 682.0, 686.0, 710.0, 730.0]</td>\n",
       "      <td>[-2, -3, 2, 2, -2, -2, 2, 2]</td>\n",
       "      <td>[4.0, 24.0, 4.0, 24.0, 20.0]</td>\n",
       "      <td>[Sup[erius], Altus, Tenor, Bassus, Sup[erius],...</td>\n",
       "      <td>FUGA</td>\n",
       "      <td>6</td>\n",
       "      <td>True</td>\n",
       "    </tr>\n",
       "    <tr>\n",
       "      <th>1</th>\n",
       "      <td>Antoine de Févin</td>\n",
       "      <td>Missa Ave Maria: Credo</td>\n",
       "      <td>190.0</td>\n",
       "      <td>[24/4.0, 25/2.0]</td>\n",
       "      <td>[P5]</td>\n",
       "      <td>[190.0, 194.0]</td>\n",
       "      <td>[-2, -3, 3, -2]</td>\n",
       "      <td>[4.0]</td>\n",
       "      <td>[Bassus, Tenor]</td>\n",
       "      <td>FUGA</td>\n",
       "      <td>2</td>\n",
       "      <td>False</td>\n",
       "    </tr>\n",
       "    <tr>\n",
       "      <th>2</th>\n",
       "      <td>Antoine de Févin</td>\n",
       "      <td>Missa Ave Maria: Credo</td>\n",
       "      <td>876.0</td>\n",
       "      <td>[109/3.0, 111/3.0, 112/3.0]</td>\n",
       "      <td>[P-8, P-5]</td>\n",
       "      <td>[876.0, 892.0, 900.0]</td>\n",
       "      <td>[2, -2, -2, -2, 1, -2, -2, -2]</td>\n",
       "      <td>[16.0, 8.0]</td>\n",
       "      <td>[Sup[erius], Tenor, Bassus]</td>\n",
       "      <td>FUGA</td>\n",
       "      <td>3</td>\n",
       "      <td>True</td>\n",
       "    </tr>\n",
       "    <tr>\n",
       "      <th>3</th>\n",
       "      <td>Antoine de Févin</td>\n",
       "      <td>Missa Ave Maria: Credo</td>\n",
       "      <td>1144.0</td>\n",
       "      <td>[142/1.0, 144/1.0]</td>\n",
       "      <td>[P-5]</td>\n",
       "      <td>[1144.0, 1160.0]</td>\n",
       "      <td>[1, -2, -2, 2, 1, -2, -3, 2]</td>\n",
       "      <td>[16.0]</td>\n",
       "      <td>[Sup[erius], Altus]</td>\n",
       "      <td>FUGA</td>\n",
       "      <td>2</td>\n",
       "      <td>True</td>\n",
       "    </tr>\n",
       "    <tr>\n",
       "      <th>4</th>\n",
       "      <td>Antoine de Févin</td>\n",
       "      <td>Missa Ave Maria: Credo</td>\n",
       "      <td>462.0</td>\n",
       "      <td>[58/4.0, 59/2.0]</td>\n",
       "      <td>[M-6]</td>\n",
       "      <td>[462.0, 466.0]</td>\n",
       "      <td>[1, 1, 1, -2]</td>\n",
       "      <td>[4.0]</td>\n",
       "      <td>[Sup[erius], Altus]</td>\n",
       "      <td>FUGA</td>\n",
       "      <td>2</td>\n",
       "      <td>False</td>\n",
       "    </tr>\n",
       "  </tbody>\n",
       "</table>\n",
       "</div>"
      ],
      "text/plain": [
       "           Composer                   Title  First_Offset  \\\n",
       "0  Antoine de Févin  Missa Ave Maria: Credo         654.0   \n",
       "1  Antoine de Févin  Missa Ave Maria: Credo         190.0   \n",
       "2  Antoine de Févin  Missa Ave Maria: Credo         876.0   \n",
       "3  Antoine de Févin  Missa Ave Maria: Credo        1144.0   \n",
       "4  Antoine de Févin  Missa Ave Maria: Credo         462.0   \n",
       "\n",
       "                                     Measures_Beats  \\\n",
       "0  [82/4.0, 83/2.0, 86/2.0, 86/4.0, 89/4.0, 92/2.0]   \n",
       "1                                  [24/4.0, 25/2.0]   \n",
       "2                       [109/3.0, 111/3.0, 112/3.0]   \n",
       "3                                [142/1.0, 144/1.0]   \n",
       "4                                  [58/4.0, 59/2.0]   \n",
       "\n",
       "     Melodic_Entry_Intervals                                     Offsets  \\\n",
       "0  [M-6, m-3, M-6, M13, P-5]  [654.0, 658.0, 682.0, 686.0, 710.0, 730.0]   \n",
       "1                       [P5]                              [190.0, 194.0]   \n",
       "2                 [P-8, P-5]                       [876.0, 892.0, 900.0]   \n",
       "3                      [P-5]                            [1144.0, 1160.0]   \n",
       "4                      [M-6]                              [462.0, 466.0]   \n",
       "\n",
       "                         Soggetti          Time_Entry_Intervals  \\\n",
       "0    [-2, -3, 2, 2, -2, -2, 2, 2]  [4.0, 24.0, 4.0, 24.0, 20.0]   \n",
       "1                 [-2, -3, 3, -2]                         [4.0]   \n",
       "2  [2, -2, -2, -2, 1, -2, -2, -2]                   [16.0, 8.0]   \n",
       "3    [1, -2, -2, 2, 1, -2, -3, 2]                        [16.0]   \n",
       "4                   [1, 1, 1, -2]                         [4.0]   \n",
       "\n",
       "                                              Voices Presentation_Type  \\\n",
       "0  [Sup[erius], Altus, Tenor, Bassus, Sup[erius],...              FUGA   \n",
       "1                                    [Bassus, Tenor]              FUGA   \n",
       "2                        [Sup[erius], Tenor, Bassus]              FUGA   \n",
       "3                                [Sup[erius], Altus]              FUGA   \n",
       "4                                [Sup[erius], Altus]              FUGA   \n",
       "\n",
       "   Number_Entries  Flexed_Entries  \n",
       "0               6            True  \n",
       "1               2           False  \n",
       "2               3            True  \n",
       "3               2            True  \n",
       "4               2           False  "
      ]
     },
     "execution_count": 6,
     "metadata": {},
     "output_type": "execute_result"
    }
   ],
   "source": [
    "include_hidden_types = False\n",
    "melodic_ngram_length = 4\n",
    "edit_distance_threshold = 1\n",
    "final = pd.DataFrame()\n",
    "for work in piece_list:\n",
    "    url = git_prefix + work\n",
    "    piece = importScore(url)   \n",
    "    nr = piece.getNoteRest()\n",
    "    dur = piece.getDuration(df=nr)\n",
    "    dur_ng = piece.getNgrams(df=dur, n=melodic_ngram_length)\n",
    "    mel_ng = piece.getMelodicEntries(interval_settings=('d', True, True), n=melodic_ngram_length)\n",
    "    output = classify_entries_as_presentation_types(piece, nr, dur_ng, mel_ng, edit_distance_threshold, include_hidden_types)\n",
    "    final = final.append(output, ignore_index=True)\n",
    "final.head()"
   ]
  },
  {
   "cell_type": "markdown",
   "id": "40f3d8ee",
   "metadata": {},
   "source": [
    "#### Save to your folder of CSV's here in the Jupyter Hub\n",
    "#### You can save as CSV, or as Excel.\n",
    "#### You will then need to download this to your computer to view it properly\n",
    "\n",
    "* Note that in the following part of the code below, you will need to give your file a name:\n",
    "\n",
    "`saved_csv/**file_name**.xlsx`"
   ]
  },
  {
   "cell_type": "code",
   "execution_count": 26,
   "id": "bda4956d",
   "metadata": {},
   "outputs": [],
   "source": [
    "writer = pd.ExcelWriter('saved_csv/file_name.xlsx', engine='xlsxwriter')\n",
    "points.to_excel(writer, sheet_name='Sheet1')\n",
    "writer.save()"
   ]
  },
  {
   "cell_type": "code",
   "execution_count": 6,
   "id": "bf742037",
   "metadata": {},
   "outputs": [],
   "source": [
    "points.to_csv('saved_csv/your_file_title.csv')"
   ]
  }
 ],
 "metadata": {
  "kernelspec": {
   "display_name": "Python 3 (ipykernel)",
   "language": "python",
   "name": "python3"
  },
  "language_info": {
   "codemirror_mode": {
    "name": "ipython",
    "version": 3
   },
   "file_extension": ".py",
   "mimetype": "text/x-python",
   "name": "python",
   "nbconvert_exporter": "python",
   "pygments_lexer": "ipython3",
   "version": "3.9.12"
  }
 },
 "nbformat": 4,
 "nbformat_minor": 5
}
