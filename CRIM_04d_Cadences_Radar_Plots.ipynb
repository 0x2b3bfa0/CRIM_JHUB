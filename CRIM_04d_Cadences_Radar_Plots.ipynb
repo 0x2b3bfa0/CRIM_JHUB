{
 "cells": [
  {
   "cell_type": "markdown",
   "id": "229d1d6f",
   "metadata": {},
   "source": [
    "# Cadences with Radar Plots\n",
    "\n",
    "Create two kinds of cadence radar plots:  \n",
    "\n",
    "- by Tone (just the final of the cadences)\n",
    "\n",
    "- by Combined_Types (with final and type of cadence)\n",
    "\n",
    "There are also many optional features!\n",
    "\n",
    "```\n",
    "piece.cadenceRadarPlot(combinedType=False, sounding=None, displayAll=True, customOrder=None, renderer=\"iframe\")\n",
    "```\n",
    "\n",
    "\n"
   ]
  },
  {
   "cell_type": "code",
   "execution_count": 2,
   "id": "14b8ab66",
   "metadata": {},
   "outputs": [
    {
     "name": "stdout",
     "output_type": "stream",
     "text": [
      "saved_csv folder already exists.\n",
      "Music_Files folder already exists.\n"
     ]
    }
   ],
   "source": [
    "import intervals\n",
    "from intervals import * \n",
    "from intervals import main_objs\n",
    "import intervals.visualizations as viz\n",
    "import pandas as pd\n",
    "import re\n",
    "import altair as alt \n",
    "from pyvis.network import Network\n",
    "import glob as glob\n",
    "import os\n",
    "from IPython.display import SVG\n",
    "import plotly.graph_objects as go\n",
    "import plotly.offline as pyo\n",
    "\n",
    "MYDIR = (\"saved_csv\")\n",
    "CHECK_FOLDER = os.path.isdir(MYDIR)\n",
    "\n",
    "# If folder doesn't exist, then create it.\n",
    "if not CHECK_FOLDER:\n",
    "    os.makedirs(MYDIR)\n",
    "    print(\"created folder : \", MYDIR)\n",
    "\n",
    "else:\n",
    "    print(MYDIR, \"folder already exists.\")\n",
    "    \n",
    "MUSDIR = (\"Music_Files\")\n",
    "CHECK_FOLDER = os.path.isdir(MUSDIR)\n",
    "\n",
    "# If folder doesn't exist, then create it.\n",
    "if not CHECK_FOLDER:\n",
    "    os.makedirs(MUSDIR)\n",
    "    print(\"created folder : \", MUSDIR)\n",
    "\n",
    "else:\n",
    "    print(MUSDIR, \"folder already exists.\")"
   ]
  },
  {
   "cell_type": "markdown",
   "id": "4dad95ec",
   "metadata": {},
   "source": [
    "### Load A Piece"
   ]
  },
  {
   "cell_type": "code",
   "execution_count": 3,
   "id": "8d73fcf1",
   "metadata": {},
   "outputs": [
    {
     "name": "stdout",
     "output_type": "stream",
     "text": [
      "{'title': 'Ave Maria', 'composer': 'Josquin Des Prés', 'date': 1502}\n"
     ]
    }
   ],
   "source": [
    "# Select a prefix:\n",
    "prefix = 'https://crimproject.org/mei/'\n",
    "# prefix = 'Music_Files/'\n",
    "# just add the CRIM Piece ID here\n",
    "mei_file = 'CRIM_Model_0008.mei'\n",
    "\n",
    "\n",
    "# combine strings and import\n",
    "url = prefix + mei_file\n",
    "piece = importScore(url)\n",
    "print(piece.metadata)"
   ]
  },
  {
   "cell_type": "markdown",
   "id": "5d685926",
   "metadata": {},
   "source": [
    "### Create Radar Plot\n",
    "\n",
    "Create two kinds of cadence radar plots:  \n",
    "\n",
    "- by Tone (just the final of the cadences)\n",
    "\n",
    "- by Combined_Types (with final and type of cadence)\n",
    "\n",
    "There are also many optional features!\n",
    "\n",
    "```\n",
    "piece.cadenceRadarPlot(combinedType=False, sounding=None, displayAll=True, customOrder=None, renderer=\"iframe\")\n",
    "```"
   ]
  },
  {
   "cell_type": "code",
   "execution_count": 4,
   "id": "2d5de20b",
   "metadata": {},
   "outputs": [
    {
     "data": {
      "text/html": [
       "<iframe\n",
       "    scrolling=\"no\"\n",
       "    width=\"100%\"\n",
       "    height=\"545px\"\n",
       "    src=\"iframe_figures/figure_4.html\"\n",
       "    frameborder=\"0\"\n",
       "    allowfullscreen\n",
       "></iframe>\n"
      ]
     },
     "metadata": {},
     "output_type": "display_data"
    }
   ],
   "source": [
    "piece.cadenceRadarPlot(combinedType=True, displayAll=True)"
   ]
  },
  {
   "cell_type": "code",
   "execution_count": 4,
   "id": "72ffb5ca",
   "metadata": {},
   "outputs": [
    {
     "data": {
      "text/html": [
       "<iframe\n",
       "    scrolling=\"no\"\n",
       "    width=\"100%\"\n",
       "    height=\"545px\"\n",
       "    src=\"iframe_figures/figure_4.html\"\n",
       "    frameborder=\"0\"\n",
       "    allowfullscreen\n",
       "></iframe>\n"
      ]
     },
     "metadata": {},
     "output_type": "display_data"
    }
   ],
   "source": [
    "piece.cadenceRadarPlot(combinedType=True)"
   ]
  },
  {
   "cell_type": "markdown",
   "id": "585dc900",
   "metadata": {},
   "source": [
    "### On a Corpus of Pieces (from URLs)\n",
    "\n",
    "* Create Piece List:\n",
    "\n",
    "See **corpus methods** for ways to build a corpus of pieces from CRIM or your own repository\n",
    "\n",
    "Example:             \n",
    "```\n",
    "# Import Your Mass and Model as a combined Corpus:\n",
    "corpus_list = []\n",
    "prefix = 'https://crimproject.org/mei/CRIM_Model_'\n",
    "\n",
    "# select IDs for your Mass and Model\n",
    "model_id = \"0008\"  # <==  put your model number here!\n",
    "mass_id = \"0005\" # <== put your Mass number here!\n",
    "model = prefix + model_id + '.mei'\n",
    "corpus_list.append(model)\n",
    "for l in range(1, 6):\n",
    "    mass = f'https://crimproject.org/mei/CRIM_Mass_{mass_id}_{l:01}.mei'\n",
    "    corpus_list.append(mass)\n",
    "corpus_list\n",
    "```"
   ]
  },
  {
   "cell_type": "code",
   "execution_count": 10,
   "id": "9273b4a2",
   "metadata": {},
   "outputs": [],
   "source": [
    "# Import Your Mass and Model as a combined Corpus:\n",
    "corpus_list = []\n",
    "prefix = 'https://crimproject.org/mei/CRIM_Model_'\n",
    "\n",
    "# select IDs for your Mass and Model\n",
    "model_id = \"0019\"  # <==  put your model number here!\n",
    "mass_id = \"0019\" # <== put your Mass number here!\n",
    "model = prefix + model_id + '.mei'\n",
    "corpus_list.append(model)\n",
    "for l in range(1, 6):\n",
    "    mass = f'https://crimproject.org/mei/CRIM_Mass_{mass_id}_{l:01}.mei'\n",
    "    corpus_list.append(mass)\n",
    "corpus_list\n",
    "corpus  = CorpusBase(corpus_list)"
   ]
  },
  {
   "cell_type": "code",
   "execution_count": 11,
   "id": "8ca10f08",
   "metadata": {},
   "outputs": [
    {
     "data": {
      "text/html": [
       "<iframe\n",
       "    scrolling=\"no\"\n",
       "    width=\"100%\"\n",
       "    height=\"545px\"\n",
       "    src=\"iframe_figures/figure_11.html\"\n",
       "    frameborder=\"0\"\n",
       "    allowfullscreen\n",
       "></iframe>\n"
      ]
     },
     "metadata": {},
     "output_type": "display_data"
    }
   ],
   "source": [
    "corpus.compareCadenceRadarPlots()"
   ]
  },
  {
   "cell_type": "code",
   "execution_count": 12,
   "id": "0a938f0e",
   "metadata": {},
   "outputs": [
    {
     "data": {
      "text/html": [
       "<iframe\n",
       "    scrolling=\"no\"\n",
       "    width=\"100%\"\n",
       "    height=\"545px\"\n",
       "    src=\"iframe_figures/figure_12.html\"\n",
       "    frameborder=\"0\"\n",
       "    allowfullscreen\n",
       "></iframe>\n"
      ]
     },
     "metadata": {},
     "output_type": "display_data"
    }
   ],
   "source": [
    "corpus.compareCadenceRadarPlots(combinedType=True)"
   ]
  },
  {
   "cell_type": "code",
   "execution_count": null,
   "id": "bda077ec",
   "metadata": {},
   "outputs": [],
   "source": []
  }
 ],
 "metadata": {
  "kernelspec": {
   "display_name": "Python 3 (ipykernel)",
   "language": "python",
   "name": "python3"
  },
  "language_info": {
   "codemirror_mode": {
    "name": "ipython",
    "version": 3
   },
   "file_extension": ".py",
   "mimetype": "text/x-python",
   "name": "python",
   "nbconvert_exporter": "python",
   "pygments_lexer": "ipython3",
   "version": "3.10.8"
  },
  "toc": {
   "base_numbering": 1,
   "nav_menu": {},
   "number_sections": true,
   "sideBar": true,
   "skip_h1_title": false,
   "title_cell": "Table of Contents",
   "title_sidebar": "Contents",
   "toc_cell": false,
   "toc_position": {
    "height": "calc(100% - 180px)",
    "left": "10px",
    "top": "150px",
    "width": "339.333px"
   },
   "toc_section_display": true,
   "toc_window_display": true
  }
 },
 "nbformat": 4,
 "nbformat_minor": 5
}
