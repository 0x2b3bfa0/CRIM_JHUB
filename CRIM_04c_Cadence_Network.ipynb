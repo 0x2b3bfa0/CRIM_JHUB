{
 "cells": [
  {
   "cell_type": "markdown",
   "id": "4577f63f",
   "metadata": {},
   "source": [
    "## Cadences Network Visualization with Louvain Communities\n",
    "\n"
   ]
  },
  {
   "cell_type": "code",
   "execution_count": 3,
   "id": "5d5c1fd5",
   "metadata": {},
   "outputs": [
    {
     "name": "stdout",
     "output_type": "stream",
     "text": [
      "saved_csv folder already exists.\n"
     ]
    }
   ],
   "source": [
    "import intervals\n",
    "from intervals import * \n",
    "from intervals import main_objs\n",
    "import intervals.visualizations as viz\n",
    "import pandas as pd\n",
    "import re\n",
    "import altair as alt \n",
    "from ipywidgets import interact\n",
    "from pandas.io.json import json_normalize\n",
    "from pyvis.network import Network\n",
    "from IPython.display import display\n",
    "import requests\n",
    "import os\n",
    "import numpy as np\n",
    "import itertools\n",
    "from itertools import combinations\n",
    "import networkx as nx\n",
    "from community import community_louvain\n",
    "from copy import deepcopy\n",
    "MYDIR = (\"saved_csv\")\n",
    "CHECK_FOLDER = os.path.isdir(MYDIR)\n",
    "\n",
    "# If folder doesn't exist, then create it.\n",
    "if not CHECK_FOLDER:\n",
    "    os.makedirs(MYDIR)\n",
    "    print(\"created folder : \", MYDIR)\n",
    "\n",
    "else:\n",
    "    print(MYDIR, \"folder already exists.\")"
   ]
  },
  {
   "cell_type": "markdown",
   "id": "723f4b6d",
   "metadata": {},
   "source": [
    "# B.  Select Corpus\n",
    "\n",
    "* The **CorpusBase** class is a convenient way to find patterns in any given list of pieces.\n",
    "* The pieces are provided as a **list**, within square brackets and separated by commas.  \n",
    "* The bracketed list is then contained within the parentheses of `CorpusBase()`\n",
    "* For example: `corpus CorpusBase(\n",
    "       ['https://crimproject.org/mei/CRIM_Mass_0006_1.mei',\n",
    "       'https://crimproject.org/mei/CRIM_Mass_0006_2.mei',\n",
    "       'https://crimproject.org/mei/CRIM_Mass_0006_3.mei'])`\n"
   ]
  },
  {
   "cell_type": "code",
   "execution_count": 4,
   "id": "c73376d4",
   "metadata": {},
   "outputs": [
    {
     "name": "stdout",
     "output_type": "stream",
     "text": [
      "Downloading remote score...\n",
      "Successfully imported https://crimproject.org/mei/CRIM_Model_0019.mei\n",
      "Downloading remote score...\n",
      "Successfully imported https://crimproject.org/mei/CRIM_Mass_0019_1.mei\n",
      "Downloading remote score...\n",
      "Successfully imported https://crimproject.org/mei/CRIM_Mass_0019_2.mei\n",
      "Downloading remote score...\n",
      "Successfully imported https://crimproject.org/mei/CRIM_Mass_0019_3.mei\n",
      "Downloading remote score...\n",
      "Successfully imported https://crimproject.org/mei/CRIM_Mass_0019_4.mei\n",
      "Downloading remote score...\n",
      "Successfully imported https://crimproject.org/mei/CRIM_Mass_0019_5.mei\n"
     ]
    }
   ],
   "source": [
    "corpus = CorpusBase(['https://crimproject.org/mei/CRIM_Model_0019.mei',\n",
    "                     'https://crimproject.org/mei/CRIM_Mass_0019_1.mei',\n",
    "                    'https://crimproject.org/mei/CRIM_Mass_0019_2.mei',\n",
    "                     'https://crimproject.org/mei/CRIM_Mass_0019_3.mei'\n",
    "                    ,'https://crimproject.org/mei/CRIM_Mass_0019_4.mei',\n",
    "                    'https://crimproject.org/mei/CRIM_Mass_0019_5.mei'])"
   ]
  },
  {
   "cell_type": "code",
   "execution_count": 5,
   "id": "b038442a",
   "metadata": {},
   "outputs": [],
   "source": [
    "\n",
    "\n",
    "list_of_dfs = corpus.batch(ImportedPiece.cadences, metadata=True)\n",
    "combined_df = pd.concat(list_of_dfs, ignore_index=True)\n",
    "combined_df['all_features'] = combined_df['CadType'] + \"_\" + combined_df['Tone'] + \"_\" + combined_df['Evaded'].apply(str) + \"_\" + combined_df['Beat'].apply(str)\n",
    "combined_df['some_features'] = combined_df['CadType'] + \"_\" + combined_df['Tone']\n",
    "combined_df.copy\n",
    "combined_df[\"shifted_all_feat\"] = combined_df.groupby(\"Title\")['all_features'].shift(-1)"
   ]
  },
  {
   "cell_type": "markdown",
   "id": "0ff9d5d6",
   "metadata": {},
   "source": [
    "### Network Visualization with Louvain Communities\n",
    "\n",
    "* We first create a list of **successive cadences** in each piece.  These are **Cadence Pairs**.\n",
    "* Each item in each pair records the following features:  **type**, **tone**, **evaded status**, and **beat strength of last note in the cadence**\n",
    "* The pairs are thus highly distinct--consisting of four dimensions of two cadences each, such as: `('Clausula Vera_G_False_1.0', 'Clausula Vera_G_True_3.0')`\n",
    "* This will create a varied network."
   ]
  },
  {
   "cell_type": "code",
   "execution_count": 6,
   "id": "08e26ce7",
   "metadata": {},
   "outputs": [],
   "source": [
    "combined_df = combined_df.dropna(subset=['all_features', 'shifted_all_feat'])\n",
    "cadence_pairs = list(zip(combined_df.all_features, combined_df.shifted_all_feat))"
   ]
  },
  {
   "cell_type": "code",
   "execution_count": 7,
   "id": "63f62db4",
   "metadata": {},
   "outputs": [
    {
     "data": {
      "text/plain": [
       "32"
      ]
     },
     "execution_count": 7,
     "metadata": {},
     "output_type": "execute_result"
    }
   ],
   "source": [
    "combined_df['all_features'].nunique()"
   ]
  },
  {
   "cell_type": "markdown",
   "id": "cfb35b1d",
   "metadata": {},
   "source": [
    "### A Directed Graph of Pairs\n",
    "\n",
    "* Directed graphs reflect the succession of events, and create a centrum of the most common 'goal' cadence.  Less frequent successions are at the edge of the graph"
   ]
  },
  {
   "cell_type": "code",
   "execution_count": 13,
   "id": "c1960f57",
   "metadata": {},
   "outputs": [
    {
     "data": {
      "text/html": [
       "\n",
       "        <iframe\n",
       "            width=\"1800\"\n",
       "            height=\"1400\"\n",
       "            src=\"cadence_graph.html\"\n",
       "            frameborder=\"0\"\n",
       "            allowfullscreen\n",
       "            \n",
       "        ></iframe>\n",
       "        "
      ],
      "text/plain": [
       "<IPython.lib.display.IFrame at 0x7f82ce44e760>"
      ]
     },
     "execution_count": 13,
     "metadata": {},
     "output_type": "execute_result"
    }
   ],
   "source": [
    "def add_communities(G):\n",
    "    G = deepcopy(G)\n",
    "    partition = community_louvain.best_partition(G)\n",
    "    nx.set_node_attributes(G, partition, \"group\")\n",
    "    return G\n",
    "pyvis_graph = Network(notebook=True, width=\"1800\", height=\"1400\", bgcolor=\"white\", font_color=\"black\", directed=True)\n",
    "\n",
    "G = nx.DiGraph()\n",
    "# G.add_edges_from(unique_pairs)\n",
    "G.add_edges_from(cadence_pairs)\n",
    "# G = add_communities(G)\n",
    "pyvis_graph.from_nx(G)\n",
    "pyvis_graph.show('cadence_graph.html')"
   ]
  }
 ],
 "metadata": {
  "kernelspec": {
   "display_name": "Python 3 (ipykernel)",
   "language": "python",
   "name": "python3"
  },
  "language_info": {
   "codemirror_mode": {
    "name": "ipython",
    "version": 3
   },
   "file_extension": ".py",
   "mimetype": "text/x-python",
   "name": "python",
   "nbconvert_exporter": "python",
   "pygments_lexer": "ipython3",
   "version": "3.9.12"
  }
 },
 "nbformat": 4,
 "nbformat_minor": 5
}
