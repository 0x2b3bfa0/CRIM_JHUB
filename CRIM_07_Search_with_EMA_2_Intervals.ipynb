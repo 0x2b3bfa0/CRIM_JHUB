{
 "cells": [
  {
   "cell_type": "markdown",
   "id": "0761ed8d",
   "metadata": {},
   "source": [
    "# From EMA Selection to Intervals Data\n",
    "\n",
    "* Enter an EMA expression for a selected passage of any piece and return various CRIM intervals analyses of those notes.\n",
    "* Begin by opening a score on the CRIM New Relationships form:  https://crimproject.org/relationships/new/\n",
    "* You don't need to create a new Relationship, but simply select the notes you want.\n",
    "* Copy the EMA address (which you will need below)\n"
   ]
  },
  {
   "cell_type": "markdown",
   "id": "0e21b89b",
   "metadata": {},
   "source": [
    "### A.  Import CRIM Intervals"
   ]
  },
  {
   "cell_type": "code",
   "execution_count": 1,
   "id": "1e20bfea",
   "metadata": {},
   "outputs": [
    {
     "name": "stdout",
     "output_type": "stream",
     "text": [
      "saved_csv folder already exists.\n"
     ]
    }
   ],
   "source": [
    "import intervals\n",
    "from intervals import ema2ex\n",
    "from intervals import importScore \n",
    "import intervals.visualizations as viz\n",
    "import pandas as pd\n",
    "import re\n",
    "import altair as alt \n",
    "from ipywidgets import interact\n",
    "from pandas.io.json import json_normalize\n",
    "from pyvis.network import Network\n",
    "from IPython.display import display\n",
    "import requests\n",
    "import os\n",
    "\n",
    "# You should change 'test' to your preferred folder.\n",
    "MYDIR = (\"saved_csv\")\n",
    "CHECK_FOLDER = os.path.isdir(MYDIR)\n",
    "\n",
    "# If folder doesn't exist, then create it.\n",
    "if not CHECK_FOLDER:\n",
    "    os.makedirs(MYDIR)\n",
    "    print(\"created folder : \", MYDIR)\n",
    "\n",
    "else:\n",
    "    print(MYDIR, \"folder already exists.\")"
   ]
  },
  {
   "cell_type": "code",
   "execution_count": 4,
   "id": "c35730fe",
   "metadata": {},
   "outputs": [
    {
     "name": "stdout",
     "output_type": "stream",
     "text": [
      "Downloading remote score...\n",
      "Successfully imported https://crimproject.org/mei/CRIM_Mass_0001_1.mei\n"
     ]
    }
   ],
   "source": [
    "piece = importScore('https://crimproject.org/mei/CRIM_Mass_0001_1.mei')\n",
    "\n",
    "# piece = importScore('https://raw.githubusercontent.com/RichardFreedman/CRIM_additional_works/main/MEI/Palestrina_MIOM_1.musicxml')"
   ]
  },
  {
   "cell_type": "markdown",
   "id": "aeb9951e",
   "metadata": {},
   "source": [
    "### B. Search for Patterns with Score Selection and ema2ex\n",
    "\n",
    "* Begin by opening a score on the CRIM New Relationships form:  https://crimproject.org/relationships/new/\n",
    "* You don't need to create a new Relationship, but simply **select the notes you want**.\n",
    "* Copy the ema selection, such as: `1-6/1-2,1-2,1-2,1-2,1-2,2/@1-3+@all,@1-3+@all,@1-3+@1-3,@1+@1-3,@all+@1-3,@1`\n",
    "* Make sure you import correct **score** of the piece into this Notebook\n",
    "* Paste the **`EMA address`** (the measures/staves/beats only) into the **`ema_pattern`** box below\n",
    "* Select the interval type, ngram length, \n",
    "\n",
    "* Check **`kind`** for `\"d\"` or `\"c\"` as needed\n",
    "* Select"
   ]
  },
  {
   "cell_type": "code",
   "execution_count": 3,
   "id": "3fa90072",
   "metadata": {},
   "outputs": [
    {
     "data": {
      "application/vnd.jupyter.widget-view+json": {
       "model_id": "88fd7469d8e940c2b0af8610a341e392",
       "version_major": 2,
       "version_minor": 0
      },
      "text/plain": [
       "interactive(children=(Text(value='', description='ema_pattern'), Dropdown(description='kind', options=('d', 'q…"
      ]
     },
     "metadata": {},
     "output_type": "display_data"
    }
   ],
   "source": [
    "@interact\n",
    "def get_ema_intervals(ema_pattern=\"\", \n",
    "                      kind=[\"d\", \"q\", \"c\", \"z\"], \n",
    "                      length=[3, 4, 5, 6], \n",
    "                     display=['melodic', 'harmonic', 'modules']):\n",
    "    \n",
    "    ema_clean = ema_pattern.replace('@all', '@1-4')\n",
    "    nr = piece.notes()\n",
    "    detNr = piece.detailIndex(nr, offset=True)\n",
    "    mel = piece.melodic(kind=kind)\n",
    "    har = piece.harmonic(kind=kind)\n",
    "    excerpt = ema2ex(ema_clean, detNr)\n",
    "    excerptOffsets = excerpt.index.get_level_values(2)\n",
    "    \n",
    "    if display == 'melodic':\n",
    "        ngrams = piece.ngrams(df=mel, n=length)\n",
    "        return ngrams.reindex(index = excerptOffsets).fillna('-')\n",
    "    elif display == 'harmonic':\n",
    "        ngrams = piece.ngrams(df=har, n=length)\n",
    "        return ngrams.reindex(index = excerptOffsets).fillna('-')\n",
    "    elif display == 'modules':\n",
    "        ngrams = piece.ngrams(df=har, other=mel, n=length)\n",
    "        return ngrams.reindex(index = excerptOffsets).fillna('-')"
   ]
  },
  {
   "cell_type": "code",
   "execution_count": null,
   "id": "0ad47a1a",
   "metadata": {},
   "outputs": [],
   "source": []
  }
 ],
 "metadata": {
  "kernelspec": {
   "display_name": "Python 3 (ipykernel)",
   "language": "python",
   "name": "python3"
  },
  "language_info": {
   "codemirror_mode": {
    "name": "ipython",
    "version": 3
   },
   "file_extension": ".py",
   "mimetype": "text/x-python",
   "name": "python",
   "nbconvert_exporter": "python",
   "pygments_lexer": "ipython3",
   "version": "3.9.12"
  }
 },
 "nbformat": 4,
 "nbformat_minor": 5
}
