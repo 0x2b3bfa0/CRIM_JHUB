{
 "cells": [
  {
   "cell_type": "markdown",
   "id": "0761ed8d",
   "metadata": {},
   "source": [
    "# CRIM Intervals Cadence Finder\n",
    "\n",
    "* This Notebook will help you find cadences of different types, reporting kind and modifiers\n",
    "* You can also check for missed cadences and inspect the details of the voice roles\n"
   ]
  },
  {
   "cell_type": "markdown",
   "id": "0e21b89b",
   "metadata": {},
   "source": [
    "### A.  Import CRIM Intervals"
   ]
  },
  {
   "cell_type": "code",
   "execution_count": 7,
   "id": "1e20bfea",
   "metadata": {},
   "outputs": [
    {
     "name": "stdout",
     "output_type": "stream",
     "text": [
      "saved_csv folder already exists.\n"
     ]
    }
   ],
   "source": [
    "import intervals\n",
    "from intervals import ema2ex\n",
    "from intervals import importScore \n",
    "import intervals.visualizations as viz\n",
    "import pandas as pd\n",
    "import re\n",
    "import altair as alt \n",
    "from ipywidgets import interact\n",
    "from pandas.io.json import json_normalize\n",
    "from pyvis.network import Network\n",
    "from IPython.display import display\n",
    "import requests\n",
    "import os\n",
    "\n",
    "# You should change 'test' to your preferred folder.\n",
    "MYDIR = (\"saved_csv\")\n",
    "CHECK_FOLDER = os.path.isdir(MYDIR)\n",
    "\n",
    "# If folder doesn't exist, then create it.\n",
    "if not CHECK_FOLDER:\n",
    "    os.makedirs(MYDIR)\n",
    "    print(\"created folder : \", MYDIR)\n",
    "\n",
    "else:\n",
    "    print(MYDIR, \"folder already exists.\")"
   ]
  },
  {
   "cell_type": "code",
   "execution_count": 8,
   "id": "c35730fe",
   "metadata": {},
   "outputs": [
    {
     "name": "stdout",
     "output_type": "stream",
     "text": [
      "Memoized piece detected.\n"
     ]
    }
   ],
   "source": [
    "piece = importScore('https://crimproject.org/mei/CRIM_Model_0008.mei')\n",
    "\n",
    "# piece = importScore('https://raw.githubusercontent.com/RichardFreedman/CRIM_additional_works/main/MEI/Palestrina_MIOM_1.musicxml')"
   ]
  },
  {
   "cell_type": "markdown",
   "id": "aeb9951e",
   "metadata": {},
   "source": [
    "### F. Search for Patterns with Score Selection and ema2ex\n",
    "\n",
    "* Select EMA with the Continuo Tool or CRIM website\n",
    "* Paste the **`EMA address`** (the measures/staves/beats only) into the **`ema2ex`** field below\n",
    "* Make sure you import correct **score** of the piece!\n",
    "* Check **`kind`** for `\"d\"` or `\"c\"` as needed\n",
    "* Read the **`ngrams`** and use these to build the **cadence library**"
   ]
  },
  {
   "cell_type": "code",
   "execution_count": 9,
   "id": "0b446011",
   "metadata": {},
   "outputs": [
    {
     "name": "stdout",
     "output_type": "stream",
     "text": [
      "Memoized piece detected.\n"
     ]
    },
    {
     "data": {
      "text/html": [
       "<div>\n",
       "<style scoped>\n",
       "    .dataframe tbody tr th:only-of-type {\n",
       "        vertical-align: middle;\n",
       "    }\n",
       "\n",
       "    .dataframe tbody tr th {\n",
       "        vertical-align: top;\n",
       "    }\n",
       "\n",
       "    .dataframe thead th {\n",
       "        text-align: right;\n",
       "    }\n",
       "</style>\n",
       "<table border=\"1\" class=\"dataframe\">\n",
       "  <thead>\n",
       "    <tr style=\"text-align: right;\">\n",
       "      <th></th>\n",
       "      <th>Bassus_Tenor</th>\n",
       "      <th>Bassus_Contratenor</th>\n",
       "      <th>Bassus_Superius</th>\n",
       "      <th>Tenor_Contratenor</th>\n",
       "      <th>Tenor_Superius</th>\n",
       "      <th>Contratenor_Superius</th>\n",
       "    </tr>\n",
       "    <tr>\n",
       "      <th>Offset</th>\n",
       "      <th></th>\n",
       "      <th></th>\n",
       "      <th></th>\n",
       "      <th></th>\n",
       "      <th></th>\n",
       "      <th></th>\n",
       "    </tr>\n",
       "  </thead>\n",
       "  <tbody>\n",
       "    <tr>\n",
       "      <th>66.0</th>\n",
       "      <td>4_Held, 3_-2, 5</td>\n",
       "      <td>6</td>\n",
       "      <td>10</td>\n",
       "      <td>3_-2, 4_2, 4</td>\n",
       "      <td>7_-2, 8_2, 7_Held, 6_-2, 8</td>\n",
       "      <td>5</td>\n",
       "    </tr>\n",
       "  </tbody>\n",
       "</table>\n",
       "</div>"
      ],
      "text/plain": [
       "           Bassus_Tenor Bassus_Contratenor Bassus_Superius Tenor_Contratenor  \\\n",
       "Offset                                                                         \n",
       "66.0    4_Held, 3_-2, 5                  6              10      3_-2, 4_2, 4   \n",
       "\n",
       "                    Tenor_Superius Contratenor_Superius  \n",
       "Offset                                                   \n",
       "66.0    7_-2, 8_2, 7_Held, 6_-2, 8                    5  "
      ]
     },
     "metadata": {},
     "output_type": "display_data"
    }
   ],
   "source": [
    "\n",
    "\n",
    "piece = importScore('https://crimproject.org/mei/CRIM_Mass_0001_1.mei')\n",
    "mel = piece.getMelodic(kind=\"z\", compound=True)\n",
    "\n",
    "nr = piece.getNoteRest()\n",
    "har = piece.getHarmonic('d')\n",
    "mods = piece.getNgrams(df=har, n=-1, how='modules', exclude=['Rest'])\n",
    "\n",
    "detNr = piece.detailIndex(nr, offset=True)\n",
    "excerpt = ema2ex('9-10/1-4,1-4/@2-4+@2-3+@2-3+@2-3,@1+@1+@1+@1', detNr)\n",
    "excerptOffsets = excerpt.index.get_level_values(2)\n",
    "har_clip = har.loc[excerptOffsets, :]\n",
    "mel_clip = mel.loc[excerptOffsets, :]\n",
    "# mod_clip = mods.loc[excerptOffsets, :]\n",
    "# here put in har_clip or mel_clip\n",
    "\n",
    "ngrams = piece.getNgrams(df=har_clip, n=-1, how='modules').dropna()\n",
    "# display(excerptOffsets)\n",
    "display(ngrams)"
   ]
  },
  {
   "cell_type": "markdown",
   "id": "8b20803a",
   "metadata": {},
   "source": []
  }
 ],
 "metadata": {
  "kernelspec": {
   "display_name": "Python 3 (ipykernel)",
   "language": "python",
   "name": "python3"
  },
  "language_info": {
   "codemirror_mode": {
    "name": "ipython",
    "version": 3
   },
   "file_extension": ".py",
   "mimetype": "text/x-python",
   "name": "python",
   "nbconvert_exporter": "python",
   "pygments_lexer": "ipython3",
   "version": "3.8.12"
  }
 },
 "nbformat": 4,
 "nbformat_minor": 5
}
