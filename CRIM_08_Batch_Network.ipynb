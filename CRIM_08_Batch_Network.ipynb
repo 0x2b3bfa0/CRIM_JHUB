{
 "cells": [
  {
   "cell_type": "markdown",
   "id": "a36e5396",
   "metadata": {},
   "source": [
    "# CRIM Intervals:  Modules\n",
    "\n",
    "### Reminders:\n",
    "\n",
    "#### Import Music Files\n",
    "\n",
    "* If you are exploring pieces from CRIM, importing simply involves providing the CRIM URL of the MEI file:  \n",
    "    * **`piece = importScore('https://crimproject.org/mei/CRIM_Model_0008.mei')`**\n",
    "\n",
    "* But you can also use the Notebook with any MEI, MusicXML, or MIDI file of your own. You can easily do this when you run the Notebooks on Jupyter Hub, you will also find a folder called **`Music_Files`**.  Upload the file here, then provide the path to that file: \n",
    "    * **`piece = importScore('Music_Files/My_File_Name.mei')`**.  \n",
    "\n",
    "#### Save outputs as CSV or Excel\n",
    "\n",
    "* The Jupyter Hub version of these Notebooks also provides a folder called **`saved_csv`**.  You can save **csv** files of any data frame there with this command: \n",
    "    * **`notebook_data_frame_name.to_csv('saved_csv/your_file_title.csv')`**.\n",
    "* If you prefer **Excel** documents (which are better for anything with a complex set of columns or hierarhical index), use **ExcelWriter**.  In the following code, you will need to provide these commands:\n",
    "    * **`writer = pd.ExcelWriter('saved_csv/file_name.xlsx', engine='xlsxwriter')`**\n",
    "* Now convert your dataframe to Excel\n",
    "    * **`frame_name.to_excel(writer, sheet_name='Sheet1')`**\n",
    "* And finally save the new file to the folder here in the Notebook:\n",
    "    * **`writer.save()`**\n",
    "\n",
    "Put the following code to a new cell and update the frame_name and file_name:\n",
    "\n",
    "`writer = pd.ExcelWriter('saved_csv/file_name.xlsx', engine='xlsxwriter')` <br>\n",
    "`frame_name.to_excel(writer, sheet_name='Sheet1')` <br>\n",
    "`writer.save()` <br>\n"
   ]
  },
  {
   "cell_type": "markdown",
   "id": "3e65d3be",
   "metadata": {},
   "source": [
    "## A. Import Intervals and Other Code\n",
    "\n",
    "* The first step is to import all the code required for the Notebook\n",
    "* **`arrow/run`** or **`Shift + Enter`** in the following cell:"
   ]
  },
  {
   "cell_type": "code",
   "execution_count": 1,
   "id": "0111f3d9",
   "metadata": {},
   "outputs": [
    {
     "name": "stdout",
     "output_type": "stream",
     "text": [
      "saved_csv folder already exists.\n"
     ]
    }
   ],
   "source": [
    "import intervals\n",
    "from intervals import * \n",
    "from intervals import main_objs\n",
    "import intervals.visualizations as viz\n",
    "import pandas as pd\n",
    "import re\n",
    "import altair as alt \n",
    "from ipywidgets import interact\n",
    "from pandas.io.json import json_normalize\n",
    "from pyvis.network import Network\n",
    "from IPython.display import display\n",
    "import requests\n",
    "import os\n",
    "\n",
    "MYDIR = (\"saved_csv\")\n",
    "CHECK_FOLDER = os.path.isdir(MYDIR)\n",
    "\n",
    "# If folder doesn't exist, then create it.\n",
    "if not CHECK_FOLDER:\n",
    "    os.makedirs(MYDIR)\n",
    "    print(\"created folder : \", MYDIR)\n",
    "\n",
    "else:\n",
    "    print(MYDIR, \"folder already exists.\")"
   ]
  },
  {
   "cell_type": "markdown",
   "id": "5804db50",
   "metadata": {},
   "source": [
    "## B. Importing a Group of Pieces"
   ]
  },
  {
   "cell_type": "markdown",
   "id": "b5e2a6a9",
   "metadata": {},
   "source": [
    "### B.1 Import Pieces\n",
    "\n",
    "#### list the pieces by Piece ID only!"
   ]
  },
  {
   "cell_type": "code",
   "execution_count": null,
   "id": "1c81ae60",
   "metadata": {},
   "outputs": [],
   "source": [
    "url = 'https://crimproject.org/mei/'\n",
    "piece_list = ['CRIM_Mass_0005_1',\n",
    "            'CRIM_Mass_0005_2',\n",
    "            'CRIM_Mass_0005_3',\n",
    "            'CRIM_Mass_0005_4',\n",
    "            'CRIM_Mass_0005_5',\n",
    "            'CRIM_Model_0008']\n",
    "suff = '.mei'"
   ]
  },
  {
   "cell_type": "markdown",
   "id": "234637c7",
   "metadata": {},
   "source": [
    "### B.2 get Melodic Ngrams for all pieces\n",
    "\n",
    "- Saves them as 'mel_ngrams_combined'"
   ]
  },
  {
   "cell_type": "code",
   "execution_count": null,
   "id": "b763f355",
   "metadata": {},
   "outputs": [],
   "source": [
    "\n",
    "\n",
    "mel_ngrams_combined = pd.DataFrame()\n",
    "for work in piece_list:\n",
    "    file = f\"{url}{work}{suff}\"\n",
    "    piece = importScore(file)\n",
    "    mel = piece.getMelodic(kind=\"d\", compound=True)\n",
    "    ngrams = piece.getNgrams(df=mel, n=5)\n",
    "    melodies = ngrams.stack()\n",
    "    m_counts = melodies.value_counts()\n",
    "    df = pd.DataFrame(m_counts)\n",
    "    df.columns = [work]\n",
    "    mel_ngrams_combined = pd.merge(mel_ngrams_combined,\n",
    "                df,\n",
    "                left_index=True,\n",
    "               right_index=True,\n",
    "                how='outer')\n",
    "    "
   ]
  },
  {
   "cell_type": "code",
   "execution_count": null,
   "id": "d626fe15",
   "metadata": {},
   "outputs": [],
   "source": [
    "mel_ngrams_combined.fillna('', inplace=True)\n",
    "mel_ngrams_combined.head()"
   ]
  },
  {
   "cell_type": "markdown",
   "id": "4814442e",
   "metadata": {},
   "source": [
    "### B.3 get Harmonic Ngrams for all pieces\n",
    "\n",
    "- Saves them as 'har_ngrams_combined'"
   ]
  },
  {
   "cell_type": "code",
   "execution_count": null,
   "id": "f4550bc1",
   "metadata": {},
   "outputs": [],
   "source": [
    "har_ngrams_combined = pd.DataFrame()\n",
    "for work in piece_list:\n",
    "    file = f\"{url}{work}{suff}\"\n",
    "    piece = importScore(file)\n",
    "    har = piece.getHarmonic(kind=\"d\", compound=True)\n",
    "    ngrams = piece.getNgrams(df=har, n=5)\n",
    "    harmonies = ngrams.stack()\n",
    "    h_counts = harmonies.value_counts()\n",
    "    df = pd.DataFrame(h_counts)\n",
    "    df.columns = [work]\n",
    "    har_ngrams_combined = pd.merge(har_ngrams_combined,\n",
    "                df,\n",
    "                left_index=True,\n",
    "               right_index=True,\n",
    "                how='outer')"
   ]
  },
  {
   "cell_type": "code",
   "execution_count": null,
   "id": "6375f06f",
   "metadata": {},
   "outputs": [],
   "source": [
    "har_ngrams_combined.fillna('', inplace=True)\n",
    "har_ngrams_combined.head()"
   ]
  },
  {
   "cell_type": "markdown",
   "id": "ec772f8f",
   "metadata": {},
   "source": [
    "### B.4 get Modules  for all pieces\n",
    "\n",
    "- Saves them as 'modules_combined'"
   ]
  },
  {
   "cell_type": "code",
   "execution_count": null,
   "id": "4c99ad91",
   "metadata": {},
   "outputs": [],
   "source": [
    "suff = '.mei'\n",
    "modules_combined = pd.DataFrame()\n",
    "for work in piece_list:\n",
    "    file = f\"{url}{work}{suff}\"\n",
    "    piece = importScore(file)\n",
    "    piece_har = piece.getHarmonic(kind=\"d\", compound=False)\n",
    "    ngrams = piece.getNgrams(df=piece_har, n=3, how='modules', exclude=['Rest'])\n",
    "    modules = ngrams.stack()\n",
    "    mod_counts = modules.value_counts()\n",
    "    df = pd.DataFrame(mod_counts)\n",
    "    df.columns = [work]\n",
    "    modules_combined = pd.merge(modules_combined,\n",
    "                df,\n",
    "                left_index=True,\n",
    "               right_index=True,\n",
    "                how='outer')\n",
    "    "
   ]
  },
  {
   "cell_type": "code",
   "execution_count": null,
   "id": "7448843a",
   "metadata": {},
   "outputs": [],
   "source": [
    "modules_combined.fillna('', inplace=True)\n",
    "modules_combined.head()"
   ]
  },
  {
   "cell_type": "code",
   "execution_count": null,
   "id": "74fd26e2",
   "metadata": {},
   "outputs": [],
   "source": []
  },
  {
   "cell_type": "markdown",
   "id": "649fce26",
   "metadata": {},
   "source": [
    "###  Filter any of the above\n",
    "\n",
    "- will need to use the appropraite name of the file:\n",
    "    - `modules_combined`\n",
    "    - `har_ngrams_combined`\n",
    "    - `mel_ngrams_combined`"
   ]
  },
  {
   "cell_type": "code",
   "execution_count": null,
   "id": "6aaf4861",
   "metadata": {},
   "outputs": [],
   "source": [
    "my_module = ['4, 1, 2, 2, -3']\n",
    "filter_df = mel_ngrams_combined[mel_ngrams_combined.index.isin(my_module)]\n",
    "filter_df"
   ]
  },
  {
   "cell_type": "code",
   "execution_count": null,
   "id": "a2b7c50d",
   "metadata": {},
   "outputs": [],
   "source": [
    "cols = modules_combined.columns.values.tolist()\n",
    "cols"
   ]
  },
  {
   "cell_type": "code",
   "execution_count": null,
   "id": "63e7a4f1",
   "metadata": {},
   "outputs": [],
   "source": [
    "import networkx as nx\n",
    "G = nx.Graph()"
   ]
  },
  {
   "cell_type": "code",
   "execution_count": null,
   "id": "0b831061",
   "metadata": {},
   "outputs": [],
   "source": [
    "G = nx.from_pandas_edgelist(modules_combined, 'CRIM_Mass_0005_2', 'CRIM_Model_0008')\n"
   ]
  },
  {
   "cell_type": "code",
   "execution_count": null,
   "id": "e8beea5f",
   "metadata": {},
   "outputs": [],
   "source": [
    "from matplotlib.pyplot import figure\n",
    "figure(figsize=(10, 8))\n",
    "nx.draw_shell(G, with_labels=True)"
   ]
  },
  {
   "cell_type": "markdown",
   "id": "53f81424",
   "metadata": {},
   "source": [
    "### D.  Inventory of Cadences Found:  One or Many Pieces at Once\n",
    "\n",
    "* Here you can report an inventory of cadences by **type** and **tone** (and **evaded** status)\n",
    "\n",
    "\n",
    "* To search multiple pieces at once (each returning its own dataframe of results):  enter the urls, separated by commas (each url within **single quotation marks**, and separated from the previous by a **comma** ).  Thus:\n",
    "\n",
    "* **`corpus = CorpusBase(['https://crimproject.org/mei/CRIM_Model_0019.mei', 'https://crimproject.org/mei/CRIM_Model_0010.mei'])`**"
   ]
  },
  {
   "cell_type": "code",
   "execution_count": null,
   "id": "4249c80c",
   "metadata": {},
   "outputs": [],
   "source": [
    "pieces = ['https://crimproject.org/mei/CRIM_Mass_0005_1.mei',\n",
    "          'https://crimproject.org/mei/CRIM_Mass_0005_2.mei',\n",
    "          'https://crimproject.org/mei/CRIM_Mass_0005_3.mei',\n",
    "          'https://crimproject.org/mei/CRIM_Mass_0005_4.mei',\n",
    "          'https://crimproject.org/mei/CRIM_Mass_0005_5.mei',\n",
    "          'https://crimproject.org/mei/CRIM_Model_0008.mei']\n",
    "corpus = CorpusBase(pieces)\n",
    "list_of_dfs = corpus.batch(ImportedPiece.ngrams, metadata=False)\n",
    "combined_df = pd.concat(list_of_dfs, ignore_index=False)\n",
    "summary = combined_df.groupby(['CadType', 'Tone', 'Evaded']).size().reset_index(name='counts')\n",
    "summary\n"
   ]
  },
  {
   "cell_type": "markdown",
   "id": "a3f00665",
   "metadata": {},
   "source": [
    "#### A simpler summary, without tone or evaded status:"
   ]
  },
  {
   "cell_type": "code",
   "execution_count": null,
   "id": "4d36e271",
   "metadata": {},
   "outputs": [],
   "source": [
    "list_of_dfs = corpus.batch(ImportedPiece.classifyCadences, metadata=False)\n",
    "combined_df = pd.concat(list_of_dfs, ignore_index=True)\n",
    "# Get the number of each type of cadence observed:\n",
    "cadTypeCounts = combined_df['CadType'].value_counts()\n",
    "print(cadTypeCounts)\n",
    "# Get the number of cadences per Beat level:\n",
    "cadBeatCounts = combined_df['Beat'].value_counts()\n",
    "print(cadBeatCounts)"
   ]
  },
  {
   "cell_type": "code",
   "execution_count": 12,
   "id": "3f9e3ca6",
   "metadata": {},
   "outputs": [
    {
     "name": "stdout",
     "output_type": "stream",
     "text": [
      "Memoized piece detected.\n",
      "Memoized piece detected.\n"
     ]
    }
   ],
   "source": [
    "corpus = CorpusBase(['https://crimproject.org/mei/CRIM_Mass_0014_3.mei',\n",
    "                             'https://crimproject.org/mei/CRIM_Model_0009.mei'])\n",
    "func1 = ImportedPiece.getMelodic\n",
    "# NB: you would probably want to set metadata to False for most preliminary results\n",
    "list_of_dfs = corpus.batch(func=func1, kwargs={'compound': True, 'end': False}, metadata=False)\n",
    "func2 = ImportedPiece.getNgrams\n",
    "list_of_melodic_ngrams = corpus.batch(func=func2, kwargs={'n': 5}, list_args={'df': list_of_dfs})\n"
   ]
  },
  {
   "cell_type": "code",
   "execution_count": 13,
   "id": "7c06da55",
   "metadata": {},
   "outputs": [
    {
     "data": {
      "text/html": [
       "<div>\n",
       "<style scoped>\n",
       "    .dataframe tbody tr th:only-of-type {\n",
       "        vertical-align: middle;\n",
       "    }\n",
       "\n",
       "    .dataframe tbody tr th {\n",
       "        vertical-align: top;\n",
       "    }\n",
       "\n",
       "    .dataframe thead th {\n",
       "        text-align: right;\n",
       "    }\n",
       "</style>\n",
       "<table border=\"1\" class=\"dataframe\">\n",
       "  <thead>\n",
       "    <tr style=\"text-align: right;\">\n",
       "      <th></th>\n",
       "      <th>Superius</th>\n",
       "      <th>Contratenor</th>\n",
       "      <th>Tenor</th>\n",
       "      <th>Bassus</th>\n",
       "      <th>Composer</th>\n",
       "      <th>Title</th>\n",
       "    </tr>\n",
       "  </thead>\n",
       "  <tbody>\n",
       "    <tr>\n",
       "      <th>0.0</th>\n",
       "      <td>NaN</td>\n",
       "      <td>NaN</td>\n",
       "      <td>NaN</td>\n",
       "      <td>P1, P1, m3, -M2, -m2</td>\n",
       "      <td>Pierre Cadéac</td>\n",
       "      <td>Je suis déshéritée</td>\n",
       "    </tr>\n",
       "    <tr>\n",
       "      <th>4.0</th>\n",
       "      <td>NaN</td>\n",
       "      <td>NaN</td>\n",
       "      <td>P1, P1, m3, P1, M2</td>\n",
       "      <td>P1, m3, -M2, -m2, -M2</td>\n",
       "      <td>Pierre Cadéac</td>\n",
       "      <td>Je suis déshéritée</td>\n",
       "    </tr>\n",
       "    <tr>\n",
       "      <th>6.0</th>\n",
       "      <td>NaN</td>\n",
       "      <td>NaN</td>\n",
       "      <td>NaN</td>\n",
       "      <td>m3, -M2, -m2, -M2, -M2</td>\n",
       "      <td>Pierre Cadéac</td>\n",
       "      <td>Je suis déshéritée</td>\n",
       "    </tr>\n",
       "    <tr>\n",
       "      <th>8.0</th>\n",
       "      <td>NaN</td>\n",
       "      <td>P1, P1, m2, -m2, -M2</td>\n",
       "      <td>P1, m3, P1, M2, -P4</td>\n",
       "      <td>-M2, -m2, -M2, -M2, -m2</td>\n",
       "      <td>Pierre Cadéac</td>\n",
       "      <td>Je suis déshéritée</td>\n",
       "    </tr>\n",
       "    <tr>\n",
       "      <th>10.0</th>\n",
       "      <td>NaN</td>\n",
       "      <td>NaN</td>\n",
       "      <td>NaN</td>\n",
       "      <td>NaN</td>\n",
       "      <td>Pierre Cadéac</td>\n",
       "      <td>Je suis déshéritée</td>\n",
       "    </tr>\n",
       "    <tr>\n",
       "      <th>...</th>\n",
       "      <td>...</td>\n",
       "      <td>...</td>\n",
       "      <td>...</td>\n",
       "      <td>...</td>\n",
       "      <td>...</td>\n",
       "      <td>...</td>\n",
       "    </tr>\n",
       "    <tr>\n",
       "      <th>234.0</th>\n",
       "      <td>NaN</td>\n",
       "      <td>NaN</td>\n",
       "      <td>NaN</td>\n",
       "      <td>NaN</td>\n",
       "      <td>Pierre Cadéac</td>\n",
       "      <td>Je suis déshéritée</td>\n",
       "    </tr>\n",
       "    <tr>\n",
       "      <th>235.0</th>\n",
       "      <td>NaN</td>\n",
       "      <td>M2, m2, M2, -M2, -m3</td>\n",
       "      <td>m2, M2, -M2, -m2, -M2</td>\n",
       "      <td>NaN</td>\n",
       "      <td>Pierre Cadéac</td>\n",
       "      <td>Je suis déshéritée</td>\n",
       "    </tr>\n",
       "    <tr>\n",
       "      <th>236.0</th>\n",
       "      <td>NaN</td>\n",
       "      <td>m2, M2, -M2, -m3, M2</td>\n",
       "      <td>M2, -M2, -m2, -M2, M2</td>\n",
       "      <td>NaN</td>\n",
       "      <td>Pierre Cadéac</td>\n",
       "      <td>Je suis déshéritée</td>\n",
       "    </tr>\n",
       "    <tr>\n",
       "      <th>237.0</th>\n",
       "      <td>NaN</td>\n",
       "      <td>NaN</td>\n",
       "      <td>NaN</td>\n",
       "      <td>NaN</td>\n",
       "      <td>Pierre Cadéac</td>\n",
       "      <td>Je suis déshéritée</td>\n",
       "    </tr>\n",
       "    <tr>\n",
       "      <th>238.0</th>\n",
       "      <td>NaN</td>\n",
       "      <td>NaN</td>\n",
       "      <td>NaN</td>\n",
       "      <td>NaN</td>\n",
       "      <td>Pierre Cadéac</td>\n",
       "      <td>Je suis déshéritée</td>\n",
       "    </tr>\n",
       "  </tbody>\n",
       "</table>\n",
       "<p>155 rows × 6 columns</p>\n",
       "</div>"
      ],
      "text/plain": [
       "      Superius           Contratenor                  Tenor  \\\n",
       "0.0        NaN                   NaN                    NaN   \n",
       "4.0        NaN                   NaN     P1, P1, m3, P1, M2   \n",
       "6.0        NaN                   NaN                    NaN   \n",
       "8.0        NaN  P1, P1, m2, -m2, -M2    P1, m3, P1, M2, -P4   \n",
       "10.0       NaN                   NaN                    NaN   \n",
       "...        ...                   ...                    ...   \n",
       "234.0      NaN                   NaN                    NaN   \n",
       "235.0      NaN  M2, m2, M2, -M2, -m3  m2, M2, -M2, -m2, -M2   \n",
       "236.0      NaN  m2, M2, -M2, -m3, M2  M2, -M2, -m2, -M2, M2   \n",
       "237.0      NaN                   NaN                    NaN   \n",
       "238.0      NaN                   NaN                    NaN   \n",
       "\n",
       "                        Bassus       Composer               Title  \n",
       "0.0       P1, P1, m3, -M2, -m2  Pierre Cadéac  Je suis déshéritée  \n",
       "4.0      P1, m3, -M2, -m2, -M2  Pierre Cadéac  Je suis déshéritée  \n",
       "6.0     m3, -M2, -m2, -M2, -M2  Pierre Cadéac  Je suis déshéritée  \n",
       "8.0    -M2, -m2, -M2, -M2, -m2  Pierre Cadéac  Je suis déshéritée  \n",
       "10.0                       NaN  Pierre Cadéac  Je suis déshéritée  \n",
       "...                        ...            ...                 ...  \n",
       "234.0                      NaN  Pierre Cadéac  Je suis déshéritée  \n",
       "235.0                      NaN  Pierre Cadéac  Je suis déshéritée  \n",
       "236.0                      NaN  Pierre Cadéac  Je suis déshéritée  \n",
       "237.0                      NaN  Pierre Cadéac  Je suis déshéritée  \n",
       "238.0                      NaN  Pierre Cadéac  Je suis déshéritée  \n",
       "\n",
       "[155 rows x 6 columns]"
      ]
     },
     "execution_count": 13,
     "metadata": {},
     "output_type": "execute_result"
    }
   ],
   "source": [
    "list_of_melodic_ngrams[1]"
   ]
  },
  {
   "cell_type": "code",
   "execution_count": null,
   "id": "53ccac6f",
   "metadata": {},
   "outputs": [],
   "source": []
  }
 ],
 "metadata": {
  "kernelspec": {
   "display_name": "Python 3 (ipykernel)",
   "language": "python",
   "name": "python3"
  },
  "language_info": {
   "codemirror_mode": {
    "name": "ipython",
    "version": 3
   },
   "file_extension": ".py",
   "mimetype": "text/x-python",
   "name": "python",
   "nbconvert_exporter": "python",
   "pygments_lexer": "ipython3",
   "version": "3.9.12"
  },
  "toc": {
   "base_numbering": 1,
   "nav_menu": {},
   "number_sections": true,
   "sideBar": true,
   "skip_h1_title": false,
   "title_cell": "Table of Contents",
   "title_sidebar": "Contents",
   "toc_cell": false,
   "toc_position": {
    "height": "calc(100% - 180px)",
    "left": "10px",
    "top": "150px",
    "width": "339.333px"
   },
   "toc_section_display": true,
   "toc_window_display": true
  }
 },
 "nbformat": 4,
 "nbformat_minor": 5
}
