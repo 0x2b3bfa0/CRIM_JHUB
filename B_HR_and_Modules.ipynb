{
 "cells": [
  {
   "cell_type": "markdown",
   "id": "3e150d50",
   "metadata": {},
   "source": [
    "# CRIM Intervals:  Modules\n",
    "\n",
    "### What You Can Do with this Notebook\n",
    "\n",
    "* Learn how to do some basic filtering of one Dataframe to find the modules associated with homorhythmic passages\n",
    "\n"
   ]
  },
  {
   "cell_type": "markdown",
   "id": "26dd55e4",
   "metadata": {},
   "source": [
    "### A. Import Intervals and Other Code\n"
   ]
  },
  {
   "cell_type": "code",
   "execution_count": 33,
   "id": "6b1ab1ca",
   "metadata": {},
   "outputs": [
    {
     "name": "stdout",
     "output_type": "stream",
     "text": [
      "saved_csv folder already exists.\n",
      "Music_Files folder already exists.\n"
     ]
    }
   ],
   "source": [
    "import intervals\n",
    "from intervals import * \n",
    "from intervals import main_objs\n",
    "import intervals.visualizations as viz\n",
    "import pandas as pd\n",
    "import re\n",
    "import altair as alt\n",
    "import matplotlib.pyplot as plt\n",
    "import seaborn as sns\n",
    "from ipywidgets import interact\n",
    "from pandas.io.json import json_normalize\n",
    "from pyvis.network import Network\n",
    "from IPython.display import display\n",
    "import requests\n",
    "import os\n",
    "\n",
    "\n",
    "def convertTuple(tup):\n",
    "    out = \"\"\n",
    "    if isinstance(tup, tuple):\n",
    "        out = ', '.join(tup)\n",
    "    return out\n",
    "\n",
    "\n",
    "MYDIR = (\"saved_csv\")\n",
    "CHECK_FOLDER = os.path.isdir(MYDIR)\n",
    "\n",
    "# If folder doesn't exist, then create it.\n",
    "if not CHECK_FOLDER:\n",
    "    os.makedirs(MYDIR)\n",
    "    print(\"created folder : \", MYDIR)\n",
    "else:\n",
    "    print(MYDIR, \"folder already exists.\")\n",
    "    \n",
    "MUSDIR = (\"Music_Files\")\n",
    "CHECK_FOLDER = os.path.isdir(MUSDIR)\n",
    "\n",
    "# If folder doesn't exist, then create it.\n",
    "if not CHECK_FOLDER:\n",
    "    os.makedirs(MUSDIR)\n",
    "    print(\"created folder : \", MUSDIR)\n",
    "else:\n",
    "    print(MUSDIR, \"folder already exists.\")"
   ]
  },
  {
   "cell_type": "markdown",
   "id": "40786a23",
   "metadata": {},
   "source": [
    "## B. Importing a Piece"
   ]
  },
  {
   "cell_type": "code",
   "execution_count": 4,
   "id": "d9dcd69f",
   "metadata": {},
   "outputs": [
    {
     "name": "stdout",
     "output_type": "stream",
     "text": [
      "Previously imported piece detected.\n",
      "{'title': 'Ave Maria', 'composer': 'Josquin Des Prés'}\n"
     ]
    }
   ],
   "source": [
    "# Select a prefix:\n",
    "\n",
    "# prefix = 'Music_Files/'\n",
    "prefix = 'https://crimproject.org/mei/'\n",
    "\n",
    "# Add your filename here\n",
    "mei_file = 'CRIM_Model_0008.mei'\n",
    "\n",
    "# and combine the strings and load the piece\n",
    "url = prefix + mei_file\n",
    "piece = importScore(url)\n",
    "\n",
    "print(piece.metadata)"
   ]
  },
  {
   "cell_type": "code",
   "execution_count": 5,
   "id": "c0c80632",
   "metadata": {},
   "outputs": [],
   "source": [
    "# print(ImportedPiece.ngrams.__doc__)"
   ]
  },
  {
   "cell_type": "markdown",
   "id": "3f7c3ba8",
   "metadata": {},
   "source": [
    "### How can we find the ngrams associated with all the HR in a piece?\n",
    "\n",
    "* We will first find the homorhythmic passages (where two or more voices have the same durations and same syllables).\n",
    "\n",
    "* Then we will use the 'offsets' of those passages as a mask, returning only the harmonic ngrams associated with them.\n",
    "\n",
    "* And then we can look for repeating harmonic ngrams in one or more pieces.\n",
    "\n"
   ]
  },
  {
   "cell_type": "markdown",
   "id": "a5945eb4",
   "metadata": {},
   "source": [
    "### Find HR, then Indices to List\n",
    "\n",
    "find hr and then get the offset index as a list\n",
    "hr has a 'multi'index, so we only need level 2, which is the offset\n",
    "\n",
    ">`hr = piece.homorhythm()\n",
    "hr_index = hr.index.get_level_values(2)`\n"
   ]
  },
  {
   "cell_type": "code",
   "execution_count": 7,
   "id": "2e07a0dd",
   "metadata": {},
   "outputs": [
    {
     "data": {
      "text/plain": [
       "Float64Index([ 244.0,  252.0,  256.0,  276.0,  302.0,  304.0,  316.0,  320.0,\n",
       "               408.0,  604.0,  620.0,  622.0,  624.0,  644.0,  646.0,  736.0,\n",
       "               748.0,  780.0,  796.0,  828.0,  840.0,  852.0,  952.0,  976.0,\n",
       "              1040.0, 1072.0, 1184.0, 1200.0, 1208.0, 1224.0, 1236.0, 1240.0,\n",
       "              1256.0, 1272.0],\n",
       "             dtype='float64', name='Offset')"
      ]
     },
     "execution_count": 7,
     "metadata": {},
     "output_type": "execute_result"
    }
   ],
   "source": [
    "hr = piece.homorhythm()\n",
    "hr_index = hr.index.get_level_values(2)\n",
    "hr\n",
    "hr_index"
   ]
  },
  {
   "cell_type": "markdown",
   "id": "822612ef",
   "metadata": {},
   "source": [
    "### Find all the harmonic ngrams in one piece (note interval and offset settings, and length)\n",
    "\n",
    ">`all_har_ngs = piece.ngrams(df=piece.harmonic(kind=\"d\", compound=False), n=2).fillna('')`\n",
    "\n",
    "if you want the **modular ngrams** instead, us the following:\n",
    "\n",
    ">`all_mods = piece.ngrams()`"
   ]
  },
  {
   "cell_type": "code",
   "execution_count": 9,
   "id": "49c3a6d6",
   "metadata": {},
   "outputs": [
    {
     "data": {
      "text/html": [
       "<div>\n",
       "<style scoped>\n",
       "    .dataframe tbody tr th:only-of-type {\n",
       "        vertical-align: middle;\n",
       "    }\n",
       "\n",
       "    .dataframe tbody tr th {\n",
       "        vertical-align: top;\n",
       "    }\n",
       "\n",
       "    .dataframe thead th {\n",
       "        text-align: right;\n",
       "    }\n",
       "</style>\n",
       "<table border=\"1\" class=\"dataframe\">\n",
       "  <thead>\n",
       "    <tr style=\"text-align: right;\">\n",
       "      <th></th>\n",
       "      <th>Bassus_Tenor</th>\n",
       "      <th>Bassus_Altus</th>\n",
       "      <th>Bassus_[Superius]</th>\n",
       "      <th>Tenor_Altus</th>\n",
       "      <th>Tenor_[Superius]</th>\n",
       "      <th>Altus_[Superius]</th>\n",
       "    </tr>\n",
       "  </thead>\n",
       "  <tbody>\n",
       "    <tr>\n",
       "      <th>16.0</th>\n",
       "      <td></td>\n",
       "      <td></td>\n",
       "      <td></td>\n",
       "      <td></td>\n",
       "      <td></td>\n",
       "      <td>(5, 3)</td>\n",
       "    </tr>\n",
       "    <tr>\n",
       "      <th>20.0</th>\n",
       "      <td></td>\n",
       "      <td></td>\n",
       "      <td></td>\n",
       "      <td></td>\n",
       "      <td></td>\n",
       "      <td>(3, 8)</td>\n",
       "    </tr>\n",
       "    <tr>\n",
       "      <th>24.0</th>\n",
       "      <td></td>\n",
       "      <td></td>\n",
       "      <td></td>\n",
       "      <td></td>\n",
       "      <td></td>\n",
       "      <td>(8, 8)</td>\n",
       "    </tr>\n",
       "    <tr>\n",
       "      <th>32.0</th>\n",
       "      <td></td>\n",
       "      <td></td>\n",
       "      <td></td>\n",
       "      <td>(5, 3)</td>\n",
       "      <td></td>\n",
       "      <td></td>\n",
       "    </tr>\n",
       "    <tr>\n",
       "      <th>36.0</th>\n",
       "      <td></td>\n",
       "      <td></td>\n",
       "      <td></td>\n",
       "      <td>(3, 1)</td>\n",
       "      <td></td>\n",
       "      <td></td>\n",
       "    </tr>\n",
       "    <tr>\n",
       "      <th>...</th>\n",
       "      <td>...</td>\n",
       "      <td>...</td>\n",
       "      <td>...</td>\n",
       "      <td>...</td>\n",
       "      <td>...</td>\n",
       "      <td>...</td>\n",
       "    </tr>\n",
       "    <tr>\n",
       "      <th>1244.0</th>\n",
       "      <td>(3, 3)</td>\n",
       "      <td>(8, 5)</td>\n",
       "      <td>(5, 3)</td>\n",
       "      <td>(6, 3)</td>\n",
       "      <td>(3, 8)</td>\n",
       "      <td>(5, 6)</td>\n",
       "    </tr>\n",
       "    <tr>\n",
       "      <th>1248.0</th>\n",
       "      <td>(3, 5)</td>\n",
       "      <td>(5, 6)</td>\n",
       "      <td>(3, 3)</td>\n",
       "      <td>(3, 4)</td>\n",
       "      <td>(8, 6)</td>\n",
       "      <td>(6, 5)</td>\n",
       "    </tr>\n",
       "    <tr>\n",
       "      <th>1252.0</th>\n",
       "      <td></td>\n",
       "      <td>(6, 8)</td>\n",
       "      <td></td>\n",
       "      <td>(4, 4)</td>\n",
       "      <td></td>\n",
       "      <td>(5, 3)</td>\n",
       "    </tr>\n",
       "    <tr>\n",
       "      <th>1256.0</th>\n",
       "      <td>(5, 8)</td>\n",
       "      <td>(8, 5)</td>\n",
       "      <td>(3, 8)</td>\n",
       "      <td>(4, 5)</td>\n",
       "      <td>(6, 8)</td>\n",
       "      <td>(3, 4)</td>\n",
       "    </tr>\n",
       "    <tr>\n",
       "      <th>1272.0</th>\n",
       "      <td>(8, 8)</td>\n",
       "      <td>(5, 5)</td>\n",
       "      <td>(8, 8)</td>\n",
       "      <td>(5, 5)</td>\n",
       "      <td>(8, 8)</td>\n",
       "      <td>(4, 4)</td>\n",
       "    </tr>\n",
       "  </tbody>\n",
       "</table>\n",
       "<p>510 rows × 6 columns</p>\n",
       "</div>"
      ],
      "text/plain": [
       "       Bassus_Tenor Bassus_Altus Bassus_[Superius] Tenor_Altus  \\\n",
       "16.0                                                             \n",
       "20.0                                                             \n",
       "24.0                                                             \n",
       "32.0                                                    (5, 3)   \n",
       "36.0                                                    (3, 1)   \n",
       "...             ...          ...               ...         ...   \n",
       "1244.0       (3, 3)       (8, 5)            (5, 3)      (6, 3)   \n",
       "1248.0       (3, 5)       (5, 6)            (3, 3)      (3, 4)   \n",
       "1252.0                    (6, 8)                        (4, 4)   \n",
       "1256.0       (5, 8)       (8, 5)            (3, 8)      (4, 5)   \n",
       "1272.0       (8, 8)       (5, 5)            (8, 8)      (5, 5)   \n",
       "\n",
       "       Tenor_[Superius] Altus_[Superius]  \n",
       "16.0                              (5, 3)  \n",
       "20.0                              (3, 8)  \n",
       "24.0                              (8, 8)  \n",
       "32.0                                      \n",
       "36.0                                      \n",
       "...                 ...              ...  \n",
       "1244.0           (3, 8)           (5, 6)  \n",
       "1248.0           (8, 6)           (6, 5)  \n",
       "1252.0                            (5, 3)  \n",
       "1256.0           (6, 8)           (3, 4)  \n",
       "1272.0           (8, 8)           (4, 4)  \n",
       "\n",
       "[510 rows x 6 columns]"
      ]
     },
     "execution_count": 9,
     "metadata": {},
     "output_type": "execute_result"
    }
   ],
   "source": [
    "all_har_ngs = piece.ngrams(df=piece.harmonic(kind=\"d\", compound=False), n=2).fillna('')\n",
    "all_har_ngs"
   ]
  },
  {
   "cell_type": "markdown",
   "id": "e9096fda",
   "metadata": {},
   "source": [
    "#### Now get a list of modules\n",
    "\n",
    ">`all_ngs_list = all_har_ngs.index.to_list()`\n",
    "\n",
    "And find the **intersection of both lists** (since sometimes the hr don't form modules, depending on surrounding rests, etc)\n",
    "\n",
    ">`final_hr_list= hr_index.intersection(all_ngs_list)`\n",
    "\n"
   ]
  },
  {
   "cell_type": "code",
   "execution_count": 10,
   "id": "e91e7b48",
   "metadata": {},
   "outputs": [
    {
     "data": {
      "text/plain": [
       "Float64Index([ 244.0,  252.0,  256.0,  276.0,  302.0,  316.0,  320.0,  408.0,\n",
       "               604.0,  620.0,  622.0,  624.0,  644.0,  646.0,  748.0,  780.0,\n",
       "               796.0,  828.0,  840.0,  852.0,  952.0,  976.0, 1040.0, 1200.0,\n",
       "              1208.0, 1236.0, 1240.0, 1256.0, 1272.0],\n",
       "             dtype='float64', name='Offset')"
      ]
     },
     "execution_count": 10,
     "metadata": {},
     "output_type": "execute_result"
    }
   ],
   "source": [
    "all_ngs_list = all_har_ngs.index.to_list()\n",
    "final_hr_list= hr_index.intersection(all_ngs_list)\n",
    "final_hr_list"
   ]
  },
  {
   "cell_type": "markdown",
   "id": "160d359e",
   "metadata": {},
   "source": [
    "### Now filter the Ngrams according to the index of HR passages\n",
    "\n",
    ">`all_hr_ngrams = all_har_ngs.loc[final_hr_list]\n",
    "all_hr_ngrams.fillna('')\n",
    "all_hr_ngrams = all_hr_ngrams.fillna('').applymap(convertTuple)`\n",
    "\n",
    "These are the ngrams of the hr passages"
   ]
  },
  {
   "cell_type": "code",
   "execution_count": 32,
   "id": "5045ab28",
   "metadata": {},
   "outputs": [],
   "source": [
    "\n",
    "all_hr_ngrams = all_har_ngs.loc[final_hr_list]\n",
    "all_hr_ngrams = all_hr_ngrams.fillna('').applymap(convertTuple)"
   ]
  },
  {
   "cell_type": "markdown",
   "id": "3b070387",
   "metadata": {},
   "source": [
    "### There are various ways to change the of NGrams \n",
    "\n",
    "You would need to use this with the hr mask above\n",
    "\n",
    "- Diatonic, Chromatic, With-Quality, etc\n",
    "- No Unisons\n",
    "- Various lengths\n",
    "- Exclude rests"
   ]
  },
  {
   "cell_type": "code",
   "execution_count": 19,
   "id": "40157cf9",
   "metadata": {},
   "outputs": [
    {
     "data": {
      "text/html": [
       "<div>\n",
       "<style scoped>\n",
       "    .dataframe tbody tr th:only-of-type {\n",
       "        vertical-align: middle;\n",
       "    }\n",
       "\n",
       "    .dataframe tbody tr th {\n",
       "        vertical-align: top;\n",
       "    }\n",
       "\n",
       "    .dataframe thead th {\n",
       "        text-align: right;\n",
       "    }\n",
       "</style>\n",
       "<table border=\"1\" class=\"dataframe\">\n",
       "  <thead>\n",
       "    <tr style=\"text-align: right;\">\n",
       "      <th></th>\n",
       "      <th>Bassus_Tenor</th>\n",
       "      <th>Bassus_Altus</th>\n",
       "      <th>Bassus_[Superius]</th>\n",
       "      <th>Tenor_Altus</th>\n",
       "      <th>Tenor_[Superius]</th>\n",
       "      <th>Altus_[Superius]</th>\n",
       "    </tr>\n",
       "  </thead>\n",
       "  <tbody>\n",
       "    <tr>\n",
       "      <th>16.0</th>\n",
       "      <td></td>\n",
       "      <td></td>\n",
       "      <td></td>\n",
       "      <td></td>\n",
       "      <td></td>\n",
       "      <td>19_5, 16_Held, 12</td>\n",
       "    </tr>\n",
       "    <tr>\n",
       "      <th>20.0</th>\n",
       "      <td></td>\n",
       "      <td></td>\n",
       "      <td></td>\n",
       "      <td></td>\n",
       "      <td></td>\n",
       "      <td>16_Held, 12_0, 12</td>\n",
       "    </tr>\n",
       "    <tr>\n",
       "      <th>32.0</th>\n",
       "      <td></td>\n",
       "      <td></td>\n",
       "      <td></td>\n",
       "      <td>7_5, 4_Held, 0</td>\n",
       "      <td></td>\n",
       "      <td></td>\n",
       "    </tr>\n",
       "    <tr>\n",
       "      <th>36.0</th>\n",
       "      <td></td>\n",
       "      <td></td>\n",
       "      <td></td>\n",
       "      <td>4_Held, 0_0, 0</td>\n",
       "      <td></td>\n",
       "      <td></td>\n",
       "    </tr>\n",
       "    <tr>\n",
       "      <th>48.0</th>\n",
       "      <td>19_5, 16_Held, 12</td>\n",
       "      <td></td>\n",
       "      <td></td>\n",
       "      <td></td>\n",
       "      <td></td>\n",
       "      <td></td>\n",
       "    </tr>\n",
       "  </tbody>\n",
       "</table>\n",
       "</div>"
      ],
      "text/plain": [
       "           Bassus_Tenor Bassus_Altus Bassus_[Superius]     Tenor_Altus  \\\n",
       "16.0                                                                     \n",
       "20.0                                                                     \n",
       "32.0                                                    7_5, 4_Held, 0   \n",
       "36.0                                                    4_Held, 0_0, 0   \n",
       "48.0  19_5, 16_Held, 12                                                  \n",
       "\n",
       "     Tenor_[Superius]   Altus_[Superius]  \n",
       "16.0                   19_5, 16_Held, 12  \n",
       "20.0                   16_Held, 12_0, 12  \n",
       "32.0                                      \n",
       "36.0                                      \n",
       "48.0                                      "
      ]
     },
     "execution_count": 19,
     "metadata": {},
     "output_type": "execute_result"
    }
   ],
   "source": [
    "mel = piece.melodic(kind=\"c\")\n",
    "har = piece.harmonic(kind=\"c\")\n",
    "ngrams = piece.ngrams(df=har, other=mel, n=3).fillna('')\n",
    "ngrams.head()"
   ]
  },
  {
   "cell_type": "code",
   "execution_count": 20,
   "id": "a2392c89",
   "metadata": {},
   "outputs": [
    {
     "data": {
      "text/html": [
       "<div>\n",
       "<style scoped>\n",
       "    .dataframe tbody tr th:only-of-type {\n",
       "        vertical-align: middle;\n",
       "    }\n",
       "\n",
       "    .dataframe tbody tr th {\n",
       "        vertical-align: top;\n",
       "    }\n",
       "\n",
       "    .dataframe thead th {\n",
       "        text-align: right;\n",
       "    }\n",
       "</style>\n",
       "<table border=\"1\" class=\"dataframe\">\n",
       "  <thead>\n",
       "    <tr style=\"text-align: right;\">\n",
       "      <th></th>\n",
       "      <th>Bassus_Tenor</th>\n",
       "      <th>Bassus_Altus</th>\n",
       "      <th>Bassus_[Superius]</th>\n",
       "      <th>Tenor_Altus</th>\n",
       "      <th>Tenor_[Superius]</th>\n",
       "      <th>Altus_[Superius]</th>\n",
       "    </tr>\n",
       "  </thead>\n",
       "  <tbody>\n",
       "    <tr>\n",
       "      <th>16.0</th>\n",
       "      <td></td>\n",
       "      <td></td>\n",
       "      <td></td>\n",
       "      <td></td>\n",
       "      <td></td>\n",
       "      <td>5_4, 3_Held, 8</td>\n",
       "    </tr>\n",
       "    <tr>\n",
       "      <th>20.0</th>\n",
       "      <td></td>\n",
       "      <td></td>\n",
       "      <td></td>\n",
       "      <td></td>\n",
       "      <td></td>\n",
       "      <td>3_Held, 8_Held, 8</td>\n",
       "    </tr>\n",
       "    <tr>\n",
       "      <th>32.0</th>\n",
       "      <td></td>\n",
       "      <td></td>\n",
       "      <td></td>\n",
       "      <td>5_4, 3_Held, 1</td>\n",
       "      <td></td>\n",
       "      <td></td>\n",
       "    </tr>\n",
       "    <tr>\n",
       "      <th>36.0</th>\n",
       "      <td></td>\n",
       "      <td></td>\n",
       "      <td></td>\n",
       "      <td>3_Held, 1_Held, 1</td>\n",
       "      <td></td>\n",
       "      <td></td>\n",
       "    </tr>\n",
       "    <tr>\n",
       "      <th>48.0</th>\n",
       "      <td>5_4, 3_Held, 8</td>\n",
       "      <td></td>\n",
       "      <td></td>\n",
       "      <td></td>\n",
       "      <td></td>\n",
       "      <td></td>\n",
       "    </tr>\n",
       "  </tbody>\n",
       "</table>\n",
       "</div>"
      ],
      "text/plain": [
       "        Bassus_Tenor Bassus_Altus Bassus_[Superius]        Tenor_Altus  \\\n",
       "16.0                                                                     \n",
       "20.0                                                                     \n",
       "32.0                                                    5_4, 3_Held, 1   \n",
       "36.0                                                 3_Held, 1_Held, 1   \n",
       "48.0  5_4, 3_Held, 8                                                     \n",
       "\n",
       "     Tenor_[Superius]   Altus_[Superius]  \n",
       "16.0                      5_4, 3_Held, 8  \n",
       "20.0                   3_Held, 8_Held, 8  \n",
       "32.0                                      \n",
       "36.0                                      \n",
       "48.0                                      "
      ]
     },
     "execution_count": 20,
     "metadata": {},
     "output_type": "execute_result"
    }
   ],
   "source": [
    "nr_no_unisons = piece.notes(combineUnisons=True)\n",
    "mel = piece.melodic(df=nr_no_unisons, kind=\"d\")\n",
    "har = piece.harmonic(kind=\"d\", compound=False)\n",
    "ngrams = piece.ngrams(df=har, other=mel).fillna('')\n",
    "ngrams.head()"
   ]
  },
  {
   "cell_type": "markdown",
   "id": "398710aa",
   "metadata": {},
   "source": [
    "## Search the Ngrams of the HR \n",
    "\n",
    "Now you can also search within those results for anything you like"
   ]
  },
  {
   "cell_type": "code",
   "execution_count": 34,
   "id": "5cebe885",
   "metadata": {},
   "outputs": [
    {
     "data": {
      "application/vnd.jupyter.widget-view+json": {
       "model_id": "860d7d2da39f4dc28557242d6722cc28",
       "version_major": 2,
       "version_minor": 0
      },
      "text/plain": [
       "interactive(children=(Text(value='', description='my_search'), Output()), _dom_classes=('widget-interact',))"
      ]
     },
     "metadata": {},
     "output_type": "display_data"
    }
   ],
   "source": [
    "\n",
    "@interact\n",
    "def har_ngram_search(my_search=\"\", df = fixed(all_hr_ngrams)):\n",
    "    \n",
    "    df2 = all_hr_ngrams.copy()\n",
    "    filtered_ngrams = df2[df2.apply(lambda x: x.astype(str).str.contains(my_search).any(), axis=1)].copy()\n",
    "    \n",
    "    pd.set_option('max_columns', None)\n",
    "    return filtered_ngrams.fillna(\"-\").reset_index().applymap(str).style.applymap(lambda x: \"background: #ccebc4\" if re.search(my_search, x) else \"\")"
   ]
  },
  {
   "cell_type": "code",
   "execution_count": null,
   "id": "d69022d1",
   "metadata": {},
   "outputs": [],
   "source": []
  }
 ],
 "metadata": {
  "kernelspec": {
   "display_name": "Python 3 (ipykernel)",
   "language": "python",
   "name": "python3"
  },
  "language_info": {
   "codemirror_mode": {
    "name": "ipython",
    "version": 3
   },
   "file_extension": ".py",
   "mimetype": "text/x-python",
   "name": "python",
   "nbconvert_exporter": "python",
   "pygments_lexer": "ipython3",
   "version": "3.9.12"
  },
  "toc": {
   "base_numbering": 1,
   "nav_menu": {},
   "number_sections": true,
   "sideBar": true,
   "skip_h1_title": false,
   "title_cell": "Table of Contents",
   "title_sidebar": "Contents",
   "toc_cell": false,
   "toc_position": {
    "height": "calc(100% - 180px)",
    "left": "10px",
    "top": "150px",
    "width": "339.333px"
   },
   "toc_section_display": true,
   "toc_window_display": true
  }
 },
 "nbformat": 4,
 "nbformat_minor": 5
}
