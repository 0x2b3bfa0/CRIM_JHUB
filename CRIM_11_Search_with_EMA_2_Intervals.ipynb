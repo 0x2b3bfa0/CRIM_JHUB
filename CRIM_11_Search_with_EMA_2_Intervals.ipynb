{
 "cells": [
  {
   "cell_type": "markdown",
   "id": "0761ed8d",
   "metadata": {},
   "source": [
    "# From EMA Selection to Intervals Data\n",
    "\n",
    "* Enter an EMA expression for a selected passage of any piece and return various CRIM intervals analyses of those notes.\n",
    "* Begin by opening a score on the CRIM New Relationships form:  https://crimproject.org/relationships/new/\n",
    "* You don't need to create a new Relationship, but simply select the notes you want.\n",
    "* Copy the EMA address (which you will need below)\n"
   ]
  },
  {
   "cell_type": "markdown",
   "id": "0e21b89b",
   "metadata": {},
   "source": [
    "### A.  Import CRIM Intervals"
   ]
  },
  {
   "cell_type": "code",
   "execution_count": 6,
   "id": "1e20bfea",
   "metadata": {},
   "outputs": [
    {
     "name": "stdout",
     "output_type": "stream",
     "text": [
      "saved_csv folder already exists.\n",
      "Music_Files folder already exists.\n"
     ]
    }
   ],
   "source": [
    "import intervals\n",
    "from intervals import ema2ex\n",
    "from intervals import importScore \n",
    "import intervals.visualizations as viz\n",
    "import pandas as pd\n",
    "import re\n",
    "import altair as alt \n",
    "from ipywidgets import interact\n",
    "from pandas.io.json import json_normalize\n",
    "from pyvis.network import Network\n",
    "from IPython.display import display\n",
    "import requests\n",
    "import os\n",
    "\n",
    "\n",
    "MYDIR = (\"saved_csv\")\n",
    "CHECK_FOLDER = os.path.isdir(MYDIR)\n",
    "\n",
    "# If folder doesn't exist, then create it.\n",
    "if not CHECK_FOLDER:\n",
    "    os.makedirs(MYDIR)\n",
    "    print(\"created folder : \", MYDIR)\n",
    "\n",
    "else:\n",
    "    print(MYDIR, \"folder already exists.\")\n",
    "    \n",
    "MUSDIR = (\"Music_Files\")\n",
    "CHECK_FOLDER = os.path.isdir(MUSDIR)\n",
    "\n",
    "# If folder doesn't exist, then create it.\n",
    "if not CHECK_FOLDER:\n",
    "    os.makedirs(MUSDIR)\n",
    "    print(\"created folder : \", MUSDIR)\n",
    "\n",
    "else:\n",
    "    print(MUSDIR, \"folder already exists.\")"
   ]
  },
  {
   "cell_type": "code",
   "execution_count": 7,
   "id": "c35730fe",
   "metadata": {},
   "outputs": [
    {
     "name": "stdout",
     "output_type": "stream",
     "text": [
      "Previously imported piece detected.\n"
     ]
    }
   ],
   "source": [
    "piece = importScore('https://crimproject.org/mei/CRIM_Model_0046.mei')\n",
    "\n",
    "# piece = importScore('https://raw.githubusercontent.com/RichardFreedman/CRIM_additional_works/main/MEI/Palestrina_MIOM_1.musicxml')"
   ]
  },
  {
   "cell_type": "markdown",
   "id": "aeb9951e",
   "metadata": {},
   "source": [
    "### B. Search for Patterns with Score Selection and ema2ex\n",
    "\n",
    "* Begin by opening a score on the CRIM New Relationships form:  https://crimproject.org/relationships/new/\n",
    "* You don't need to create a new Relationship, but simply **select the notes you want**.\n",
    "* Copy the ema selection, such as: `1-6/1-2,1-2,1-2,1-2,1-2,2/@1-3+@all,@1-3+@all,@1-3+@1-3,@1+@1-3,@all+@1-3,@1`\n",
    "* Make sure you import correct **score** of the piece into this Notebook\n",
    "* Paste the **`EMA address`** (the measures/staves/beats only) into the **`ema_pattern`** box below\n",
    "* Select the interval type, ngram length, \n",
    "\n",
    "* Check **`kind`** for `\"d\"` or `\"c\"` as needed\n",
    "* Select"
   ]
  },
  {
   "cell_type": "code",
   "execution_count": 8,
   "id": "3fa90072",
   "metadata": {},
   "outputs": [
    {
     "data": {
      "application/vnd.jupyter.widget-view+json": {
       "model_id": "7948f0dff06143fc8c9a1c0e3c1bc278",
       "version_major": 2,
       "version_minor": 0
      },
      "text/plain": [
       "interactive(children=(Text(value='', description='ema_pattern'), Dropdown(description='kind', options=('d', 'q…"
      ]
     },
     "metadata": {},
     "output_type": "display_data"
    }
   ],
   "source": [
    "@interact\n",
    "def get_ema_intervals(ema_pattern=\"\", \n",
    "                      kind=[\"d\", \"q\", \"c\", \"z\"], \n",
    "                      length=[1, 2, 3, 4, 5, 6], \n",
    "                     display=['melodic', 'harmonic', 'modules']):\n",
    "    \n",
    "    ema_clean = ema_pattern.replace('@all', '@1-4')\n",
    "    nr = piece.notes()\n",
    "    detNr = piece.detailIndex(nr, offset=True)\n",
    "    mel = piece.melodic(kind=kind)\n",
    "    har = piece.harmonic(kind=kind)\n",
    "    excerpt = ema2ex(ema_clean, detNr)\n",
    "    excerptOffsets = excerpt.index.get_level_values(2)\n",
    "    \n",
    "    if display == 'melodic':\n",
    "        ngrams = piece.ngrams(df=mel, n=length)\n",
    "        return ngrams.reindex(index = excerptOffsets).fillna('-')\n",
    "    elif display == 'harmonic':\n",
    "        ngrams = piece.ngrams(df=har, n=length)\n",
    "        return ngrams.reindex(index = excerptOffsets).fillna('-')\n",
    "    elif display == 'modules':\n",
    "        ngrams = piece.ngrams(df=har, other=mel, n=length)\n",
    "        return ngrams.reindex(index = excerptOffsets).fillna('-')"
   ]
  },
  {
   "cell_type": "code",
   "execution_count": 9,
   "id": "809efc99",
   "metadata": {},
   "outputs": [],
   "source": [
    "ema_pattern = \"1/5-6/@1-3+@1-3\"\n",
    "kind = \"d\""
   ]
  },
  {
   "cell_type": "code",
   "execution_count": 10,
   "id": "6ea6d6dd",
   "metadata": {},
   "outputs": [],
   "source": [
    "def convertTuple(tup):\n",
    "    out = \"\"\n",
    "    if isinstance(tup, tuple):\n",
    "        out = ', '.join(tup)\n",
    "    return out"
   ]
  },
  {
   "cell_type": "code",
   "execution_count": 11,
   "id": "0ad47a1a",
   "metadata": {},
   "outputs": [
    {
     "ename": "IndexError",
     "evalue": "index 4 is out of bounds for axis 0 with size 4",
     "output_type": "error",
     "traceback": [
      "\u001b[0;31m---------------------------------------------------------------------------\u001b[0m",
      "\u001b[0;31mIndexError\u001b[0m                                Traceback (most recent call last)",
      "\u001b[0;32m/var/folders/_s/4t2p1z2x0yxcv068dtqj31tw0000gq/T/ipykernel_3603/3394045556.py\u001b[0m in \u001b[0;36m<cell line: 7>\u001b[0;34m()\u001b[0m\n\u001b[1;32m      5\u001b[0m \u001b[0mmel\u001b[0m \u001b[0;34m=\u001b[0m \u001b[0mpiece\u001b[0m\u001b[0;34m.\u001b[0m\u001b[0mmelodic\u001b[0m\u001b[0;34m(\u001b[0m\u001b[0mkind\u001b[0m\u001b[0;34m=\u001b[0m\u001b[0mkind\u001b[0m\u001b[0;34m)\u001b[0m\u001b[0;34m\u001b[0m\u001b[0;34m\u001b[0m\u001b[0m\n\u001b[1;32m      6\u001b[0m \u001b[0mhar\u001b[0m \u001b[0;34m=\u001b[0m \u001b[0mpiece\u001b[0m\u001b[0;34m.\u001b[0m\u001b[0mharmonic\u001b[0m\u001b[0;34m(\u001b[0m\u001b[0mkind\u001b[0m\u001b[0;34m=\u001b[0m\u001b[0mkind\u001b[0m\u001b[0;34m)\u001b[0m\u001b[0;34m\u001b[0m\u001b[0;34m\u001b[0m\u001b[0m\n\u001b[0;32m----> 7\u001b[0;31m \u001b[0mexcerpt\u001b[0m \u001b[0;34m=\u001b[0m \u001b[0mema2ex\u001b[0m\u001b[0;34m(\u001b[0m\u001b[0mema_clean\u001b[0m\u001b[0;34m,\u001b[0m \u001b[0mdetNr\u001b[0m\u001b[0;34m)\u001b[0m\u001b[0;34m\u001b[0m\u001b[0;34m\u001b[0m\u001b[0m\n\u001b[0m\u001b[1;32m      8\u001b[0m \u001b[0;31m# excerptOffsets = excerpt.index.get_level_values(2)\u001b[0m\u001b[0;34m\u001b[0m\u001b[0;34m\u001b[0m\u001b[0m\n",
      "\u001b[0;32m~/opt/anaconda3/envs/intervals/lib/python3.9/site-packages/intervals/main.py\u001b[0m in \u001b[0;36mema2ex\u001b[0;34m(emaStr, df)\u001b[0m\n\u001b[1;32m    408\u001b[0m     \u001b[0mpost\u001b[0m \u001b[0;34m=\u001b[0m \u001b[0;34m{\u001b[0m\u001b[0;34m}\u001b[0m\u001b[0;34m\u001b[0m\u001b[0;34m\u001b[0m\u001b[0m\n\u001b[1;32m    409\u001b[0m     \u001b[0mmStr\u001b[0m\u001b[0;34m,\u001b[0m \u001b[0mvStr\u001b[0m\u001b[0;34m,\u001b[0m \u001b[0mbStr\u001b[0m \u001b[0;34m=\u001b[0m \u001b[0memaStr\u001b[0m\u001b[0;34m.\u001b[0m\u001b[0msplit\u001b[0m\u001b[0;34m(\u001b[0m\u001b[0;34m\"/\"\u001b[0m\u001b[0;34m)\u001b[0m\u001b[0;34m\u001b[0m\u001b[0;34m\u001b[0m\u001b[0m\n\u001b[0;32m--> 410\u001b[0;31m     \u001b[0mvoices\u001b[0m \u001b[0;34m=\u001b[0m \u001b[0m_emaVoiceHelper\u001b[0m\u001b[0;34m(\u001b[0m\u001b[0mvStr\u001b[0m\u001b[0;34m,\u001b[0m \u001b[0mdf\u001b[0m\u001b[0;34m.\u001b[0m\u001b[0mcolumns\u001b[0m\u001b[0;34m)\u001b[0m\u001b[0;34m\u001b[0m\u001b[0;34m\u001b[0m\u001b[0m\n\u001b[0m\u001b[1;32m    411\u001b[0m     \u001b[0mbeats\u001b[0m \u001b[0;34m=\u001b[0m \u001b[0m_emaBeatHelper\u001b[0m\u001b[0;34m(\u001b[0m\u001b[0mbStr\u001b[0m\u001b[0;34m)\u001b[0m\u001b[0;34m\u001b[0m\u001b[0;34m\u001b[0m\u001b[0m\n\u001b[1;32m    412\u001b[0m     \u001b[0;32mfor\u001b[0m \u001b[0mmi\u001b[0m\u001b[0;34m,\u001b[0m \u001b[0mmeasure\u001b[0m \u001b[0;32min\u001b[0m \u001b[0menumerate\u001b[0m\u001b[0;34m(\u001b[0m\u001b[0m_emaMeasureHelper\u001b[0m\u001b[0;34m(\u001b[0m\u001b[0mmStr\u001b[0m\u001b[0;34m)\u001b[0m\u001b[0;34m)\u001b[0m\u001b[0;34m:\u001b[0m\u001b[0;34m\u001b[0m\u001b[0;34m\u001b[0m\u001b[0m\n",
      "\u001b[0;32m~/opt/anaconda3/envs/intervals/lib/python3.9/site-packages/intervals/main.py\u001b[0m in \u001b[0;36m_emaVoiceHelper\u001b[0;34m(voiceStr, partNames)\u001b[0m\n\u001b[1;32m    378\u001b[0m         \u001b[0;32mfor\u001b[0m \u001b[0mspan\u001b[0m \u001b[0;32min\u001b[0m \u001b[0mspans\u001b[0m\u001b[0;34m:\u001b[0m\u001b[0;34m\u001b[0m\u001b[0;34m\u001b[0m\u001b[0m\n\u001b[1;32m    379\u001b[0m             \u001b[0mends\u001b[0m \u001b[0;34m=\u001b[0m \u001b[0;34m[\u001b[0m\u001b[0mint\u001b[0m\u001b[0;34m(\u001b[0m\u001b[0mvox\u001b[0m\u001b[0;34m)\u001b[0m \u001b[0;32mfor\u001b[0m \u001b[0mvox\u001b[0m \u001b[0;32min\u001b[0m \u001b[0mspan\u001b[0m\u001b[0;34m.\u001b[0m\u001b[0msplit\u001b[0m\u001b[0;34m(\u001b[0m\u001b[0;34m'-'\u001b[0m\u001b[0;34m)\u001b[0m\u001b[0;34m]\u001b[0m\u001b[0;34m\u001b[0m\u001b[0;34m\u001b[0m\u001b[0m\n\u001b[0;32m--> 380\u001b[0;31m             \u001b[0mthisMeasure\u001b[0m\u001b[0;34m.\u001b[0m\u001b[0mextend\u001b[0m\u001b[0;34m(\u001b[0m\u001b[0mpartNames\u001b[0m\u001b[0;34m[\u001b[0m\u001b[0mv\u001b[0m\u001b[0;34m]\u001b[0m \u001b[0;32mfor\u001b[0m \u001b[0mv\u001b[0m \u001b[0;32min\u001b[0m \u001b[0mrange\u001b[0m\u001b[0;34m(\u001b[0m\u001b[0mends\u001b[0m\u001b[0;34m[\u001b[0m\u001b[0;36m0\u001b[0m\u001b[0;34m]\u001b[0m \u001b[0;34m-\u001b[0m \u001b[0;36m1\u001b[0m\u001b[0;34m,\u001b[0m \u001b[0mends\u001b[0m\u001b[0;34m[\u001b[0m\u001b[0;34m-\u001b[0m\u001b[0;36m1\u001b[0m\u001b[0;34m]\u001b[0m\u001b[0;34m)\u001b[0m\u001b[0;34m)\u001b[0m\u001b[0;34m\u001b[0m\u001b[0;34m\u001b[0m\u001b[0m\n\u001b[0m\u001b[1;32m    381\u001b[0m         \u001b[0mret\u001b[0m\u001b[0;34m.\u001b[0m\u001b[0mappend\u001b[0m\u001b[0;34m(\u001b[0m\u001b[0mthisMeasure\u001b[0m\u001b[0;34m)\u001b[0m\u001b[0;34m\u001b[0m\u001b[0;34m\u001b[0m\u001b[0m\n\u001b[1;32m    382\u001b[0m     \u001b[0;32mreturn\u001b[0m \u001b[0mret\u001b[0m\u001b[0;34m\u001b[0m\u001b[0;34m\u001b[0m\u001b[0m\n",
      "\u001b[0;32m~/opt/anaconda3/envs/intervals/lib/python3.9/site-packages/intervals/main.py\u001b[0m in \u001b[0;36m<genexpr>\u001b[0;34m(.0)\u001b[0m\n\u001b[1;32m    378\u001b[0m         \u001b[0;32mfor\u001b[0m \u001b[0mspan\u001b[0m \u001b[0;32min\u001b[0m \u001b[0mspans\u001b[0m\u001b[0;34m:\u001b[0m\u001b[0;34m\u001b[0m\u001b[0;34m\u001b[0m\u001b[0m\n\u001b[1;32m    379\u001b[0m             \u001b[0mends\u001b[0m \u001b[0;34m=\u001b[0m \u001b[0;34m[\u001b[0m\u001b[0mint\u001b[0m\u001b[0;34m(\u001b[0m\u001b[0mvox\u001b[0m\u001b[0;34m)\u001b[0m \u001b[0;32mfor\u001b[0m \u001b[0mvox\u001b[0m \u001b[0;32min\u001b[0m \u001b[0mspan\u001b[0m\u001b[0;34m.\u001b[0m\u001b[0msplit\u001b[0m\u001b[0;34m(\u001b[0m\u001b[0;34m'-'\u001b[0m\u001b[0;34m)\u001b[0m\u001b[0;34m]\u001b[0m\u001b[0;34m\u001b[0m\u001b[0;34m\u001b[0m\u001b[0m\n\u001b[0;32m--> 380\u001b[0;31m             \u001b[0mthisMeasure\u001b[0m\u001b[0;34m.\u001b[0m\u001b[0mextend\u001b[0m\u001b[0;34m(\u001b[0m\u001b[0mpartNames\u001b[0m\u001b[0;34m[\u001b[0m\u001b[0mv\u001b[0m\u001b[0;34m]\u001b[0m \u001b[0;32mfor\u001b[0m \u001b[0mv\u001b[0m \u001b[0;32min\u001b[0m \u001b[0mrange\u001b[0m\u001b[0;34m(\u001b[0m\u001b[0mends\u001b[0m\u001b[0;34m[\u001b[0m\u001b[0;36m0\u001b[0m\u001b[0;34m]\u001b[0m \u001b[0;34m-\u001b[0m \u001b[0;36m1\u001b[0m\u001b[0;34m,\u001b[0m \u001b[0mends\u001b[0m\u001b[0;34m[\u001b[0m\u001b[0;34m-\u001b[0m\u001b[0;36m1\u001b[0m\u001b[0;34m]\u001b[0m\u001b[0;34m)\u001b[0m\u001b[0;34m)\u001b[0m\u001b[0;34m\u001b[0m\u001b[0;34m\u001b[0m\u001b[0m\n\u001b[0m\u001b[1;32m    381\u001b[0m         \u001b[0mret\u001b[0m\u001b[0;34m.\u001b[0m\u001b[0mappend\u001b[0m\u001b[0;34m(\u001b[0m\u001b[0mthisMeasure\u001b[0m\u001b[0;34m)\u001b[0m\u001b[0;34m\u001b[0m\u001b[0;34m\u001b[0m\u001b[0m\n\u001b[1;32m    382\u001b[0m     \u001b[0;32mreturn\u001b[0m \u001b[0mret\u001b[0m\u001b[0;34m\u001b[0m\u001b[0;34m\u001b[0m\u001b[0m\n",
      "\u001b[0;32m~/opt/anaconda3/envs/intervals/lib/python3.9/site-packages/pandas/core/indexes/base.py\u001b[0m in \u001b[0;36m__getitem__\u001b[0;34m(self, key)\u001b[0m\n\u001b[1;32m   4295\u001b[0m         \u001b[0;32mif\u001b[0m \u001b[0mis_scalar\u001b[0m\u001b[0;34m(\u001b[0m\u001b[0mkey\u001b[0m\u001b[0;34m)\u001b[0m\u001b[0;34m:\u001b[0m\u001b[0;34m\u001b[0m\u001b[0;34m\u001b[0m\u001b[0m\n\u001b[1;32m   4296\u001b[0m             \u001b[0mkey\u001b[0m \u001b[0;34m=\u001b[0m \u001b[0mcom\u001b[0m\u001b[0;34m.\u001b[0m\u001b[0mcast_scalar_indexer\u001b[0m\u001b[0;34m(\u001b[0m\u001b[0mkey\u001b[0m\u001b[0;34m,\u001b[0m \u001b[0mwarn_float\u001b[0m\u001b[0;34m=\u001b[0m\u001b[0;32mTrue\u001b[0m\u001b[0;34m)\u001b[0m\u001b[0;34m\u001b[0m\u001b[0;34m\u001b[0m\u001b[0m\n\u001b[0;32m-> 4297\u001b[0;31m             \u001b[0;32mreturn\u001b[0m \u001b[0mgetitem\u001b[0m\u001b[0;34m(\u001b[0m\u001b[0mkey\u001b[0m\u001b[0;34m)\u001b[0m\u001b[0;34m\u001b[0m\u001b[0;34m\u001b[0m\u001b[0m\n\u001b[0m\u001b[1;32m   4298\u001b[0m \u001b[0;34m\u001b[0m\u001b[0m\n\u001b[1;32m   4299\u001b[0m         \u001b[0;32mif\u001b[0m \u001b[0misinstance\u001b[0m\u001b[0;34m(\u001b[0m\u001b[0mkey\u001b[0m\u001b[0;34m,\u001b[0m \u001b[0mslice\u001b[0m\u001b[0;34m)\u001b[0m\u001b[0;34m:\u001b[0m\u001b[0;34m\u001b[0m\u001b[0;34m\u001b[0m\u001b[0m\n",
      "\u001b[0;31mIndexError\u001b[0m: index 4 is out of bounds for axis 0 with size 4"
     ]
    }
   ],
   "source": [
    "ema_clean = ema_pattern.replace('@all', '@1-4')\n",
    "nr = piece.notes()\n",
    "detNr = piece.detailIndex(nr, offset=True)\n",
    "detNr = detNr.applymap(convertTuple)\n",
    "mel = piece.melodic(kind=kind)\n",
    "har = piece.harmonic(kind=kind)\n",
    "excerpt = ema2ex(ema_clean, detNr)\n",
    "# excerptOffsets = excerpt.index.get_level_values(2)"
   ]
  },
  {
   "cell_type": "code",
   "execution_count": 12,
   "id": "d00bface",
   "metadata": {},
   "outputs": [],
   "source": [
    "string = \"1, 2-4\""
   ]
  },
  {
   "cell_type": "code",
   "execution_count": 13,
   "id": "841a1b6a",
   "metadata": {},
   "outputs": [
    {
     "name": "stdout",
     "output_type": "stream",
     "text": [
      "1\n",
      "2\n",
      "3\n",
      "4\n"
     ]
    }
   ],
   "source": [
    "measures = []\n",
    "chunks = string.split(',')\n",
    "for chunk in chunks:\n",
    "    spans = chunk.split('+')\n",
    "    for span in spans:\n",
    "        if len(span) == 1:\n",
    "            print(span)\n",
    "        else:\n",
    "            ends = tuple(int(m) for m in span.split('-'))\n",
    "            for m in range(ends[0], ends[1] + 1):\n",
    "                print(m)"
   ]
  },
  {
   "cell_type": "code",
   "execution_count": 14,
   "id": "fd1caf56",
   "metadata": {},
   "outputs": [
    {
     "ename": "SyntaxError",
     "evalue": "'yield' outside function (1001506269.py, line 7)",
     "output_type": "error",
     "traceback": [
      "\u001b[0;36m  File \u001b[0;32m\"/var/folders/_s/4t2p1z2x0yxcv068dtqj31tw0000gq/T/ipykernel_3603/1001506269.py\"\u001b[0;36m, line \u001b[0;32m7\u001b[0m\n\u001b[0;31m    yield span\u001b[0m\n\u001b[0m    ^\u001b[0m\n\u001b[0;31mSyntaxError\u001b[0m\u001b[0;31m:\u001b[0m 'yield' outside function\n"
     ]
    }
   ],
   "source": [
    "measures = []\n",
    "chunks = string.split(',')\n",
    "for chunk in chunks:\n",
    "    spans = chunk.split('+')\n",
    "    for span in spans:\n",
    "        if len(span) == 1:\n",
    "            yield span\n",
    "        else:\n",
    "            ends = tuple(int(m) for m in span.split('-'))\n",
    "            for m in range(ends[0], ends[1] + 1):\n",
    "                yield m"
   ]
  },
  {
   "cell_type": "code",
   "execution_count": null,
   "id": "2e60e292",
   "metadata": {},
   "outputs": [],
   "source": []
  }
 ],
 "metadata": {
  "kernelspec": {
   "display_name": "Python 3 (ipykernel)",
   "language": "python",
   "name": "python3"
  },
  "language_info": {
   "codemirror_mode": {
    "name": "ipython",
    "version": 3
   },
   "file_extension": ".py",
   "mimetype": "text/x-python",
   "name": "python",
   "nbconvert_exporter": "python",
   "pygments_lexer": "ipython3",
   "version": "3.9.12"
  }
 },
 "nbformat": 4,
 "nbformat_minor": 5
}
